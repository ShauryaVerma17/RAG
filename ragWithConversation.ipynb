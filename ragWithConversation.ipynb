{
 "cells": [
  {
   "cell_type": "markdown",
   "metadata": {},
   "source": [
    "### Required Libraries"
   ]
  },
  {
   "cell_type": "code",
   "execution_count": 1,
   "metadata": {},
   "outputs": [],
   "source": [
    "from langchain_community.embeddings import OllamaEmbeddings\n",
    "from langchain_community.llms import Ollama\n",
    "from langchain.prompts import PromptTemplate\n",
    "from operator import itemgetter\n",
    "from langchain.chains import ConversationChain\n",
    "from langchain.memory import ConversationBufferMemory\n",
    "from langchain_community.document_loaders import DirectoryLoader\n",
    "from langchain_text_splitters import CharacterTextSplitter\n",
    "from langchain_community.vectorstores import FAISS\n",
    "from langchain_community.document_loaders.pdf import PyMuPDFLoader"
   ]
  },
  {
   "cell_type": "markdown",
   "metadata": {},
   "source": [
    "### Defining the models"
   ]
  },
  {
   "cell_type": "code",
   "execution_count": 2,
   "metadata": {},
   "outputs": [],
   "source": [
    "Model = \"llama3\"; \n",
    "Embedding_Model = \"mxbai-embed-large\"\n",
    "model = Ollama(model=Model)"
   ]
  },
  {
   "cell_type": "markdown",
   "metadata": {},
   "source": [
    "### Loading data and splitting into chunks"
   ]
  },
  {
   "cell_type": "code",
   "execution_count": 3,
   "metadata": {},
   "outputs": [
    {
     "name": "stderr",
     "output_type": "stream",
     "text": [
      "Created a chunk of size 1161, which is longer than the specified 1000\n",
      "Created a chunk of size 2033, which is longer than the specified 1000\n",
      "Created a chunk of size 2603, which is longer than the specified 1000\n",
      "Created a chunk of size 1782, which is longer than the specified 1000\n",
      "Created a chunk of size 5099, which is longer than the specified 1000\n",
      "Created a chunk of size 2110, which is longer than the specified 1000\n",
      "Created a chunk of size 1398, which is longer than the specified 1000\n",
      "Created a chunk of size 3672, which is longer than the specified 1000\n",
      "Created a chunk of size 1463, which is longer than the specified 1000\n",
      "Created a chunk of size 1654, which is longer than the specified 1000\n",
      "Created a chunk of size 2628, which is longer than the specified 1000\n",
      "Created a chunk of size 1706, which is longer than the specified 1000\n",
      "Created a chunk of size 1773, which is longer than the specified 1000\n",
      "Created a chunk of size 2232, which is longer than the specified 1000\n",
      "Created a chunk of size 2492, which is longer than the specified 1000\n",
      "Created a chunk of size 2454, which is longer than the specified 1000\n"
     ]
    }
   ],
   "source": [
    "loader = DirectoryLoader(path=\"testDataMD\",glob=\"*.txt\")\n",
    "documents = loader.load()\n",
    "\n",
    "text_splitter = CharacterTextSplitter(separator=\"##\", chunk_size=1000, chunk_overlap=0)\n",
    "docs2 = text_splitter.split_documents(documents)"
   ]
  },
  {
   "cell_type": "markdown",
   "metadata": {},
   "source": [
    "### Creating the vectorstore"
   ]
  },
  {
   "cell_type": "code",
   "execution_count": 4,
   "metadata": {},
   "outputs": [],
   "source": [
    "vectors = FAISS.from_documents(docs2, OllamaEmbeddings(model = Model))\n",
    "retriever2 = vectors.as_retriever()"
   ]
  },
  {
   "cell_type": "markdown",
   "metadata": {},
   "source": [
    "### Defining the RAG Model"
   ]
  },
  {
   "cell_type": "code",
   "execution_count": 18,
   "metadata": {},
   "outputs": [],
   "source": [
    "# A function to combine retrieved documents into a string \n",
    "\n",
    "def combineDocs(docs):\n",
    "    context = \"\\n\\n\".join(f'Document [ Metadata : \\n{doc.metadata} \\nPage Content : \\n{doc.page_content} ]' for doc in docs)\n",
    "    return context\n",
    "\n",
    "def combineDocs2(docs):\n",
    "    context = \"\\n\\n\".join(f'{doc.page_content}'  for doc in docs)\n",
    "    return context"
   ]
  },
  {
   "cell_type": "markdown",
   "metadata": {},
   "source": [
    "#### Method 1 (Complicated internet answer)"
   ]
  },
  {
   "cell_type": "code",
   "execution_count": 6,
   "metadata": {},
   "outputs": [],
   "source": [
    "def create_model(vectorDB):\n",
    "    \n",
    "    # This is where the conversation will be stored\n",
    "    memory = ConversationBufferMemory()\n",
    "\n",
    "    # Creating a conversation model for ConvChain\n",
    "\n",
    "    def rag_retrieval(question, memory):\n",
    "\n",
    "        # Retrieve docs from vector DB\n",
    "        docs = vectorDB.similarity_search(question, k = 4)\n",
    "        context = combineDocs2(docs)\n",
    "\n",
    "        conversation = memory.load_memory_variables({}).get('history', '')\n",
    "\n",
    "        # Add context to the prompt\n",
    "        prompt = f'Answer the question based on the context below and the previous conversations. If you cannot\\nanswer the question, reply \"Oof that\\'s a tough one, i don\\'t really know this\"\\n\\nPrevious Conversation : \\n{conversation}\\n\\nContext : \\n{context}\\n\\nQuestion from user: {question}'\n",
    "\n",
    "        response = model.invoke(prompt)\n",
    "\n",
    "        memory.add_user_message(question)\n",
    "        memory.add_bot_message(response)\n",
    "\n",
    "        return response\n",
    "    \n",
    "    chain = ConversationChain(memory = memory, conversation_model = rag_retrieval)\n",
    "\n",
    "    return chain"
   ]
  },
  {
   "cell_type": "markdown",
   "metadata": {},
   "source": [
    "#### Method 2 (Self)"
   ]
  },
  {
   "cell_type": "code",
   "execution_count": 19,
   "metadata": {},
   "outputs": [],
   "source": [
    "chatHistory = \"\\n\"\n",
    "\n",
    "latestPrompt = \"\"\n",
    "\n",
    "template = \"\"\"\n",
    "You are a personal assistant answering the user's questions. You are answering questions based on the context that user is providing and the conversation history.\n",
    "\n",
    "Context given by user : \\n{context}\n",
    "\n",
    "Current Conversation : \\n\n",
    "{conversation}\n",
    "\\n\n",
    "User's Question : {question}\n",
    "\n",
    "Assistant : \n",
    "\n",
    "\"\"\"\n",
    "\n",
    "prompt = PromptTemplate.from_template(template)\n",
    "\n",
    "def chat(question): \n",
    "    \n",
    "    global chatHistory\n",
    "    global latestPrompt\n",
    "    # Retrieve docs from vector DB\n",
    "    docs = vectors.similarity_search(question, k = 4)\n",
    "    contextString = combineDocs2(docs)\n",
    "    \n",
    "    query = prompt.format(conversation = chatHistory, context = contextString, question = question)\n",
    "    latestPrompt = query\n",
    "    response = model.invoke(query)\n",
    "    \n",
    "    chatHistory = chatHistory + \"\\n\\nUser : \" + question + \"\\n\\nAssistant : \" + response\n",
    "\n",
    "    return response\n"
   ]
  },
  {
   "cell_type": "code",
   "execution_count": 20,
   "metadata": {},
   "outputs": [
    {
     "data": {
      "text/plain": [
       "'The browser\\'s high-level structure consists of several components:\\n\\n1. **User Interface (UI):** This includes the address bar, back/forward button, bookmarking menu, and other visual elements that users interact with.\\n2. **Browser Engine:** This marshals actions between the UI and the rendering engine, ensuring a seamless interaction between these two components.\\n3. **Rendering Engine:** Responsible for displaying requested content, including parsing HTML and CSS, and displaying the parsed content on the screen.\\n4. **Networking:** Handles network calls such as HTTP requests, using different implementations for different platforms (behind a platform-independent interface).\\n5. **UI Backend:** Used for drawing basic widgets like combo boxes and windows, exposing a generic interface that is not platform-specific. This backend uses operating system user interface methods.\\n6. **JavaScript Engine:** Interpreter used to parse and execute JavaScript code.\\n7. **Data Storage:** A persistence layer where the browser stores data locally, such as cookies, or using mechanisms like local storage, IndexedDB, or FileSystem.\\n\\nHere\\'s a visual representation of these components:\\n\\n<p align=\"center\">\\n<img src=\"img/layers.png\" alt=\"Browser Components\"/>\\n</p>\\n\\nLet me know if you have any further questions!'"
      ]
     },
     "execution_count": 20,
     "metadata": {},
     "output_type": "execute_result"
    }
   ],
   "source": [
    "chat(\"What is a browser's high level structure?\")"
   ]
  },
  {
   "cell_type": "code",
   "execution_count": 21,
   "metadata": {},
   "outputs": [
    {
     "name": "stdout",
     "output_type": "stream",
     "text": [
      "\n",
      "\n",
      "User : What is a browser's high level structure?\n",
      "Assistant : The browser's high-level structure consists of several components:\n",
      "\n",
      "1. **User Interface (UI):** This includes the address bar, back/forward button, bookmarking menu, and other visual elements that users interact with.\n",
      "2. **Browser Engine:** This marshals actions between the UI and the rendering engine, ensuring a seamless interaction between these two components.\n",
      "3. **Rendering Engine:** Responsible for displaying requested content, including parsing HTML and CSS, and displaying the parsed content on the screen.\n",
      "4. **Networking:** Handles network calls such as HTTP requests, using different implementations for different platforms (behind a platform-independent interface).\n",
      "5. **UI Backend:** Used for drawing basic widgets like combo boxes and windows, exposing a generic interface that is not platform-specific. This backend uses operating system user interface methods.\n",
      "6. **JavaScript Engine:** Interpreter used to parse and execute JavaScript code.\n",
      "7. **Data Storage:** A persistence layer where the browser stores data locally, such as cookies, or using mechanisms like local storage, IndexedDB, or FileSystem.\n",
      "\n",
      "Here's a visual representation of these components:\n",
      "\n",
      "<p align=\"center\">\n",
      "<img src=\"img/layers.png\" alt=\"Browser Components\"/>\n",
      "</p>\n",
      "\n",
      "Let me know if you have any further questions!\n"
     ]
    }
   ],
   "source": [
    "print(chatHistory)"
   ]
  },
  {
   "cell_type": "code",
   "execution_count": 22,
   "metadata": {},
   "outputs": [
    {
     "data": {
      "text/plain": [
       "\"Here is the answer to your previous question in a paragraph:\\n\\nA browser's high-level structure consists of several components that work together to provide a seamless browsing experience. At the top level, there is the User Interface (UI), which includes the address bar, back/forward button, bookmarking menu, and other visual elements that users interact with. Below this, we have the Browser Engine, which marshals actions between the UI and the rendering engine, ensuring a smooth interaction between these two components. The Rendering Engine is responsible for displaying requested content, including parsing HTML and CSS, and displaying the parsed content on the screen. Networking handles network calls such as HTTP requests, using different implementations for different platforms. The UI Backend is used for drawing basic widgets like combo boxes and windows, exposing a generic interface that is not platform-specific. This backend uses operating system user interface methods. Finally, the JavaScript Engine interprets and executes JavaScript code, while Data Storage provides a persistence layer where the browser stores data locally, such as cookies, or using mechanisms like local storage, IndexedDB, or FileSystem.\""
      ]
     },
     "execution_count": 22,
     "metadata": {},
     "output_type": "execute_result"
    }
   ],
   "source": [
    "chat(\"Can you give me the answer to my previous question as a paragraph?\")"
   ]
  },
  {
   "cell_type": "code",
   "execution_count": 25,
   "metadata": {},
   "outputs": [
    {
     "data": {
      "text/plain": [
       "'A DNS lookup is the process by which a computer translates a human-readable domain name into an IP address. Here are the steps involved in a DNS lookup:\\n\\n1. **User Request:** When you enter a URL in your browser, your operating system sends a request to the DNS resolver (usually provided by your operating system or web browser) to resolve the domain name.\\n2. **Root DNS Server:** The DNS resolver starts at the root DNS server, which is like a phonebook for the internet. It asks the root server what the authoritative DNS server is for the top-level domain (TLD) of the URL you entered (e.g., .com).\\n3. **TLD DNS Server:** The root DNS server directs the DNS resolver to the TLD DNS server. In this case, it would be the .com DNS server.\\n4. **Authoritative DNS Server:** The TLD DNS server tells the DNS resolver where to find the authoritative DNS server for the specific domain name (e.g., example.com).\\n5. **Zone File Query:** The authoritative DNS server checks its zone file, which contains information about all the domains it is responsible for. It looks up the IP address associated with the domain name you entered.\\n6. **Response:** The authoritative DNS server sends the IP address back to the DNS resolver, which then returns it to your operating system or web browser.\\n7. **Cache Update:** Finally, the DNS resolver caches the response so that if someone else on the same network looks up the same domain name, they can retrieve the cached IP address instead of going through the entire process again.\\n\\nThis is how a DNS lookup works!'"
      ]
     },
     "execution_count": 25,
     "metadata": {},
     "output_type": "execute_result"
    }
   ],
   "source": [
    "chat(\"What is a DNS lookup?\")"
   ]
  },
  {
   "cell_type": "code",
   "execution_count": 27,
   "metadata": {},
   "outputs": [
    {
     "name": "stdout",
     "output_type": "stream",
     "text": [
      "\n",
      "\n",
      "User : What is a browser's high level structure?\n",
      "Assistant : The browser's high-level structure consists of several components:\n",
      "\n",
      "1. **User Interface (UI):** This includes the address bar, back/forward button, bookmarking menu, and other visual elements that users interact with.\n",
      "2. **Browser Engine:** This marshals actions between the UI and the rendering engine, ensuring a seamless interaction between these two components.\n",
      "3. **Rendering Engine:** Responsible for displaying requested content, including parsing HTML and CSS, and displaying the parsed content on the screen.\n",
      "4. **Networking:** Handles network calls such as HTTP requests, using different implementations for different platforms (behind a platform-independent interface).\n",
      "5. **UI Backend:** Used for drawing basic widgets like combo boxes and windows, exposing a generic interface that is not platform-specific. This backend uses operating system user interface methods.\n",
      "6. **JavaScript Engine:** Interpreter used to parse and execute JavaScript code.\n",
      "7. **Data Storage:** A persistence layer where the browser stores data locally, such as cookies, or using mechanisms like local storage, IndexedDB, or FileSystem.\n",
      "\n",
      "Here's a visual representation of these components:\n",
      "\n",
      "<p align=\"center\">\n",
      "<img src=\"img/layers.png\" alt=\"Browser Components\"/>\n",
      "</p>\n",
      "\n",
      "Let me know if you have any further questions!\n",
      "User : Can you give me the answer to my previous question as a paragraph?\n",
      "Assistant : Here is the answer to your previous question in a paragraph:\n",
      "\n",
      "A browser's high-level structure consists of several components that work together to provide a seamless browsing experience. At the top level, there is the User Interface (UI), which includes the address bar, back/forward button, bookmarking menu, and other visual elements that users interact with. Below this, we have the Browser Engine, which marshals actions between the UI and the rendering engine, ensuring a smooth interaction between these two components. The Rendering Engine is responsible for displaying requested content, including parsing HTML and CSS, and displaying the parsed content on the screen. Networking handles network calls such as HTTP requests, using different implementations for different platforms. The UI Backend is used for drawing basic widgets like combo boxes and windows, exposing a generic interface that is not platform-specific. This backend uses operating system user interface methods. Finally, the JavaScript Engine interprets and executes JavaScript code, while Data Storage provides a persistence layer where the browser stores data locally, such as cookies, or using mechanisms like local storage, IndexedDB, or FileSystem.\n",
      "User : What are the steps in a DNS lookup?\n",
      "Assistant : Let me answer that for you!\n",
      "\n",
      "To process a plain HTML page with some text and a single image, the browser needs to go through four main steps:\n",
      "\n",
      "1. **Conversion:** The browser reads the raw bytes of the HTML off the disk or network and translates them into individual characters based on the specified encoding of the file (e.g., UTF-8).\n",
      "\n",
      "2. **Tokenizing:** The browser converts strings of characters into distinct tokens, as specified by the W3C HTML5 standard (e.g., \"<html>\", \"<body>\", and other strings within the \"angle brackets\"). Each token has a special meaning and set of rules.\n",
      "\n",
      "3. **Lexing:** The emitted tokens are converted into \"objects\" that define their properties and rules.\n",
      "\n",
      "4. **DOM construction:** Finally, because the HTML markup defines relationships between different tags (some tags are contained within others), the created objects are linked in a tree data structure that captures the parent-child relationships defined in the original markup: HTML is a parent of the body object, the body is a parent of the paragraph object, and so on.\n",
      "\n",
      "The final output of this entire process is the Document Object Model (DOM) or \"DOM\" of our simple page, which the browser uses for all further processing of the page.\n",
      "User : What is a DNS lookup?\n",
      "Assistant : A DNS lookup is the process by which a computer translates a human-readable domain name into an IP address. Here are the steps involved in a DNS lookup:\n",
      "\n",
      "1. **User Request:** When you enter a URL in your browser, your operating system sends a request to the DNS resolver (usually provided by your operating system or web browser) to resolve the domain name.\n",
      "2. **Root DNS Server:** The DNS resolver starts at the root DNS server, which is like a phonebook for the internet. It asks the root server what the authoritative DNS server is for the top-level domain (TLD) of the URL you entered (e.g., .com).\n",
      "3. **TLD DNS Server:** The root DNS server directs the DNS resolver to the TLD DNS server. In this case, it would be the .com DNS server.\n",
      "4. **Authoritative DNS Server:** The TLD DNS server tells the DNS resolver where to find the authoritative DNS server for the specific domain name (e.g., example.com).\n",
      "5. **Zone File Query:** The authoritative DNS server checks its zone file, which contains information about all the domains it is responsible for. It looks up the IP address associated with the domain name you entered.\n",
      "6. **Response:** The authoritative DNS server sends the IP address back to the DNS resolver, which then returns it to your operating system or web browser.\n",
      "7. **Cache Update:** Finally, the DNS resolver caches the response so that if someone else on the same network looks up the same domain name, they can retrieve the cached IP address instead of going through the entire process again.\n",
      "\n",
      "This is how a DNS lookup works!\n"
     ]
    }
   ],
   "source": [
    "print(chatHistory)"
   ]
  },
  {
   "cell_type": "code",
   "execution_count": 28,
   "metadata": {},
   "outputs": [
    {
     "data": {
      "text/plain": [
       "'Here is the answer to your previous question in a paragraph:\\n\\nA DNS lookup is the process by which a computer translates a human-readable domain name into an IP address. When you enter a URL in your browser, your operating system sends a request to the DNS resolver to resolve the domain name. The DNS resolver starts at the root DNS server, asking what the authoritative DNS server is for the top-level domain of the URL you entered. From there, it follows a series of steps to find the authoritative DNS server for the specific domain name and retrieve the associated IP address. This process involves checking zone files and caching responses so that subsequent lookups can be resolved more quickly.'"
      ]
     },
     "execution_count": 28,
     "metadata": {},
     "output_type": "execute_result"
    }
   ],
   "source": [
    "chat(\"can you give me the ansewer to my last question as a paragraph?\")"
   ]
  },
  {
   "cell_type": "code",
   "execution_count": 29,
   "metadata": {},
   "outputs": [
    {
     "name": "stdout",
     "output_type": "stream",
     "text": [
      "\n",
      "\n",
      "User : What is a browser's high level structure?\n",
      "Assistant : The browser's high-level structure consists of several components:\n",
      "\n",
      "1. **User Interface (UI):** This includes the address bar, back/forward button, bookmarking menu, and other visual elements that users interact with.\n",
      "2. **Browser Engine:** This marshals actions between the UI and the rendering engine, ensuring a seamless interaction between these two components.\n",
      "3. **Rendering Engine:** Responsible for displaying requested content, including parsing HTML and CSS, and displaying the parsed content on the screen.\n",
      "4. **Networking:** Handles network calls such as HTTP requests, using different implementations for different platforms (behind a platform-independent interface).\n",
      "5. **UI Backend:** Used for drawing basic widgets like combo boxes and windows, exposing a generic interface that is not platform-specific. This backend uses operating system user interface methods.\n",
      "6. **JavaScript Engine:** Interpreter used to parse and execute JavaScript code.\n",
      "7. **Data Storage:** A persistence layer where the browser stores data locally, such as cookies, or using mechanisms like local storage, IndexedDB, or FileSystem.\n",
      "\n",
      "Here's a visual representation of these components:\n",
      "\n",
      "<p align=\"center\">\n",
      "<img src=\"img/layers.png\" alt=\"Browser Components\"/>\n",
      "</p>\n",
      "\n",
      "Let me know if you have any further questions!\n",
      "User : Can you give me the answer to my previous question as a paragraph?\n",
      "Assistant : Here is the answer to your previous question in a paragraph:\n",
      "\n",
      "A browser's high-level structure consists of several components that work together to provide a seamless browsing experience. At the top level, there is the User Interface (UI), which includes the address bar, back/forward button, bookmarking menu, and other visual elements that users interact with. Below this, we have the Browser Engine, which marshals actions between the UI and the rendering engine, ensuring a smooth interaction between these two components. The Rendering Engine is responsible for displaying requested content, including parsing HTML and CSS, and displaying the parsed content on the screen. Networking handles network calls such as HTTP requests, using different implementations for different platforms. The UI Backend is used for drawing basic widgets like combo boxes and windows, exposing a generic interface that is not platform-specific. This backend uses operating system user interface methods. Finally, the JavaScript Engine interprets and executes JavaScript code, while Data Storage provides a persistence layer where the browser stores data locally, such as cookies, or using mechanisms like local storage, IndexedDB, or FileSystem.\n",
      "User : What are the steps in a DNS lookup?\n",
      "Assistant : Let me answer that for you!\n",
      "\n",
      "To process a plain HTML page with some text and a single image, the browser needs to go through four main steps:\n",
      "\n",
      "1. **Conversion:** The browser reads the raw bytes of the HTML off the disk or network and translates them into individual characters based on the specified encoding of the file (e.g., UTF-8).\n",
      "\n",
      "2. **Tokenizing:** The browser converts strings of characters into distinct tokens, as specified by the W3C HTML5 standard (e.g., \"<html>\", \"<body>\", and other strings within the \"angle brackets\"). Each token has a special meaning and set of rules.\n",
      "\n",
      "3. **Lexing:** The emitted tokens are converted into \"objects\" that define their properties and rules.\n",
      "\n",
      "4. **DOM construction:** Finally, because the HTML markup defines relationships between different tags (some tags are contained within others), the created objects are linked in a tree data structure that captures the parent-child relationships defined in the original markup: HTML is a parent of the body object, the body is a parent of the paragraph object, and so on.\n",
      "\n",
      "The final output of this entire process is the Document Object Model (DOM) or \"DOM\" of our simple page, which the browser uses for all further processing of the page.\n",
      "User : What is a DNS lookup?\n",
      "Assistant : A DNS lookup is the process by which a computer translates a human-readable domain name into an IP address. Here are the steps involved in a DNS lookup:\n",
      "\n",
      "1. **User Request:** When you enter a URL in your browser, your operating system sends a request to the DNS resolver (usually provided by your operating system or web browser) to resolve the domain name.\n",
      "2. **Root DNS Server:** The DNS resolver starts at the root DNS server, which is like a phonebook for the internet. It asks the root server what the authoritative DNS server is for the top-level domain (TLD) of the URL you entered (e.g., .com).\n",
      "3. **TLD DNS Server:** The root DNS server directs the DNS resolver to the TLD DNS server. In this case, it would be the .com DNS server.\n",
      "4. **Authoritative DNS Server:** The TLD DNS server tells the DNS resolver where to find the authoritative DNS server for the specific domain name (e.g., example.com).\n",
      "5. **Zone File Query:** The authoritative DNS server checks its zone file, which contains information about all the domains it is responsible for. It looks up the IP address associated with the domain name you entered.\n",
      "6. **Response:** The authoritative DNS server sends the IP address back to the DNS resolver, which then returns it to your operating system or web browser.\n",
      "7. **Cache Update:** Finally, the DNS resolver caches the response so that if someone else on the same network looks up the same domain name, they can retrieve the cached IP address instead of going through the entire process again.\n",
      "\n",
      "This is how a DNS lookup works!\n",
      "User : can you give me the ansewer to my last question as a paragraph?\n",
      "Assistant : Here is the answer to your previous question in a paragraph:\n",
      "\n",
      "A DNS lookup is the process by which a computer translates a human-readable domain name into an IP address. When you enter a URL in your browser, your operating system sends a request to the DNS resolver to resolve the domain name. The DNS resolver starts at the root DNS server, asking what the authoritative DNS server is for the top-level domain of the URL you entered. From there, it follows a series of steps to find the authoritative DNS server for the specific domain name and retrieve the associated IP address. This process involves checking zone files and caching responses so that subsequent lookups can be resolved more quickly.\n"
     ]
    }
   ],
   "source": [
    "print(chatHistory)"
   ]
  },
  {
   "cell_type": "code",
   "execution_count": null,
   "metadata": {},
   "outputs": [],
   "source": []
  }
 ],
 "metadata": {
  "kernelspec": {
   "display_name": ".venv",
   "language": "python",
   "name": "python3"
  },
  "language_info": {
   "codemirror_mode": {
    "name": "ipython",
    "version": 3
   },
   "file_extension": ".py",
   "mimetype": "text/x-python",
   "name": "python",
   "nbconvert_exporter": "python",
   "pygments_lexer": "ipython3",
   "version": "3.12.4"
  }
 },
 "nbformat": 4,
 "nbformat_minor": 2
}
