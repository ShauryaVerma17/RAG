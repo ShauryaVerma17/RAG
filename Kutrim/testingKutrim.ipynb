{
 "cells": [
  {
   "cell_type": "code",
   "execution_count": 4,
   "metadata": {},
   "outputs": [],
   "source": [
    "from openai import OpenAI"
   ]
  },
  {
   "cell_type": "code",
   "execution_count": 5,
   "metadata": {},
   "outputs": [],
   "source": [
    "openai = OpenAI(\n",
    "    api_key=\"inBDeK_xX6/rg-4kA5__zUJ\", # Refer to Create a secret key section\n",
    "    base_url=\"https://cloud.olakrutrim.com/v1\",\n",
    ")"
   ]
  },
  {
   "cell_type": "code",
   "execution_count": 18,
   "metadata": {},
   "outputs": [],
   "source": [
    "chat_completion = openai.chat.completions.create(\n",
    "#model=\"Meta-Llama-3-8B-Instruct\",\n",
    "model=\"Mistral-7B-Instruct\",\n",
    "messages=[\n",
    "    {\"role\": \"system\", \"content\": \"You are a helpful assistant. Answer the question asked by the user\"},\n",
    "    {\"role\": \"user\", \"content\": \"What is 2+2, answer in the most complicated way possible\"}   \n",
    "],\n",
    "max_tokens= 8000,\n",
    "logit_bias= {2435: -100, 640: -100},\n",
    "temperature= 0, # Optional, Defaults to 1. Range: 0 to 2\n",
    "top_p= 1 # Optional, Defaults to 1. It is generally recommended to alter this or temperature but not both.\n",
    ")"
   ]
  },
  {
   "cell_type": "code",
   "execution_count": 19,
   "metadata": {},
   "outputs": [
    {
     "data": {
      "text/plain": [
       "ChatCompletion(id='cmpl-b5e174bf4008428fa01f5834870de203', choices=[Choice(finish_reason='stop', index=0, logprobs=None, message=ChatCompletionMessage(content=' To provide an answer to the simple arithmetic question of \"2 plus 2,\" I will engage in an elaborate and intricate exploration, delving into the depths of mathematical theory and conceptualization.\\n\\nFirst, let us consider the fundamental nature of numbers. In the realm of abstract mathematics, numbers are not physical objects, but rather concepts that we use to quantify and describe the world around us. The number \"2\" can be thought of as a collection of one-unit objects, or as the successor to the number \"1.\"\\n\\nNow, let us turn our attention to the operation of addition. Addition is a binary operation, meaning it takes two numbers as inputs and produces a single number as output. In the case of \"2 plus 2,\" we have two instances of the number \"2.\"\\n\\nTo perform the addition, we can employ the Peano axioms, a set of axioms that form the foundation of modern number theory. According to the axioms, we can define the successor function, which takes a number and returns its successor (the next number in the sequence). We can also define the number \"0\" as the identity element for addition, meaning that when we add \"0\" to any number, the result is that number unchanged.\\n\\nUsing these axioms, we can perform the addition of \"2 plus 2\" as follows:\\n\\n1. We start with the number \"2.\"\\n2. We apply the successor function to \"2\" to obtain the next number in the sequence, which is \"3.\"\\n3. We apply the successor function to \"2\" once more to obtain the next number, which is \"4.\"\\n4. Now, we have the numbers \"3\" and \"2.\" We can apply the commutative property of addition, which states that the order of the addends does not affect the sum, to swap their positions.\\n5. We add \"2\" to \"3.\" To do this, we apply the successor function to \"2\" to obtain \"3,\" and then we apply the successor function to \"3\" to obtain \"4.\"\\n6. We have now added \"2\" and \"2,\" and the sum is the next number in the sequence, which is \"5.\"\\n\\nThus, in the most complicated way possible, the answer to the question \"What is 2 plus 2?\" is the number \"5.\"', refusal=None, role='assistant', function_call=None, tool_calls=None), stop_reason=None)], created=1723919803, model='Mistral-7B-Instruct', object='chat.completion', service_tier=None, system_fingerprint=None, usage=CompletionUsage(completion_tokens=517, prompt_tokens=35, total_tokens=552))"
      ]
     },
     "execution_count": 19,
     "metadata": {},
     "output_type": "execute_result"
    }
   ],
   "source": [
    "chat_completion"
   ]
  },
  {
   "cell_type": "code",
   "execution_count": 20,
   "metadata": {},
   "outputs": [
    {
     "name": "stdout",
     "output_type": "stream",
     "text": [
      " To provide an answer to the simple arithmetic question of \"2 plus 2,\" I will engage in an elaborate and intricate exploration, delving into the depths of mathematical theory and conceptualization.\n",
      "\n",
      "First, let us consider the fundamental nature of numbers. In the realm of abstract mathematics, numbers are not physical objects, but rather concepts that we use to quantify and describe the world around us. The number \"2\" can be thought of as a collection of one-unit objects, or as the successor to the number \"1.\"\n",
      "\n",
      "Now, let us turn our attention to the operation of addition. Addition is a binary operation, meaning it takes two numbers as inputs and produces a single number as output. In the case of \"2 plus 2,\" we have two instances of the number \"2.\"\n",
      "\n",
      "To perform the addition, we can employ the Peano axioms, a set of axioms that form the foundation of modern number theory. According to the axioms, we can define the successor function, which takes a number and returns its successor (the next number in the sequence). We can also define the number \"0\" as the identity element for addition, meaning that when we add \"0\" to any number, the result is that number unchanged.\n",
      "\n",
      "Using these axioms, we can perform the addition of \"2 plus 2\" as follows:\n",
      "\n",
      "1. We start with the number \"2.\"\n",
      "2. We apply the successor function to \"2\" to obtain the next number in the sequence, which is \"3.\"\n",
      "3. We apply the successor function to \"2\" once more to obtain the next number, which is \"4.\"\n",
      "4. Now, we have the numbers \"3\" and \"2.\" We can apply the commutative property of addition, which states that the order of the addends does not affect the sum, to swap their positions.\n",
      "5. We add \"2\" to \"3.\" To do this, we apply the successor function to \"2\" to obtain \"3,\" and then we apply the successor function to \"3\" to obtain \"4.\"\n",
      "6. We have now added \"2\" and \"2,\" and the sum is the next number in the sequence, which is \"5.\"\n",
      "\n",
      "Thus, in the most complicated way possible, the answer to the question \"What is 2 plus 2?\" is the number \"5.\"\n"
     ]
    }
   ],
   "source": [
    "print(chat_completion.choices[0].message.content)"
   ]
  },
  {
   "cell_type": "code",
   "execution_count": null,
   "metadata": {},
   "outputs": [],
   "source": []
  }
 ],
 "metadata": {
  "kernelspec": {
   "display_name": ".venv",
   "language": "python",
   "name": "python3"
  },
  "language_info": {
   "codemirror_mode": {
    "name": "ipython",
    "version": 3
   },
   "file_extension": ".py",
   "mimetype": "text/x-python",
   "name": "python",
   "nbconvert_exporter": "python",
   "pygments_lexer": "ipython3",
   "version": "3.12.4"
  }
 },
 "nbformat": 4,
 "nbformat_minor": 2
}
