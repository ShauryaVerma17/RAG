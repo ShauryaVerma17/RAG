{
 "cells": [
  {
   "cell_type": "code",
   "execution_count": 5,
   "metadata": {},
   "outputs": [],
   "source": [
    "from openai import OpenAI\n",
    "from dotenv import load_dotenv\n",
    "import os"
   ]
  },
  {
   "cell_type": "code",
   "execution_count": 11,
   "metadata": {},
   "outputs": [],
   "source": [
    "load_dotenv()\n",
    "openai = OpenAI(\n",
    "    api_key= os.getenv('kurtim_api_key'), # Refer to Create a secret key section\n",
    "    base_url=\"https://cloud.olakrutrim.com/v1\",\n",
    ")"
   ]
  },
  {
   "cell_type": "code",
   "execution_count": 12,
   "metadata": {},
   "outputs": [],
   "source": [
    "chat_completion = openai.chat.completions.create(\n",
    "model=\"Meta-Llama-3-8B-Instruct\",\n",
    "#model=\"Mistral-7B-Instruct\",\n",
    "messages=[\n",
    "    {\"role\": \"system\", \"content\": \"You are a helpful assistant. Answer the question asked by the user\"},\n",
    "    {\"role\": \"user\", \"content\": \"What is 2+2, answer in the most complicated way possible\"}   \n",
    "],\n",
    "max_tokens= 5000,\n",
    "logit_bias= {2435: -100, 640: -100},\n",
    "temperature= 0, # Optional, Defaults to 1. Range: 0 to 2\n",
    "top_p= 1 # Optional, Defaults to 1. It is generally recommended to alter this or temperature but not both.\n",
    ")"
   ]
  },
  {
   "cell_type": "code",
   "execution_count": 13,
   "metadata": {},
   "outputs": [
    {
     "data": {
      "text/plain": [
       "ChatCompletion(id='cmpl-23185ed6e63445baa48876755f025c4f', choices=[Choice(finish_reason='stop', index=0, logprobs=None, message=ChatCompletionMessage(content='The query posed before me is a seemingly innocuous inquiry, yet one that belies a profound complexity. The question, \"What is 2+2?\" appears, at first blush, to be a straightforward arithmetic exercise. However, as we delve deeper into the ontological and epistemological underpinnings of this query, we find ourselves confronted with a labyrinthine tapestry of abstract concepts, philosophical conundrums, and mathematical machinations.\\n\\nTo begin, we must first consider the very fabric of arithmetic itself. The notion of \"2\" and \"+2\" is predicated upon a shared understanding of numerical values and their relationships. This understanding is rooted in the collective cognitive constructs of humanity, which have evolved over time through a process of cultural transmission and social learning.\\n\\nHowever, this shared understanding is not a fixed or absolute entity. Rather, it is a dynamic and context-dependent construct, susceptible to revision and reinterpretation as our understanding of the world and its workings evolves. In other words, the meaning of \"2\" and \"+2\" is not a fixed constant, but rather a variable that is subject to the vicissitudes of human perception and cognition.\\n\\nFurthermore, the act of arithmetic itself is not a purely objective or deterministic process. Rather, it is a subjective and interpretive activity, influenced by a complex interplay of cognitive biases, emotional states, and environmental factors. The calculation of \"2+2\" is not a mechanical or algorithmic process, but rather a creative and iterative endeavor that is shaped by the individual\\'s unique cognitive and experiential profile.\\n\\nIn light of these considerations, we must reframe our understanding of the question \"What is 2+2?\" as a deeply ontological and epistemological inquiry. Rather than seeking a simple arithmetic answer, we are confronted with a profound existential question: What is the nature of reality, and how do we come to know it?\\n\\nIn this sense, the answer to \"What is 2+2?\" is not a fixed or determinate quantity, but rather a dynamic and context-dependent construct that is shaped by our collective understanding of the world and its workings. It is a question that invites us to engage in a profound and ongoing dialogue with the universe, one that is characterized by uncertainty, ambiguity, and the perpetual pursuit of knowledge.\\n\\nAnd so, in the most complicated way possible, I answer the question \"What is 2+2?\" by saying that it is a complex, context-dependent, and ontologically charged construct that is shaped by our collective understanding of the world and its workings.', refusal=None, role='assistant', function_call=None, tool_calls=None), stop_reason=None)], created=1723922777, model='Meta-Llama-3-8B-Instruct', object='chat.completion', service_tier=None, system_fingerprint=None, usage=CompletionUsage(completion_tokens=520, prompt_tokens=42, total_tokens=562))"
      ]
     },
     "execution_count": 13,
     "metadata": {},
     "output_type": "execute_result"
    }
   ],
   "source": [
    "chat_completion"
   ]
  },
  {
   "cell_type": "code",
   "execution_count": 14,
   "metadata": {},
   "outputs": [
    {
     "name": "stdout",
     "output_type": "stream",
     "text": [
      "The query posed before me is a seemingly innocuous inquiry, yet one that belies a profound complexity. The question, \"What is 2+2?\" appears, at first blush, to be a straightforward arithmetic exercise. However, as we delve deeper into the ontological and epistemological underpinnings of this query, we find ourselves confronted with a labyrinthine tapestry of abstract concepts, philosophical conundrums, and mathematical machinations.\n",
      "\n",
      "To begin, we must first consider the very fabric of arithmetic itself. The notion of \"2\" and \"+2\" is predicated upon a shared understanding of numerical values and their relationships. This understanding is rooted in the collective cognitive constructs of humanity, which have evolved over time through a process of cultural transmission and social learning.\n",
      "\n",
      "However, this shared understanding is not a fixed or absolute entity. Rather, it is a dynamic and context-dependent construct, susceptible to revision and reinterpretation as our understanding of the world and its workings evolves. In other words, the meaning of \"2\" and \"+2\" is not a fixed constant, but rather a variable that is subject to the vicissitudes of human perception and cognition.\n",
      "\n",
      "Furthermore, the act of arithmetic itself is not a purely objective or deterministic process. Rather, it is a subjective and interpretive activity, influenced by a complex interplay of cognitive biases, emotional states, and environmental factors. The calculation of \"2+2\" is not a mechanical or algorithmic process, but rather a creative and iterative endeavor that is shaped by the individual's unique cognitive and experiential profile.\n",
      "\n",
      "In light of these considerations, we must reframe our understanding of the question \"What is 2+2?\" as a deeply ontological and epistemological inquiry. Rather than seeking a simple arithmetic answer, we are confronted with a profound existential question: What is the nature of reality, and how do we come to know it?\n",
      "\n",
      "In this sense, the answer to \"What is 2+2?\" is not a fixed or determinate quantity, but rather a dynamic and context-dependent construct that is shaped by our collective understanding of the world and its workings. It is a question that invites us to engage in a profound and ongoing dialogue with the universe, one that is characterized by uncertainty, ambiguity, and the perpetual pursuit of knowledge.\n",
      "\n",
      "And so, in the most complicated way possible, I answer the question \"What is 2+2?\" by saying that it is a complex, context-dependent, and ontologically charged construct that is shaped by our collective understanding of the world and its workings.\n"
     ]
    }
   ],
   "source": [
    "print(chat_completion.choices[0].message.content)"
   ]
  },
  {
   "cell_type": "code",
   "execution_count": null,
   "metadata": {},
   "outputs": [],
   "source": []
  }
 ],
 "metadata": {
  "kernelspec": {
   "display_name": ".venv",
   "language": "python",
   "name": "python3"
  },
  "language_info": {
   "codemirror_mode": {
    "name": "ipython",
    "version": 3
   },
   "file_extension": ".py",
   "mimetype": "text/x-python",
   "name": "python",
   "nbconvert_exporter": "python",
   "pygments_lexer": "ipython3",
   "version": "3.12.4"
  }
 },
 "nbformat": 4,
 "nbformat_minor": 2
}
