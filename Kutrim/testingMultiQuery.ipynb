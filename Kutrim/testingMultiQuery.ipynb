{
 "cells": [
  {
   "cell_type": "code",
   "execution_count": 1,
   "metadata": {},
   "outputs": [],
   "source": [
    "from langchain_community.embeddings import OllamaEmbeddings\n",
    "from langchain_community.vectorstores import FAISS\n",
    "from openai import OpenAI\n",
    "from dotenv import load_dotenv\n",
    "import os"
   ]
  },
  {
   "cell_type": "code",
   "execution_count": 2,
   "metadata": {},
   "outputs": [],
   "source": [
    "load_dotenv()\n",
    "openai = OpenAI(\n",
    "    api_key= os.getenv('kurtim_api_key'), # Refer to Create a secret key section\n",
    "    base_url=\"https://cloud.olakrutrim.com/v1\",\n",
    ")"
   ]
  },
  {
   "cell_type": "code",
   "execution_count": 3,
   "metadata": {},
   "outputs": [],
   "source": [
    "vectors = FAISS.load_local(\"../VectorStores/nomic/AllPrinters\", OllamaEmbeddings(model =  \"nomic-embed-text\"), allow_dangerous_deserialization= True)\n",
    "retriever = vectors.as_retriever()"
   ]
  },
  {
   "cell_type": "code",
   "execution_count": 28,
   "metadata": {},
   "outputs": [],
   "source": [
    "def multiQueryRetrieval(question):\n",
    "\n",
    "    systemMessage = \"\"\"You are an AI language model assistant. Your task is to generate five \n",
    "    different versions of the given user question to retrieve relevant documents from a vector \n",
    "    database. By generating multiple perspectives on the user question, your goal is to help\n",
    "    the user overcome some of the limitations of the distance-based similarity search. \n",
    "    Provide these alternative questions separated by newlines. Do not add any further lines in the response except for the rephrased questions\"\"\"\n",
    "\n",
    "    chat_completion = openai.chat.completions.create(\n",
    "    model=\"Meta-Llama-3-8B-Instruct\",\n",
    "    messages=[\n",
    "        {\"role\": \"system\", \"content\": systemMessage},\n",
    "        {\"role\": \"user\", \"content\": question}\n",
    "    ],\n",
    "    logit_bias= {2435: -100, 640: -100},\n",
    "    max_tokens= 2000,\n",
    "    temperature= 0, # Optional, Defaults to 1. Range: 0 to 2\n",
    "    top_p= 1 # Optional, Defaults to 1. It is generally recommended to alter this or temperature but not both.\n",
    "    )\n",
    "\n",
    "    response = chat_completion.choices[0].message.content\n",
    "\n",
    "    queries = response.split('\\n\\n')\n",
    "    \n",
    "    retrievedChunks = []\n",
    "    for sentence in queries:\n",
    "        chunks = retriever.invoke(sentence)\n",
    "        for chunk in chunks:\n",
    "            retrievedChunks.append(chunk)\n",
    "    sortedArray = []\n",
    "    for doc in retrievedChunks:\n",
    "        if doc not in sortedArray:\n",
    "            sortedArray.append(doc)\n",
    "\n",
    "    return sortedArray\n"
   ]
  },
  {
   "cell_type": "code",
   "execution_count": 29,
   "metadata": {},
   "outputs": [
    {
     "data": {
      "text/plain": [
       "[Document(metadata={'source': '..\\\\Data\\\\multiplePrinterBooks\\\\HP - Deskjet-3700-Printer.pdf', 'file_path': '..\\\\Data\\\\multiplePrinterBooks\\\\HP - Deskjet-3700-Printer.pdf', 'page': 0, 'total_pages': 118, 'format': 'PDF 1.6', 'title': 'HP DeskJet 3700 All-in-One series User Guide – ENWW', 'author': 'HP IWS Design Customer Education', 'subject': '', 'keywords': 'Edition 1, 9/2016', 'creator': 'AH XSL Formatter V6.2 MR6 for Windows (x64) : 6.2.8.19325 (2015/01/06 12:40JST)', 'producer': 'Antenna House PDF Output Library 6.2.640 (Windows (x64))', 'creationDate': \"D:20160524165601+08'00'\", 'modDate': \"D:20160525102417+08'00'\", 'trapped': ''}, page_content='HP DeskJet 3700 All-in-One series\\n'),\n",
       " Document(metadata={'source': '..\\\\Data\\\\multiplePrinterBooks\\\\HP-Deskjet-4100-Troubeshooting.pdf', 'file_path': '..\\\\Data\\\\multiplePrinterBooks\\\\HP-Deskjet-4100-Troubeshooting.pdf', 'page': 1, 'total_pages': 19, 'format': 'PDF 1.7', 'title': '', 'author': 'Vardhan, Jai', 'subject': '', 'keywords': '', 'creator': 'Microsoft® Word for Microsoft 365', 'producer': 'Microsoft® Word for Microsoft 365', 'creationDate': \"D:20240611174545+05'30'\", 'modDate': \"D:20240611174545+05'30'\", 'trapped': ''}, page_content='hp DeskJet 4100e All-in-One Printer User Guide \\n \\nPrinter features \\n \\n'),\n",
       " Document(metadata={'source': '..\\\\Data\\\\multiplePrinterBooks\\\\HP - Deskjet-3700-Printer.pdf', 'file_path': '..\\\\Data\\\\multiplePrinterBooks\\\\HP - Deskjet-3700-Printer.pdf', 'page': 100, 'total_pages': 118, 'format': 'PDF 1.6', 'title': 'HP DeskJet 3700 All-in-One series User Guide – ENWW', 'author': 'HP IWS Design Customer Education', 'subject': '', 'keywords': 'Edition 1, 9/2016', 'creator': 'AH XSL Formatter V6.2 MR6 for Windows (x64) : 6.2.8.19325 (2015/01/06 12:40JST)', 'producer': 'Antenna House PDF Output Library 6.2.640 (Windows (x64))', 'creationDate': \"D:20160524165601+08'00'\", 'modDate': \"D:20160525102417+08'00'\", 'trapped': ''}, page_content='A\\nTechnical information\\nThe technical specifications and international regulatory information for the HP DeskJet 3700 series are \\nprovided in this section.\\nFor additional specifications, see the printed documentation that came with the HP DeskJet 3700 series.\\nThis section contains the following topics:\\n●\\nHP Company notices\\n●\\nSpecifications\\n●\\nRegulatory notices\\n●\\nEnvironmental product stewardship program\\nENWW\\n97\\n'),\n",
       " Document(metadata={'source': '..\\\\Data\\\\multiplePrinterBooks\\\\HP - Deskjet-3700-Printer.pdf', 'file_path': '..\\\\Data\\\\multiplePrinterBooks\\\\HP - Deskjet-3700-Printer.pdf', 'page': 5, 'total_pages': 118, 'format': 'PDF 1.6', 'title': 'HP DeskJet 3700 All-in-One series User Guide – ENWW', 'author': 'HP IWS Design Customer Education', 'subject': '', 'keywords': 'Edition 1, 9/2016', 'creator': 'AH XSL Formatter V6.2 MR6 for Windows (x64) : 6.2.8.19325 (2015/01/06 12:40JST)', 'producer': 'Antenna House PDF Output Library 6.2.640 (Windows (x64))', 'creationDate': \"D:20160524165601+08'00'\", 'modDate': \"D:20160525102417+08'00'\", 'trapped': ''}, page_content='2\\nChapter 1   HP DeskJet 3700 series Help\\nENWW\\n'),\n",
       " Document(metadata={'source': '..\\\\Data\\\\multiplePrinterBooks\\\\hp-laserjet-Pro-m501-m506-m527-troubleshooting-manual.pdf', 'file_path': '..\\\\Data\\\\multiplePrinterBooks\\\\hp-laserjet-Pro-m501-m506-m527-troubleshooting-manual.pdf', 'page': 625, 'total_pages': 630, 'format': 'PDF 1.6', 'title': 'HP LaserJet Pro M501, HP LaserJet Enterprise M506, and LaserJet Enterprise MFP M527 Troubleshooting Manual - ENWW', 'author': 'HP LaserJet Content Design & Delivery', 'subject': 'Cheetah tools build R5.26.1 created on April 12, 2016. 04:14 PM', 'keywords': 'Edition 2 4/2016', 'creator': 'AH XSL Formatter V6.2 MR2 for Windows (x64) : 6.2.4.17534 (2014/06/19 09:55JST)', 'producer': 'Antenna House PDF Output Library 6.2.553 (Windows (x64))', 'creationDate': \"D:20160421082916-07'00'\", 'modDate': \"D:20160421100327-06'00'\", 'trapped': ''}, page_content='last rotation period\\n5\\nlatent image formation\\n30\\nLDAP gateway\\nvalidating (M527)\\n575\\nLEDs (M501)\\nformatter lights\\n130\\nLEDs (M506/M527). See lights\\nLEDs, troubleshooting (M501)\\n130\\nlights\\nformatter\\n130, 132\\nlights (M501)\\nformatter\\n130\\nlights (M506/M527)\\ntroubleshooting with\\n132\\nlink speed settings\\n251\\nlocation\\nsetting\\n554\\nlow-voltage power supply (LVPS)\\nconverted DC voltages\\n19\\noperations\\n17\\nprotection for components\\n19\\nstops and interruptions\\n19\\nlow-voltage power supply (LVPS) \\n(M506/M527)\\nfailure detection\\n20\\nLVPS (low-voltage power supply)\\nconverted DC voltages\\n19\\noperations\\n17\\nprotection for components\\n19\\nstops and interruptions\\n19\\nLVPS (low-voltage power supply) \\n(M506/M527)\\nfailure detection\\n20\\nM\\nM501; auto on / auto off mode\\n7\\nmain assemblies (printer base)\\nblock diagram\\n164\\nmanual print modes (M506/M527)\\n400\\nmemory\\nNVRAM initialization (M501)\\n555\\ntoner cartridge\\n35\\nMemory Enhancement technology \\n(MEt)\\n11\\nmenu\\nAdministration menu (M506/\\nM527)\\n192\\nBackup/Restore menu (M506/\\nM527)\\n256\\nCalibrate/Cleaning menu (M506/\\nM527)\\n256\\ncontrol panel, access\\n182\\nCopy Settings menu (M527)\\n201\\nDisplay Settings menu (M506/\\nM527)\\n235\\nFax Settings menu (M527)\\n218\\nGeneral Settings menu (M506/\\nM527)\\n194\\nHP Web Services (M501)\\n182\\nManage Supplies menu (M506/\\nM527)\\n237\\nManage Trays menu (M506/\\nM527)\\n240\\nNetwork Settings menu (M506/\\nM527)\\n242\\nNetwork Setup (M501)\\n189\\nPrint Options menu (M506/\\nM527)\\n233\\nPrint Settings menu (M506/\\nM527)\\n230\\nQuick Forms (M501)\\n190\\nReports (M501)\\n183\\nReports menu (M506/M527)\\n192\\nScan/Digital Send Settings menu \\n(M527)\\n208\\nService (M501)\\n188\\nService menu (M506/M527)\\n258\\nSystem Setup (M501)\\n184\\ntroubleshooting menu (M506/\\nM527)\\n253\\nUSB Firmware Upgrade menu \\n(M506/M527)\\n258\\nmenu map (M501)\\n70\\nmenu map (M506/M527)\\n75\\nmenus, control panel\\nCalibrate/Cleaning (M506/\\nM527)\\n256\\nmessages\\ntypes of\\n259\\nmotor and fans\\nblock diagram\\n166\\nmotor control\\ntrays 3-5\\n50\\nmotors\\nconnections diagram\\n155\\nDC controller\\n14\\nfailure detection\\n14\\nimage-formation system\\n40\\npaper feeder\\n51\\nstepping\\n14\\nmovement of paper through printer. \\nSee pickup, feed, and delivery\\nmultiple feed prevention\\ntrays 3-5\\n52\\nN\\nNetscape Navigator, versions \\nsupported\\nHP Embedded Web Server\\n179\\nnetwork\\nconfiguring (M501)\\n189\\nNetwork Setup menu (M501)\\n189\\nnetworks\\ndiagnostics\\n247\\nHP embedded Jetdirect \\nconfiguration page\\n174\\nlink speed settings\\n251\\nwireless page\\n175\\nno control panel sound\\n127\\nnotes\\niii\\nNVRAM initialization (M501)\\n555\\nO\\noperation\\nSleep delay (M501)\\n6\\nSleep mode (M506/M527)\\n6\\noperation sequence\\n5\\noperations\\nlaser/scanner\\n25\\ntoner cartridge memory\\n35\\noutput bin\\nclearing jams\\n541\\nover-current protection\\n19\\nover-voltage protection\\n19\\nP\\npages\\nblank\\n548\\nnot printing\\n548\\nprinting slowly\\n548\\npages count\\n556\\nreset\\n556\\nSee also counts\\npaper\\ndefault size reset\\n558\\njam detection\\n53\\njams')]"
      ]
     },
     "execution_count": 29,
     "metadata": {},
     "output_type": "execute_result"
    }
   ],
   "source": [
    "multiQueryRetrieval(\"what are the various parts of a printer in a Deskjet3700\")"
   ]
  },
  {
   "cell_type": "code",
   "execution_count": null,
   "metadata": {},
   "outputs": [],
   "source": []
  }
 ],
 "metadata": {
  "kernelspec": {
   "display_name": ".venv",
   "language": "python",
   "name": "python3"
  },
  "language_info": {
   "codemirror_mode": {
    "name": "ipython",
    "version": 3
   },
   "file_extension": ".py",
   "mimetype": "text/x-python",
   "name": "python",
   "nbconvert_exporter": "python",
   "pygments_lexer": "ipython3",
   "version": "3.12.4"
  }
 },
 "nbformat": 4,
 "nbformat_minor": 2
}
