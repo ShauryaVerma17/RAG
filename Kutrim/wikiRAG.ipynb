{
 "cells": [
  {
   "cell_type": "code",
   "execution_count": 1,
   "metadata": {},
   "outputs": [],
   "source": [
    "from langchain_community.embeddings import OllamaEmbeddings\n",
    "from langchain_community.vectorstores import FAISS\n",
    "from langchain_text_splitters import TokenTextSplitter\n",
    "import requests\n",
    "from langchain.docstore.document import Document\n",
    "from urllib.parse import urlparse, unquote\n",
    "from openai import OpenAI"
   ]
  },
  {
   "cell_type": "code",
   "execution_count": 2,
   "metadata": {},
   "outputs": [],
   "source": [
    "Embedding_Model = \"nomic-embed-text\"\n",
    "\n",
    "openai = OpenAI(\n",
    "    api_key=\"inBDeK_xX6/rg-4kA5__zUJ\", # Refer to Create a secret key section\n",
    "    base_url=\"https://cloud.olakrutrim.com/v1\",\n",
    ")"
   ]
  },
  {
   "cell_type": "markdown",
   "metadata": {},
   "source": [
    "### Getting Data from Wikipedia"
   ]
  },
  {
   "cell_type": "code",
   "execution_count": 3,
   "metadata": {},
   "outputs": [],
   "source": [
    "page_url = \"https://en.wikipedia.org/wiki/Swallowtail_butterfly\""
   ]
  },
  {
   "cell_type": "code",
   "execution_count": 4,
   "metadata": {},
   "outputs": [],
   "source": [
    "def getData(url):\n",
    "\n",
    "    # Getting the title of the wiki page from the url\n",
    "    path = urlparse(url).path\n",
    "    title = unquote(path.split('/')[-1])\n",
    "\n",
    "    # Calling the wikipedia api \n",
    "    endpoint = \"https://en.wikipedia.org/w/api.php\"\n",
    "    params = {\n",
    "        \"action\" : \"query\",\n",
    "        \"format\" : \"json\",\n",
    "        \"titles\" : title,\n",
    "        \"prop\" : \"extracts\",\n",
    "        \"explaintext\" : True\n",
    "    }\n",
    "\n",
    "    # Making the API call (Doesn't work on office laptop, ssl cert issue)\n",
    "    #response = requests.get(endpoint, params = params, verify = False)        # For work laptop but this is security issue\n",
    "    response = requests.get(endpoint, params=params)\n",
    "    response.raise_for_status()\n",
    "    data = response.json()\n",
    "\n",
    "    pages = data[\"query\"][\"pages\"]\n",
    "    page = next(iter(pages.values()))\n",
    "    if \"extract\" in page:\n",
    "        return page[\"extract\"]\n",
    "    else :\n",
    "        return None"
   ]
  },
  {
   "cell_type": "code",
   "execution_count": 5,
   "metadata": {},
   "outputs": [],
   "source": [
    "content = getData(page_url)"
   ]
  },
  {
   "cell_type": "markdown",
   "metadata": {},
   "source": [
    "### RAG Time :)"
   ]
  },
  {
   "cell_type": "code",
   "execution_count": 6,
   "metadata": {},
   "outputs": [],
   "source": [
    "# Getting data from the wikipedia document \n",
    "\n",
    "data = getData(\"https://en.wikipedia.org/wiki/Swallowtail_butterfly\")\n",
    "text_splitter = TokenTextSplitter(chunk_size=500,chunk_overlap=100)\n",
    "documents = text_splitter.split_text(data)\n",
    "docs = [Document(page_content=document, metadata={\"source\": \"local\"}) for document in documents]"
   ]
  },
  {
   "cell_type": "code",
   "execution_count": 7,
   "metadata": {},
   "outputs": [],
   "source": [
    "# Creating the vector store\n",
    "\n",
    "db = FAISS.from_documents(docs, OllamaEmbeddings(model = Embedding_Model))\n",
    "retriever = db.as_retriever() "
   ]
  },
  {
   "cell_type": "code",
   "execution_count": 8,
   "metadata": {},
   "outputs": [],
   "source": [
    "# Utility for formatting fetched context \n",
    "\n",
    "def combineDocs(docs):\n",
    "    context = \"\\n\\n\".join(f'Document Content : \\n{doc.page_content} ]' for doc in docs)\n",
    "    return context"
   ]
  },
  {
   "cell_type": "code",
   "execution_count": 23,
   "metadata": {},
   "outputs": [],
   "source": [
    "chatHistory = [\"\",\"\",\"\",\"\",\"\",\"\"]\n",
    "\n",
    "def chat(question): \n",
    "    \n",
    "    global chatHistory\n",
    "    contextString = combineDocs(retriever.invoke(question))\n",
    "    \n",
    "    chat_completion = openai.chat.completions.create(\n",
    "    model=\"Meta-Llama-3-8B-Instruct\",\n",
    "    messages=[\n",
    "        {\"role\": \"system\", \"content\": \"You are a helpful assistant. You are given conversation history, context and a question from the user. Answer the question based on the information given in the text or based on the conversation if needed\"},\n",
    "        {\"role\": \"user\", \"content\": chatHistory[-6]},\n",
    "        {\"role\": \"assistant\", \"content\": chatHistory[-5]},\n",
    "        {\"role\": \"user\", \"content\": chatHistory[-4]},\n",
    "        {\"role\": \"assistant\", \"content\": chatHistory[-3]},\n",
    "        {\"role\": \"user\", \"content\": chatHistory[-2]},\n",
    "        {\"role\": \"assistant\", \"content\": chatHistory[-1]},\n",
    "        {\"role\": \"user\", \"content\": \"Here is some context : \\n\" + contextString},\n",
    "        {\"role\": \"user\", \"content\": question}\n",
    "    ],\n",
    "    logit_bias= {2435: -100, 640: -100},\n",
    "    max_tokens= 2000,\n",
    "    temperature= 0, # Optional, Defaults to 1. Range: 0 to 2\n",
    "    top_p= 1 # Optional, Defaults to 1. It is generally recommended to alter this or temperature but not both.\n",
    "    )\n",
    "\n",
    "    response = chat_completion.choices[0].message.content\n",
    "\n",
    "    chatHistory.append(question)\n",
    "    chatHistory.append(response)\n",
    "\n",
    "    return response\n"
   ]
  },
  {
   "cell_type": "code",
   "execution_count": 24,
   "metadata": {},
   "outputs": [],
   "source": [
    "def rag(question):\n",
    "    answer = chat(question)\n",
    "    print(answer)"
   ]
  },
  {
   "cell_type": "code",
   "execution_count": 25,
   "metadata": {},
   "outputs": [
    {
     "name": "stdout",
     "output_type": "stream",
     "text": [
      "Based on the provided context, Parnassiinae is a subfamily of butterflies that belongs to the family Papilionidae. Here are some key points about Parnassiinae:\n",
      "\n",
      "* Parnassiinae is a subfamily of essentially Holarctic butterflies, meaning they are found in the Northern Hemisphere, primarily in mountainous regions.\n",
      "* The majority of species in this subfamily belong to the genus Parnassius, commonly known as the Apollos. These butterflies are alpine and can be found at high altitudes.\n",
      "* Parnassiinae can also be found in other habitats, such as arid deserts, humid forests, and lowland meadows.\n",
      "* The tribes recognized within Parnassiinae are Parnassiini, Zerynthiini, and Luehdorfiini.\n",
      "* The Parnassiini tribe contains two genera: Hypermnestra, which is largely confined to central Asia, and Parnassius, which includes many species of Apollos.\n",
      "* The Luehdorfiini tribe contains the genera Archon and Luehdorfia, which are found in Asia minor and China/Japan, respectively.\n",
      "* The Zerynthiini tribe includes four genera: Sericinus, Bhutanitis, Zerynthia, and Allancastria.\n",
      "\n",
      "It's worth noting that recent studies have suggested that Parnassiinae may not be a monophyletic group, meaning that it may not be a single, evolutionary lineage. However, the exact relationships within Parnassiinae are still being studied and refined.\n"
     ]
    }
   ],
   "source": [
    "rag(\"Can you tell me about Parnassiinae\")"
   ]
  },
  {
   "cell_type": "code",
   "execution_count": 16,
   "metadata": {},
   "outputs": [
    {
     "name": "stdout",
     "output_type": "stream",
     "text": [
      "According to the provided context, the caterpillars of various swallowtail butterfly species feed on a wide range of different plants, most depending on only one of five families:\n",
      "\n",
      "1. Aristolochiaceae (birthwort family)\n",
      "2. Annonaceae (custard apple family)\n",
      "3. Lauraceae (laurel family)\n",
      "4. Umbelliferae (Apiaceae) (carrot family)\n",
      "5. Rutaceae (citrus family)\n",
      "\n",
      "By eating some of these toxic plants, the caterpillars sequester aristolochic acid, which renders both the caterpillars and the butterflies of some of these species toxic, thus protecting them from predators.\n",
      "\n",
      "Some specific examples of host plants for swallowtail butterfly species include:\n",
      "\n",
      "* Queen Anne's lace (Ammi majus) for the eastern black swallowtail (Papilio polyxenes)\n",
      "* Carrots, parsley, dill, and fennel (all in the carrot family, Apiaceae) for the eastern black swallowtail (Papilio polyxenes)\n",
      "* Sedum lanceolatum for the Parnassius smintheus\n",
      "* Acacia species (family Leguminosae) for Baronia brevicornis\n",
      "\n",
      "It's worth noting that some swallowtail\n"
     ]
    }
   ],
   "source": [
    "rag(\"what do swallowtail butterfly species feed on\")"
   ]
  },
  {
   "cell_type": "code",
   "execution_count": null,
   "metadata": {},
   "outputs": [],
   "source": []
  }
 ],
 "metadata": {
  "kernelspec": {
   "display_name": ".venv",
   "language": "python",
   "name": "python3"
  },
  "language_info": {
   "codemirror_mode": {
    "name": "ipython",
    "version": 3
   },
   "file_extension": ".py",
   "mimetype": "text/x-python",
   "name": "python",
   "nbconvert_exporter": "python",
   "pygments_lexer": "ipython3",
   "version": "3.12.4"
  }
 },
 "nbformat": 4,
 "nbformat_minor": 2
}
