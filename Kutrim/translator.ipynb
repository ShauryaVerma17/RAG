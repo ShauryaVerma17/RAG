{
 "cells": [
  {
   "cell_type": "code",
   "execution_count": 1,
   "metadata": {},
   "outputs": [],
   "source": [
    "from openai import OpenAI\n",
    "from dotenv import load_dotenv\n",
    "import os"
   ]
  },
  {
   "cell_type": "code",
   "execution_count": 2,
   "metadata": {},
   "outputs": [],
   "source": [
    "load_dotenv()\n",
    "openai = OpenAI(\n",
    "    api_key= os.getenv('kurtim_api_key'), # Refer to Create a secret key section\n",
    "    base_url=\"https://cloud.olakrutrim.com/v1\",\n",
    ")"
   ]
  },
  {
   "cell_type": "code",
   "execution_count": 3,
   "metadata": {},
   "outputs": [],
   "source": [
    "chatHistory = [\"\",\"\",\"\",\"\",\"\",\"\"]\n",
    "\n",
    "def chat(fromLanguage, sentence, toLanguage): \n",
    "    \n",
    "    global chatHistory\n",
    "    query = f\"Translate this {fromLanguage} sentence '{sentence}' to {toLanguage}\"\n",
    "    chat_completion = openai.chat.completions.create(\n",
    "    model=\"Meta-Llama-3-8B-Instruct\",\n",
    "    messages=[\n",
    "        {\"role\": \"system\", \"content\": \"You are a helpful translator assistant. You are given conversation history and the latest question from the user. Only respond with the translation nothing else\"},\n",
    "        {\"role\": \"user\", \"content\": chatHistory[-6]},\n",
    "        {\"role\": \"assistant\", \"content\": chatHistory[-5]},\n",
    "        {\"role\": \"user\", \"content\": chatHistory[-4]},\n",
    "        {\"role\": \"assistant\", \"content\": chatHistory[-3]},\n",
    "        {\"role\": \"user\", \"content\": chatHistory[-2]},\n",
    "        {\"role\": \"assistant\", \"content\": chatHistory[-1]},\n",
    "        {\"role\": \"user\", \"content\": query}\n",
    "    ],\n",
    "    logit_bias= {2435: -100, 640: -100},\n",
    "    max_tokens= 5000,\n",
    "    temperature= 0, # Optional, Defaults to 1. Range: 0 to 2\n",
    "    top_p= 1 # Optional, Defaults to 1. It is generally recommended to alter this or temperature but not both.\n",
    "    )\n",
    "\n",
    "    response = chat_completion.choices[0].message.content\n",
    "\n",
    "    chatHistory.append(query)\n",
    "    chatHistory.append(response)\n",
    "\n",
    "    print(response)\n",
    "\n",
    "    return response\n"
   ]
  },
  {
   "cell_type": "code",
   "execution_count": 4,
   "metadata": {},
   "outputs": [
    {
     "name": "stdout",
     "output_type": "stream",
     "text": [
      "मैं बहुत डरा हुआ हूँ\n"
     ]
    },
    {
     "data": {
      "text/plain": [
       "'मैं बहुत डरा हुआ हूँ'"
      ]
     },
     "execution_count": 4,
     "metadata": {},
     "output_type": "execute_result"
    }
   ],
   "source": [
    "chat(\"Italian\", \"Mi efsfsento spaventato\", \"Hindi\")"
   ]
  },
  {
   "cell_type": "code",
   "execution_count": 5,
   "metadata": {},
   "outputs": [
    {
     "name": "stdout",
     "output_type": "stream",
     "text": [
      "\"Good God! That's Jason Bourne!\"\n"
     ]
    },
    {
     "data": {
      "text/plain": [
       "'\"Good God! That\\'s Jason Bourne!\"'"
      ]
     },
     "execution_count": 5,
     "metadata": {},
     "output_type": "execute_result"
    }
   ],
   "source": [
    "chat(\"Italian\", \"Dio mio! quello è Jason Bourne\",\"English\")"
   ]
  },
  {
   "cell_type": "code",
   "execution_count": 6,
   "metadata": {},
   "outputs": [
    {
     "name": "stdout",
     "output_type": "stream",
     "text": [
      "I am fine.\n"
     ]
    },
    {
     "data": {
      "text/plain": [
       "'I am fine.'"
      ]
     },
     "execution_count": 6,
     "metadata": {},
     "output_type": "execute_result"
    }
   ],
   "source": [
    "chat(\"Hindi\", \"Me theek hoo\", \"English\")"
   ]
  },
  {
   "cell_type": "code",
   "execution_count": null,
   "metadata": {},
   "outputs": [],
   "source": []
  }
 ],
 "metadata": {
  "kernelspec": {
   "display_name": ".venv",
   "language": "python",
   "name": "python3"
  },
  "language_info": {
   "codemirror_mode": {
    "name": "ipython",
    "version": 3
   },
   "file_extension": ".py",
   "mimetype": "text/x-python",
   "name": "python",
   "nbconvert_exporter": "python",
   "pygments_lexer": "ipython3",
   "version": "3.12.4"
  }
 },
 "nbformat": 4,
 "nbformat_minor": 2
}
