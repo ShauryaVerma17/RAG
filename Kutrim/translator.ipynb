{
 "cells": [
  {
   "cell_type": "code",
   "execution_count": 1,
   "metadata": {},
   "outputs": [],
   "source": [
    "from openai import OpenAI\n",
    "from dotenv import load_dotenv\n",
    "import os"
   ]
  },
  {
   "cell_type": "code",
   "execution_count": 2,
   "metadata": {},
   "outputs": [],
   "source": [
    "load_dotenv()\n",
    "openai = OpenAI(\n",
    "    api_key= os.getenv('kurtim_api_key'), # Refer to Create a secret key section\n",
    "    base_url=\"https://cloud.olakrutrim.com/v1\",\n",
    ")"
   ]
  },
  {
   "cell_type": "code",
   "execution_count": 9,
   "metadata": {},
   "outputs": [],
   "source": [
    "chatHistory = [\"\",\"\",\"\",\"\",\"\",\"\"]\n",
    "\n",
    "def chat(fromLanguage, sentence, toLanguage): \n",
    "    \n",
    "    global chatHistory\n",
    "    query = f\"Translate this {fromLanguage} sentence '{sentence}' to {toLanguage}\"\n",
    "    chat_completion = openai.chat.completions.create(\n",
    "    model=\"Meta-Llama-3-8B-Instruct\",\n",
    "    messages=[\n",
    "        {\"role\": \"system\", \"content\": \"You are a helpful assistant. You are given conversation history and the latest question from the user. Answer the question based on your knowledge or based on the conversation history if needed\"},\n",
    "        {\"role\": \"user\", \"content\": chatHistory[-6]},\n",
    "        {\"role\": \"assistant\", \"content\": chatHistory[-5]},\n",
    "        {\"role\": \"user\", \"content\": chatHistory[-4]},\n",
    "        {\"role\": \"assistant\", \"content\": chatHistory[-3]},\n",
    "        {\"role\": \"user\", \"content\": chatHistory[-2]},\n",
    "        {\"role\": \"assistant\", \"content\": chatHistory[-1]},\n",
    "        {\"role\": \"user\", \"content\": query}\n",
    "    ],\n",
    "    logit_bias= {2435: -100, 640: -100},\n",
    "    max_tokens= 5000,\n",
    "    temperature= 0, # Optional, Defaults to 1. Range: 0 to 2\n",
    "    top_p= 1 # Optional, Defaults to 1. It is generally recommended to alter this or temperature but not both.\n",
    "    )\n",
    "\n",
    "    response = chat_completion.choices[0].message.content\n",
    "\n",
    "    chatHistory.append(query)\n",
    "    chatHistory.append(response)\n",
    "\n",
    "    print(response)\n",
    "\n",
    "    return response\n"
   ]
  },
  {
   "cell_type": "code",
   "execution_count": 11,
   "metadata": {},
   "outputs": [
    {
     "name": "stdout",
     "output_type": "stream",
     "text": [
      "The translation of \"I am 24 years old\" in Hindi is:\n",
      "\n",
      "मैं २४ साल का हूँ (Main 24 saal ka hoon)\n",
      "\n",
      "Note: The number 24 is written as \"२४\" (24) in Hindi.\n"
     ]
    },
    {
     "data": {
      "text/plain": [
       "'The translation of \"I am 24 years old\" in Hindi is:\\n\\nमैं २४ साल का हूँ (Main 24 saal ka hoon)\\n\\nNote: The number 24 is written as \"२४\" (24) in Hindi.'"
      ]
     },
     "execution_count": 11,
     "metadata": {},
     "output_type": "execute_result"
    }
   ],
   "source": [
    "chat(\"I am 24 years old\", \"Hindi\")"
   ]
  },
  {
   "cell_type": "code",
   "execution_count": 12,
   "metadata": {},
   "outputs": [
    {
     "name": "stdout",
     "output_type": "stream",
     "text": [
      "The translation of \"मैं २४ साल का हूँ\" (Main 24 saal ka hoon) in English is:\n",
      "\n",
      "\"I am 24 years old\"\n"
     ]
    },
    {
     "data": {
      "text/plain": [
       "'The translation of \"मैं २४ साल का हूँ\" (Main 24 saal ka hoon) in English is:\\n\\n\"I am 24 years old\"'"
      ]
     },
     "execution_count": 12,
     "metadata": {},
     "output_type": "execute_result"
    }
   ],
   "source": [
    "chat(\"मैं २४ साल का हूँ\",\"English\")"
   ]
  },
  {
   "cell_type": "code",
   "execution_count": null,
   "metadata": {},
   "outputs": [],
   "source": [
    "chat(\"\")"
   ]
  }
 ],
 "metadata": {
  "kernelspec": {
   "display_name": ".venv",
   "language": "python",
   "name": "python3"
  },
  "language_info": {
   "codemirror_mode": {
    "name": "ipython",
    "version": 3
   },
   "file_extension": ".py",
   "mimetype": "text/x-python",
   "name": "python",
   "nbconvert_exporter": "python",
   "pygments_lexer": "ipython3",
   "version": "3.12.4"
  }
 },
 "nbformat": 4,
 "nbformat_minor": 2
}
