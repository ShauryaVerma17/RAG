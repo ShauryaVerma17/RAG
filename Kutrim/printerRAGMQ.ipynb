{
 "cells": [
  {
   "cell_type": "code",
   "execution_count": 1,
   "metadata": {},
   "outputs": [],
   "source": [
    "from langchain_community.embeddings import OllamaEmbeddings\n",
    "from langchain_community.vectorstores import FAISS\n",
    "from openai import OpenAI\n",
    "from dotenv import load_dotenv\n",
    "import os"
   ]
  },
  {
   "cell_type": "code",
   "execution_count": 2,
   "metadata": {},
   "outputs": [],
   "source": [
    "load_dotenv()\n",
    "openai = OpenAI(\n",
    "    api_key= os.getenv('kurtim_api_key'), # Refer to Create a secret key section\n",
    "    base_url=\"https://cloud.olakrutrim.com/v1\",\n",
    ")"
   ]
  },
  {
   "cell_type": "code",
   "execution_count": 3,
   "metadata": {},
   "outputs": [],
   "source": [
    "vectors = FAISS.load_local(\"../VectorStores/nomic/AllPrinters\", OllamaEmbeddings(model =  \"nomic-embed-text\"), allow_dangerous_deserialization= True)\n",
    "retriever = vectors.as_retriever()"
   ]
  },
  {
   "cell_type": "code",
   "execution_count": 4,
   "metadata": {},
   "outputs": [],
   "source": [
    "def multiQueryRetrieval(question):\n",
    "\n",
    "    systemMessage = \"\"\"You are an AI language model assistant. Your task is to generate five \n",
    "    different versions of the given user question to retrieve relevant documents from a vector \n",
    "    database. By generating multiple perspectives on the user question, your goal is to help\n",
    "    the user overcome some of the limitations of the distance-based similarity search. \n",
    "    Provide these alternative questions separated by newlines. Do not add any further lines in the response except for the rephrased questions\"\"\"\n",
    "\n",
    "    chat_completion = openai.chat.completions.create(\n",
    "    model=\"Meta-Llama-3-8B-Instruct\",\n",
    "    messages=[\n",
    "        {\"role\": \"system\", \"content\": systemMessage},\n",
    "        {\"role\": \"user\", \"content\": question}\n",
    "    ],\n",
    "    logit_bias= {2435: -100, 640: -100},\n",
    "    max_tokens= 2000,\n",
    "    temperature= 0, # Optional, Defaults to 1. Range: 0 to 2\n",
    "    top_p= 1 # Optional, Defaults to 1. It is generally recommended to alter this or temperature but not both.\n",
    "    )\n",
    "\n",
    "    response = chat_completion.choices[0].message.content\n",
    "\n",
    "    queries = response.split('\\n\\n')\n",
    "    \n",
    "    retrievedChunks = []\n",
    "    for sentence in queries:\n",
    "        chunks = retriever.invoke(sentence)\n",
    "        for chunk in chunks:\n",
    "            retrievedChunks.append(chunk)\n",
    "    sortedArray = []\n",
    "    for doc in retrievedChunks:\n",
    "        if doc not in sortedArray:\n",
    "            sortedArray.append(doc)\n",
    "\n",
    "    return sortedArray\n"
   ]
  },
  {
   "cell_type": "code",
   "execution_count": 5,
   "metadata": {},
   "outputs": [],
   "source": [
    "def combineDocs(docs):\n",
    "    context = \"\\n\\n\".join(f'Document [Metadata :  Source : {doc.metadata.get(\"source\")} \\nContent : \\n{doc.page_content} ]' for doc in docs)\n",
    "    return context"
   ]
  },
  {
   "cell_type": "code",
   "execution_count": 6,
   "metadata": {},
   "outputs": [],
   "source": [
    "chatHistory = [\"\",\"\",\"\",\"\",\"\",\"\"]\n",
    "\n",
    "def chat(question): \n",
    "    \n",
    "    global chatHistory\n",
    "    contextString = combineDocs(multiQueryRetrieval(question))\n",
    "    \n",
    "    chat_completion = openai.chat.completions.create(\n",
    "    model=\"Meta-Llama-3-8B-Instruct\",\n",
    "    messages=[\n",
    "        {\"role\": \"system\", \"content\": \"You are a helpful assistant. You are given conversation history, context and a question from the user. Answer the question based on the information given in the text or based on the conversation if needed\"},\n",
    "        {\"role\": \"user\", \"content\": chatHistory[-6]},\n",
    "        {\"role\": \"assistant\", \"content\": chatHistory[-5]},\n",
    "        {\"role\": \"user\", \"content\": chatHistory[-4]},\n",
    "        {\"role\": \"assistant\", \"content\": chatHistory[-3]},\n",
    "        {\"role\": \"user\", \"content\": chatHistory[-2]},\n",
    "        {\"role\": \"assistant\", \"content\": chatHistory[-1]},\n",
    "        {\"role\": \"user\", \"content\": \"Here is some context : \\n\" + contextString},\n",
    "        {\"role\": \"user\", \"content\": question}\n",
    "    ],\n",
    "    logit_bias= {2435: -100, 640: -100},\n",
    "    max_tokens= 2000,\n",
    "    temperature= 0, # Optional, Defaults to 1. Range: 0 to 2\n",
    "    top_p= 1 # Optional, Defaults to 1. It is generally recommended to alter this or temperature but not both.\n",
    "    )\n",
    "\n",
    "    response = chat_completion.choices[0].message.content\n",
    "\n",
    "    chatHistory.append(question)\n",
    "    chatHistory.append(response)\n",
    "\n",
    "    print(response)\n",
    "    \n",
    "    return response\n"
   ]
  },
  {
   "cell_type": "code",
   "execution_count": 8,
   "metadata": {},
   "outputs": [
    {
     "name": "stdout",
     "output_type": "stream",
     "text": [
      "Based on the provided documents, the various parts of a HP Deskjet 3700 All-in-One series printer are:\n",
      "\n",
      "1. Paper-width guide\n",
      "2. Input tray\n",
      "3. Input tray shield\n",
      "4. Scanner\n",
      "5. Scan path\n",
      "6. Scan light\n",
      "7. Control panel\n",
      "8. Cartridge access door\n",
      "9. Cartridges\n",
      "10. Output tray\n",
      "11. Output tray extender (also referred to as the tray extender)\n",
      "12. Paper catch\n",
      "13. Power connection\n",
      "14. USB port\n",
      "\n",
      "Please note that these parts may be similar or identical to those mentioned in the HP DeskJet 4100e All-in-One Printer User Guide and HP DeskJet 2632 Ink All-in-One User Manual, but the specific parts listed above are from the HP Deskjet-3700-Printer.pdf document.\n"
     ]
    },
    {
     "data": {
      "text/plain": [
       "'Based on the provided documents, the various parts of a HP Deskjet 3700 All-in-One series printer are:\\n\\n1. Paper-width guide\\n2. Input tray\\n3. Input tray shield\\n4. Scanner\\n5. Scan path\\n6. Scan light\\n7. Control panel\\n8. Cartridge access door\\n9. Cartridges\\n10. Output tray\\n11. Output tray extender (also referred to as the tray extender)\\n12. Paper catch\\n13. Power connection\\n14. USB port\\n\\nPlease note that these parts may be similar or identical to those mentioned in the HP DeskJet 4100e All-in-One Printer User Guide and HP DeskJet 2632 Ink All-in-One User Manual, but the specific parts listed above are from the HP Deskjet-3700-Printer.pdf document.'"
      ]
     },
     "execution_count": 8,
     "metadata": {},
     "output_type": "execute_result"
    }
   ],
   "source": [
    "chat(\"what are the various parts of a printer in a Deskjet3700\")"
   ]
  },
  {
   "cell_type": "code",
   "execution_count": 9,
   "metadata": {},
   "outputs": [
    {
     "name": "stdout",
     "output_type": "stream",
     "text": [
      "Based on the provided documents, the steps to print a photo on photo paper (Windows) using the HP Deskjet 2623 are:\n",
      "\n",
      "1. From your software, select Print.\n",
      "2. Make sure your printer is selected.\n",
      "3. Click the button that opens the Properties dialog box. Depending on your software application, this button might be called Properties, Options, Printer Setup, Printer Properties, Printer, or Preferences.\n",
      "4. Select the appropriate options on the Printing Shortcuts or Printing Shortcut tab.\n",
      "5. To change other print settings, click the other tabs. For more printing tips, see Printer settings tips on page 35.\n",
      "6. Click OK to return to the Properties dialog box.\n",
      "7. Click OK, and then click Print or OK in the Print dialog box.\n",
      "\n",
      "Note: Make sure you have loaded the correct paper in the input tray and the output tray is open before printing.\n"
     ]
    },
    {
     "data": {
      "text/plain": [
       "'Based on the provided documents, the steps to print a photo on photo paper (Windows) using the HP Deskjet 2623 are:\\n\\n1. From your software, select Print.\\n2. Make sure your printer is selected.\\n3. Click the button that opens the Properties dialog box. Depending on your software application, this button might be called Properties, Options, Printer Setup, Printer Properties, Printer, or Preferences.\\n4. Select the appropriate options on the Printing Shortcuts or Printing Shortcut tab.\\n5. To change other print settings, click the other tabs. For more printing tips, see Printer settings tips on page 35.\\n6. Click OK to return to the Properties dialog box.\\n7. Click OK, and then click Print or OK in the Print dialog box.\\n\\nNote: Make sure you have loaded the correct paper in the input tray and the output tray is open before printing.'"
      ]
     },
     "execution_count": 9,
     "metadata": {},
     "output_type": "execute_result"
    }
   ],
   "source": [
    "chat(\"what are the steps to print a photo on photo paper (Windows) using deskjet 2623\")"
   ]
  },
  {
   "cell_type": "code",
   "execution_count": 10,
   "metadata": {},
   "outputs": [
    {
     "name": "stdout",
     "output_type": "stream",
     "text": [
      "Based on the provided documents, the steps to set up Web Services in HP Deskjet 2600 are:\n",
      "\n",
      "1. Open the embedded web server (EWS). For more information, see Open the embedded web server on page [insert page number].\n",
      "2. Click the Web Services tab.\n",
      "3. In the Web Services Settings section, click Setup, click Continue, and follow the on-screen instructions to accept the terms of use.\n",
      "4. If prompted, choose to allow the printer to check for and install printer updates.\n",
      "5. When the printer is connected to the server, the printer prints an information page. Follow the instructions on the information page to finish the setup.\n",
      "\n",
      "Note: Make sure your printer is connected to the Internet using a wireless connection before setting up Web Services.\n",
      "\n",
      "Please note that the exact steps may vary depending on the specific model of your printer and the operating system you are using.\n"
     ]
    },
    {
     "data": {
      "text/plain": [
       "'Based on the provided documents, the steps to set up Web Services in HP Deskjet 2600 are:\\n\\n1. Open the embedded web server (EWS). For more information, see Open the embedded web server on page [insert page number].\\n2. Click the Web Services tab.\\n3. In the Web Services Settings section, click Setup, click Continue, and follow the on-screen instructions to accept the terms of use.\\n4. If prompted, choose to allow the printer to check for and install printer updates.\\n5. When the printer is connected to the server, the printer prints an information page. Follow the instructions on the information page to finish the setup.\\n\\nNote: Make sure your printer is connected to the Internet using a wireless connection before setting up Web Services.\\n\\nPlease note that the exact steps may vary depending on the specific model of your printer and the operating system you are using.'"
      ]
     },
     "execution_count": 10,
     "metadata": {},
     "output_type": "execute_result"
    }
   ],
   "source": [
    "chat(\"How to setup web services in HP deskjet 2600?\")"
   ]
  },
  {
   "cell_type": "code",
   "execution_count": 11,
   "metadata": {},
   "outputs": [
    {
     "name": "stdout",
     "output_type": "stream",
     "text": [
      "Based on the provided documents, the steps to load paper in HP Deskjet 4100e are:\n",
      "\n",
      "1. Raise the input tray and input tray extender.\n",
      "2. Insert a stack of paper into the input tray with the short edge down and the print side up, and slide the stack of paper down until it stops.\n",
      "3. Slide the paper-width guide to the right until it stops at the edge of the paper.\n",
      "\n",
      "Note: These steps are based on the HP Deskjet-3700-Printer.pdf document, which is likely to be applicable to the HP Deskjet 4100e as well.\n"
     ]
    },
    {
     "data": {
      "text/plain": [
       "'Based on the provided documents, the steps to load paper in HP Deskjet 4100e are:\\n\\n1. Raise the input tray and input tray extender.\\n2. Insert a stack of paper into the input tray with the short edge down and the print side up, and slide the stack of paper down until it stops.\\n3. Slide the paper-width guide to the right until it stops at the edge of the paper.\\n\\nNote: These steps are based on the HP Deskjet-3700-Printer.pdf document, which is likely to be applicable to the HP Deskjet 4100e as well.'"
      ]
     },
     "execution_count": 11,
     "metadata": {},
     "output_type": "execute_result"
    }
   ],
   "source": [
    "chat(\"How to load paper in HP Deskjet 4100e?\")"
   ]
  },
  {
   "cell_type": "code",
   "execution_count": 12,
   "metadata": {},
   "outputs": [
    {
     "name": "stdout",
     "output_type": "stream",
     "text": [
      "According to the provided documents, the paper goes in the input tray of the HP Deskjet 4100e. To load paper, follow these steps:\n",
      "\n",
      "1. Raise the input tray.\n",
      "2. Slide the paper width guide all the way to the left.\n",
      "3. Load a stack of plain white paper into the input tray.\n",
      "4. Slide the paper width guide to the right until it rests at the edge of the paper.\n",
      "5. Lower the output tray, and then pull out the tray extender.\n",
      "\n",
      "Note: The paper should be loaded with the print side down.\n"
     ]
    },
    {
     "data": {
      "text/plain": [
       "'According to the provided documents, the paper goes in the input tray of the HP Deskjet 4100e. To load paper, follow these steps:\\n\\n1. Raise the input tray.\\n2. Slide the paper width guide all the way to the left.\\n3. Load a stack of plain white paper into the input tray.\\n4. Slide the paper width guide to the right until it rests at the edge of the paper.\\n5. Lower the output tray, and then pull out the tray extender.\\n\\nNote: The paper should be loaded with the print side down.'"
      ]
     },
     "execution_count": 12,
     "metadata": {},
     "output_type": "execute_result"
    }
   ],
   "source": [
    "chat(\"Where does paper go in HP Deskjet 4100e?\")"
   ]
  },
  {
   "cell_type": "code",
   "execution_count": 13,
   "metadata": {},
   "outputs": [
    {
     "name": "stdout",
     "output_type": "stream",
     "text": [
      "According to the provided documents, to automatically print on both sides of the paper in the HP e877 series, follow these steps:\n",
      "\n",
      "1. From the software program, select the Print option.\n",
      "2. Select the printer from the list of printers, and then click the Printer Properties or Preferences button to open the print driver.\n",
      "3. Click the Finishing tab.\n",
      "4. Select Print on both sides. Click OK to close the Document Properties dialog.\n",
      "5. In the Print dialog, click Print to print the job.\n",
      "\n",
      "Note: Make sure your printer has an automatic duplexer installed and that the paper size and type are supported by the duplexer.\n"
     ]
    },
    {
     "data": {
      "text/plain": [
       "'According to the provided documents, to automatically print on both sides of the paper in the HP e877 series, follow these steps:\\n\\n1. From the software program, select the Print option.\\n2. Select the printer from the list of printers, and then click the Printer Properties or Preferences button to open the print driver.\\n3. Click the Finishing tab.\\n4. Select Print on both sides. Click OK to close the Document Properties dialog.\\n5. In the Print dialog, click Print to print the job.\\n\\nNote: Make sure your printer has an automatic duplexer installed and that the paper size and type are supported by the duplexer.'"
      ]
     },
     "execution_count": 13,
     "metadata": {},
     "output_type": "execute_result"
    }
   ],
   "source": [
    "chat(\"How to automatically print on both sides of the paper in HP e877 series?\")"
   ]
  },
  {
   "cell_type": "code",
   "execution_count": 7,
   "metadata": {},
   "outputs": [
    {
     "name": "stdout",
     "output_type": "stream",
     "text": [
      "According to the provided documents, there is no specific contact number mentioned for ordering supplies in Denmark. However, you can order original HP supplies for the HP DeskJet 2600 series by going to www.hp.com/buy/supplies and following the prompts to find the right cartridges for your printer.\n"
     ]
    },
    {
     "data": {
      "text/plain": [
       "'According to the provided documents, there is no specific contact number mentioned for ordering supplies in Denmark. However, you can order original HP supplies for the HP DeskJet 2600 series by going to www.hp.com/buy/supplies and following the prompts to find the right cartridges for your printer.'"
      ]
     },
     "execution_count": 7,
     "metadata": {},
     "output_type": "execute_result"
    }
   ],
   "source": [
    "chat(\"What is the contact number for ordering supplies in Denmark?\")"
   ]
  },
  {
   "cell_type": "code",
   "execution_count": 15,
   "metadata": {},
   "outputs": [
    {
     "name": "stdout",
     "output_type": "stream",
     "text": [
      "According to the provided documents, to check the ink levels for HP Deskjet 2600 on a Mac OS machine, follow these steps:\n",
      "\n",
      "1. Open HP Utility.\n",
      "2. Select the HP DeskJet 2600 series from the list of devices at the left of the window.\n",
      "3. Click Supplies Info.\n",
      "4. The print cartridge ordering numbers appear.\n",
      "5. Click All Settings to return to the Information and Support pane.\n",
      "\n",
      "Alternatively, you can also check the ink levels from the printer control panel.\n"
     ]
    },
    {
     "data": {
      "text/plain": [
       "'According to the provided documents, to check the ink levels for HP Deskjet 2600 on a Mac OS machine, follow these steps:\\n\\n1. Open HP Utility.\\n2. Select the HP DeskJet 2600 series from the list of devices at the left of the window.\\n3. Click Supplies Info.\\n4. The print cartridge ordering numbers appear.\\n5. Click All Settings to return to the Information and Support pane.\\n\\nAlternatively, you can also check the ink levels from the printer control panel.'"
      ]
     },
     "execution_count": 15,
     "metadata": {},
     "output_type": "execute_result"
    }
   ],
   "source": [
    "chat(\"How to check the ink levels for HP deskjet 2600 on a mac os machine?\")"
   ]
  },
  {
   "cell_type": "code",
   "execution_count": null,
   "metadata": {},
   "outputs": [],
   "source": []
  }
 ],
 "metadata": {
  "kernelspec": {
   "display_name": ".venv",
   "language": "python",
   "name": "python3"
  },
  "language_info": {
   "codemirror_mode": {
    "name": "ipython",
    "version": 3
   },
   "file_extension": ".py",
   "mimetype": "text/x-python",
   "name": "python",
   "nbconvert_exporter": "python",
   "pygments_lexer": "ipython3",
   "version": "3.12.4"
  }
 },
 "nbformat": 4,
 "nbformat_minor": 2
}
