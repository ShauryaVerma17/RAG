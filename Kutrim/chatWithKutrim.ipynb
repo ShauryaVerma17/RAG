{
 "cells": [
  {
   "cell_type": "code",
   "execution_count": 2,
   "metadata": {},
   "outputs": [],
   "source": [
    "from openai import OpenAI"
   ]
  },
  {
   "cell_type": "code",
   "execution_count": 3,
   "metadata": {},
   "outputs": [],
   "source": [
    "openai = OpenAI(\n",
    "    api_key=\"inBDeK_xX6/rg-4kA5__zUJ\", # Refer to Create a secret key section\n",
    "    base_url=\"https://cloud.olakrutrim.com/v1\",\n",
    ")"
   ]
  },
  {
   "cell_type": "code",
   "execution_count": 4,
   "metadata": {},
   "outputs": [],
   "source": [
    "chatHistory = [\"\",\"\",\"\",\"\",\"\",\"\"]\n",
    "\n",
    "def chat(question): \n",
    "    \n",
    "    global chatHistory\n",
    "    \n",
    "    chat_completion = openai.chat.completions.create(\n",
    "    model=\"Meta-Llama-3-8B-Instruct\",\n",
    "    messages=[\n",
    "        {\"role\": \"system\", \"content\": \"You are a helpful assistant. You are given conversation history and the latest question from the user. Answer the question based on your knowledge or based on the conversation history if needed\"},\n",
    "        {\"role\": \"user\", \"content\": chatHistory[-6]},\n",
    "        {\"role\": \"assistant\", \"content\": chatHistory[-5]},\n",
    "        {\"role\": \"user\", \"content\": chatHistory[-4]},\n",
    "        {\"role\": \"assistant\", \"content\": chatHistory[-3]},\n",
    "        {\"role\": \"user\", \"content\": chatHistory[-2]},\n",
    "        {\"role\": \"assistant\", \"content\": chatHistory[-1]},\n",
    "        {\"role\": \"user\", \"content\": question}\n",
    "    ],\n",
    "    logit_bias= {2435: -100, 640: -100},\n",
    "    max_tokens= 5000,\n",
    "    temperature= 0, # Optional, Defaults to 1. Range: 0 to 2\n",
    "    top_p= 1 # Optional, Defaults to 1. It is generally recommended to alter this or temperature but not both.\n",
    "    )\n",
    "\n",
    "    response = chat_completion.choices[0].message.content\n",
    "\n",
    "    chatHistory.append(question)\n",
    "    chatHistory.append(response)\n",
    "\n",
    "    print(response)\n"
   ]
  },
  {
   "cell_type": "code",
   "execution_count": 5,
   "metadata": {},
   "outputs": [
    {
     "name": "stdout",
     "output_type": "stream",
     "text": [
      "Hi! It seems like we're starting a new conversation. How can I help you today?\n"
     ]
    }
   ],
   "source": [
    "chat(\"Hi there\")"
   ]
  },
  {
   "cell_type": "code",
   "execution_count": 6,
   "metadata": {},
   "outputs": [
    {
     "name": "stdout",
     "output_type": "stream",
     "text": [
      "I'm just a helpful assistant, I don't have a personal name. I'm here to assist you with any questions or tasks you may have, though!\n"
     ]
    }
   ],
   "source": [
    "chat(\"What's your name?\")"
   ]
  },
  {
   "cell_type": "code",
   "execution_count": 7,
   "metadata": {},
   "outputs": [
    {
     "name": "stdout",
     "output_type": "stream",
     "text": [
      "Nice to meet you, Bonk! It's great to have you here. Is there something on your mind that you'd like to talk about or ask? I'm all ears!\n"
     ]
    }
   ],
   "source": [
    "chat(\"my name is Bonk\")"
   ]
  },
  {
   "cell_type": "code",
   "execution_count": 8,
   "metadata": {},
   "outputs": [
    {
     "name": "stdout",
     "output_type": "stream",
     "text": [
      "I remember! Your name is Bonk!\n"
     ]
    }
   ],
   "source": [
    "chat(\"what's my name?\")"
   ]
  },
  {
   "cell_type": "code",
   "execution_count": 9,
   "metadata": {},
   "outputs": [
    {
     "name": "stdout",
     "output_type": "stream",
     "text": [
      "Bonk! The Seven Wonders of the World is a list of remarkable constructions from antiquity that were considered the most impressive achievements of their time. Here's the original list of the Seven Wonders of the Ancient World:\n",
      "\n",
      "1. The Great Pyramid of Giza\n",
      "2. The Hanging Gardens of Babylon\n",
      "3. The Statue of Zeus at Olympia\n",
      "4. The Temple of Artemis at Ephesus\n",
      "5. The Mausoleum at Halicarnassus\n",
      "6. The Colossus of Rhodes\n",
      "7. The Lighthouse of Alexandria\n",
      "\n",
      "In 2007, a new list of the Seven Wonders of the World was compiled through a worldwide poll. Here's the New7Wonders of the World list:\n",
      "\n",
      "1. The Great Wall of China\n",
      "2. The Taj Mahal\n",
      "3. Machu Picchu\n",
      "4. Chichén Itzá\n",
      "5. The Roman Colosseum\n",
      "6. The Christ the Redeemer statue in Rio de Janeiro\n",
      "7. The Pyramids of Giza (also on the original list)\n",
      "\n",
      "I hope that helps, Bonk!\n"
     ]
    }
   ],
   "source": [
    "chat(\"Give me a list of the seven wonders of the world\")"
   ]
  },
  {
   "cell_type": "code",
   "execution_count": 10,
   "metadata": {},
   "outputs": [
    {
     "name": "stdout",
     "output_type": "stream",
     "text": [
      "Here's the list of the Seven Wonders of the World in a paragraph, Bonk:\n",
      "\n",
      "The Seven Wonders of the World is a list of remarkable constructions from antiquity that were considered the most impressive achievements of their time. The original list includes the Great Pyramid of Giza, the Hanging Gardens of Babylon, the Statue of Zeus at Olympia, the Temple of Artemis at Ephesus, the Mausoleum at Halicarnassus, the Colossus of Rhodes, and the Lighthouse of Alexandria. In 2007, a new list was compiled through a worldwide poll, featuring the Great Wall of China, the Taj Mahal, Machu Picchu, Chichén Itzá, the Roman Colosseum, the Christ the Redeemer statue in Rio de Janeiro, and the Pyramids of Giza, which was also on the original list.\n"
     ]
    }
   ],
   "source": [
    "chat(\"Can you give me the previous answer as a paragraph instead?\")"
   ]
  },
  {
   "cell_type": "code",
   "execution_count": null,
   "metadata": {},
   "outputs": [],
   "source": []
  }
 ],
 "metadata": {
  "kernelspec": {
   "display_name": ".venv",
   "language": "python",
   "name": "python3"
  },
  "language_info": {
   "codemirror_mode": {
    "name": "ipython",
    "version": 3
   },
   "file_extension": ".py",
   "mimetype": "text/x-python",
   "name": "python",
   "nbconvert_exporter": "python",
   "pygments_lexer": "ipython3",
   "version": "3.12.4"
  }
 },
 "nbformat": 4,
 "nbformat_minor": 2
}
