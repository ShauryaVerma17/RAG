{
 "cells": [
  {
   "cell_type": "markdown",
   "metadata": {},
   "source": [
    "# Libraries"
   ]
  },
  {
   "cell_type": "code",
   "execution_count": 1,
   "metadata": {},
   "outputs": [],
   "source": [
    "# Creating a virtual environment so that libraries are contained within this workspace\n",
    "# Terminal Command for creating a virtual environment: python -m venv .venv  \n",
    "# Terminal Command for activating the virtual environment: .venv\\scripts\\activate"
   ]
  },
  {
   "cell_type": "code",
   "execution_count": 2,
   "metadata": {},
   "outputs": [],
   "source": [
    "from langchain_community.embeddings import OllamaEmbeddings\n",
    "from langchain_community.llms import Ollama\n",
    "from langchain_community.document_loaders import DirectoryLoader\n",
    "from langchain_community.document_loaders.pdf import PyMuPDFLoader\n",
    "from langchain.prompts import PromptTemplate\n",
    "#from langchain_community.vectorstores import FAISS\n",
    "from langchain_community.vectorstores import DocArrayInMemorySearch\n",
    "from langchain_text_splitters import CharacterTextSplitter\n",
    "#from langchain_text_splitters import TokenTextSplitter\n",
    "from operator import itemgetter"
   ]
  },
  {
   "cell_type": "markdown",
   "metadata": {},
   "source": [
    "# Hello World"
   ]
  },
  {
   "cell_type": "code",
   "execution_count": 3,
   "metadata": {},
   "outputs": [
    {
     "name": "stdout",
     "output_type": "stream",
     "text": [
      "Hello RAG\n"
     ]
    }
   ],
   "source": [
    "# Verifying that python is working :)\n",
    "print(\"Hello RAG\");"
   ]
  },
  {
   "cell_type": "markdown",
   "metadata": {},
   "source": [
    "# Loading the LLM Model"
   ]
  },
  {
   "cell_type": "code",
   "execution_count": 4,
   "metadata": {},
   "outputs": [],
   "source": [
    "# Name of the model to be used \n",
    "Model = \"llama3\"; # Takes too much time to compute *sigh* we need better laptops\n",
    "model = Ollama(model=Model)"
   ]
  },
  {
   "cell_type": "code",
   "execution_count": null,
   "metadata": {},
   "outputs": [],
   "source": [
    "model.invoke(\"Hi there\")"
   ]
  },
  {
   "cell_type": "markdown",
   "metadata": {},
   "source": [
    "# Prepare the template for the prompts"
   ]
  },
  {
   "cell_type": "code",
   "execution_count": 5,
   "metadata": {},
   "outputs": [
    {
     "name": "stdout",
     "output_type": "stream",
     "text": [
      "\n",
      "Answer the question based on the context below. If you can't \n",
      "answer the question, reply \"Oof that's a tough one, i don't really know this\"\n",
      "\n",
      "Context : Here is some context\n",
      "\n",
      "Question : Here is the question\n",
      "\n",
      "\n"
     ]
    }
   ],
   "source": [
    "template = \"\"\"\n",
    "Answer the question based on the context below. If you can't \n",
    "answer the question, reply \"Oof that's a tough one, i don't really know this\"\n",
    "\n",
    "Context : {context}\n",
    "\n",
    "Question : {question}\n",
    "\n",
    "\"\"\"\n",
    "\n",
    "promt = PromptTemplate.from_template(template)\n",
    "\n",
    "#Seeing if our template works\n",
    "print(promt.format(context = \"Here is some context\", question = \"Here is the question\"))"
   ]
  },
  {
   "cell_type": "code",
   "execution_count": 1,
   "metadata": {},
   "outputs": [],
   "source": [
    "def format_docs(docs):\n",
    "    return \"\\n\\n\".join(doc.page_content for doc in docs)"
   ]
  },
  {
   "cell_type": "code",
   "execution_count": 6,
   "metadata": {},
   "outputs": [],
   "source": [
    "# Using langchain to pass the promt to our model \n",
    "chain = promt | model"
   ]
  },
  {
   "cell_type": "code",
   "execution_count": null,
   "metadata": {},
   "outputs": [],
   "source": [
    "chain.invoke({\n",
    "    \"context\" : \"Jack has two apples\",\n",
    "    \"question\" : \"How many apples does mark have?\"\n",
    "})"
   ]
  },
  {
   "cell_type": "code",
   "execution_count": null,
   "metadata": {},
   "outputs": [],
   "source": [
    "chain.invoke({\n",
    "    \"context\" : \"Mary gave jack 2 apples\",\n",
    "    \"question\" : \"How many apples does jack have?\"\n",
    "})"
   ]
  },
  {
   "cell_type": "markdown",
   "metadata": {},
   "source": [
    "# Get the data ready"
   ]
  },
  {
   "cell_type": "code",
   "execution_count": 7,
   "metadata": {},
   "outputs": [],
   "source": [
    "loader = DirectoryLoader(\"data\",glob=\"*.pdf\",loader_cls=PyMuPDFLoader)\n",
    "documents = loader.load()\n",
    "# documents"
   ]
  },
  {
   "cell_type": "code",
   "execution_count": 8,
   "metadata": {},
   "outputs": [],
   "source": [
    "text_splitter = CharacterTextSplitter(chunk_size=1000, chunk_overlap=0)\n",
    "docs = text_splitter.split_documents(documents)"
   ]
  },
  {
   "cell_type": "markdown",
   "metadata": {},
   "source": [
    "# Creating and testing the vectorstore"
   ]
  },
  {
   "cell_type": "code",
   "execution_count": 9,
   "metadata": {},
   "outputs": [
    {
     "name": "stderr",
     "output_type": "stream",
     "text": [
      "c:\\Users\\vermasha\\Documents\\VSCodeProjects\\RAG_POC\\.venv\\Lib\\site-packages\\pydantic\\_migration.py:283: UserWarning: `pydantic.error_wrappers:ValidationError` has been moved to `pydantic:ValidationError`.\n",
      "  warnings.warn(f'`{import_path}` has been moved to `{new_location}`.')\n"
     ]
    }
   ],
   "source": [
    "#faiss_index = FAISS.from_documents(pages, OllamaEmbeddings(model = Model))\n",
    "vectorstore = DocArrayInMemorySearch.from_documents(docs, OllamaEmbeddings(model=Model))"
   ]
  },
  {
   "cell_type": "code",
   "execution_count": 10,
   "metadata": {},
   "outputs": [
    {
     "data": {
      "text/plain": [
       "[Document(page_content='Layers are specified by the z-index CSS property. It represents the third dimension of the box: its position along the \"z axis\".\\nThe boxes are divided into stacks (called stacking contexts). In each stack the back elements will be painted first and the\\nforward elements on top, closer to the user. In case of overlap the foremost element will hide the former element. The stacks are\\nordered according to the z-index property. Boxes with \"z-index\" property form a local stack.\\nTrivia\\nThe birth of the web\\nTim Berners-Lee, a British scientist at CERN, invented the World Wide Web (WWW) in 1989. The web was originally conceived and\\ndeveloped to meet the demand for automatic information-sharing between scientists in universities and institutes around the\\nworld.\\nThe first website at CERN - and in the world - was dedicated to the World Wide Web project itself and was hosted on Berners-\\nLee\\'s NeXT computer. The website described the basic features of the web; how to access other people\\'s documents and how to\\nset up your own server. The NeXT machine - the original web server - is still at CERN. As part of the project to restore the first\\nwebsite, in 2013 CERN reinstated the world\\'s first website to its original address.\\nOn 30 April 1993 CERN put the World Wide Web software in the public domain. CERN made the next release available with an\\nopen license, as a more sure way to maximize its dissemination. Through these actions, making the software required to run a\\nweb server freely available, along with a basic browser and a library of code, the web was allowed to flourish.\\nMore reading:\\nWhat really happens when you navigate to a URL\\nHow Browsers Work: Behind the scenes of modern web browsers\\nWhat exactly happens when you browse a website in your browser?\\nWhat happens when\\nSo how does the browser actually render a website\\nConstructing the Object Model\\nHow the Web Works: A Primer for Newcomers to Web Development (or anyone, really)', metadata={'source': 'data\\\\Web.pdf', 'file_path': 'data\\\\Web.pdf', 'page': 10, 'total_pages': 11, 'format': 'PDF 1.4', 'title': 'Markdown To PDF', 'author': '', 'subject': '', 'keywords': '', 'creator': 'wkhtmltopdf 0.12.3', 'producer': 'Qt 4.8.7', 'creationDate': 'D:20221122084249Z', 'modDate': '', 'trapped': ''}),\n",
       " Document(page_content='on the redirect instead of immediately responding with the web page that the user wants to see. One reason has to do with\\nsearch engine rankings. See, if there are two URLs for the same page, say http://www.vasanth.com/ and http://vasanth.com/,\\nsearch engine may consider them to be two different sites, each with fewer incoming links and thus a lower ranking. Search\\nengines understand permanent redirects (301), and will combine the incoming links from both sources into a single ranking.\\nAlso, multiple URLs for the same content are not cache-friendly. When a piece of content has multiple names, it will potentially\\nappear multiple times in caches.\\nNote: HTTP response starts with the returned status code from the server. Following is a very brief summary of what a status\\ncode denotes: * 1xx indicates an informational message only * 2xx indicates success of some kind * 3xx redirects the client to\\nanother URL * 4xx indicates an error on the client\\'s part * 5xx indicates an error on the server\\'s part\\nHTTP Server Request Handle\\nThe HTTPD (HTTP Daemon) server is the one handling the requests/responses on the server side. The most common HTTPD\\nservers are Apache or nginx for Linux and IIS for Windows.\\nThe HTTPD (HTTP Daemon) receives the request.\\nThe server breaks down the request to the following parameters:\\nHTTP Request Method (either GET, POST, HEAD, PUT and DELETE). In the case of a URL entered directly into the\\naddress bar, this will be GET.\\nDomain, in this case - google.com.\\nRequested path/page, in this case - / (as no specific path/page was requested, / is the default path).\\nThe server verifies that there is a Virtual Host configured on the server that corresponds with google.com.\\nThe server verifies that google.com can accept GET requests.\\nThe server verifies that the client is allowed to use this method (by IP, authentication, etc.).\\nIf the server has a rewrite module installed (like mod_rewrite for Apache or URL Rewrite for IIS), it tries to match the\\nrequest against one of the configured rules. If a matching rule is found, the server uses that rule to rewrite the request.\\nThe server goes to pull the content that corresponds with the request, in our case it will fall back to the index file, as \"/\" is\\nthe main file (some cases can override this, but this is the most common method).\\nThe server parses the file according to the request handler. A request handler is a program (in ASP.NET, PHP, Ruby, …)\\nthat reads the request and generates the HTML for the response. If Google is running on PHP, the server uses PHP to\\ninterpret the index file, and streams the output to the client.\\nNote: One interesting difficulty that every dynamic website faces is how to store data. Smaller sites will often have a single SQL\\ndatabase to store their data, but sites that store a large amount of data and/or have many visitors have to find a way to split the\\ndatabase across multiple machines. Solutions include sharding (splitting up a table across multiple databases based on the\\nprimary key), replication, and usage of simplified databases with weakened consistency semantics.\\nServer Response\\nHere is the response that the server generated and sent back:', metadata={'source': 'data\\\\Web.pdf', 'file_path': 'data\\\\Web.pdf', 'page': 3, 'total_pages': 11, 'format': 'PDF 1.4', 'title': 'Markdown To PDF', 'author': '', 'subject': '', 'keywords': '', 'creator': 'wkhtmltopdf 0.12.3', 'producer': 'Qt 4.8.7', 'creationDate': 'D:20221122084249Z', 'modDate': '', 'trapped': ''}),\n",
       " Document(page_content=\"7. Data Storage: This is a persistence layer. The browser may need to save data locally, such as cookies. Browsers also\\nsupport storage mechanisms such as localStorage, IndexedDB and FileSystem.\\nLet’s start, with the simplest possible case: a plain HTML page with some text and a single image. What does the browser need\\nto do to process this simple page?\\n1. Conversion: the browser reads the raw bytes of the HTML off the disk or network and translates them to individual\\ncharacters based on specified encoding of the file (e.g. UTF-8).\\n2. Tokenizing: the browser converts strings of characters into distinct tokens specified by the W3C HTML5 standard - e.g. “”,\\n“” and other strings within the “angle brackets”. Each token has a special meaning and a set of rules.\\n3. Lexing: the emitted tokens are converted into “objects” which define their properties and rules.\\n4. DOM construction: Finally, because the HTML markup defines relationships between different tags (some tags are\\ncontained within tags) the created objects are linked in a tree data structure that also captures the parent-child\\nrelationships defined in the original markup: HTML object is a parent of the body object, the body is a parent of the\\nparagraph object, and so on.\\nThe final output of this entire process is the Document Object Model, or the “DOM” of our simple page, which the browser uses\\nfor all further processing of the page.\\nEvery time the browser has to process HTML markup it has to step through all of the steps above: convert bytes to characters,\\nidentify tokens, convert tokens to nodes, and build the DOM tree. This entire process can take some time, especially if we have a\\nlarge amount of HTML to process.\\nIf you open up Chrome DevTools and record a timeline while the page is loaded, you can see the actual time taken to perform this\\nstep — in the example above, it took us ~5ms to convert a chunk of HTML bytes into a DOM tree. Of course, if the page was\\nlarger, as most pages are, this process might take significantly longer. You will see in our future sections on creating smooth\\nanimations that this can easily become your bottleneck if the browser has to process large amounts of HTML.\\nRendering Engine\\nA rendering engine is a software component that takes marked up content (such as HTML, XML, image files, etc.) and formatting\\ninformation (such as CSS, XSL, etc.) and displays the formatted content on the screen.\\nBrowser\\nEngine\\nChrome\\nBlink (a fork of WebKit)\\nFirefox\\nGecko\\nSafari\\nWebkit\\nOpera\\nBlink (Presto if < v15)\\nInternet Explorer\\nTrident\\nEdge\\nBlink (EdgeHTML if <\\nv79)\\nWebKit is an open source rendering engine which started as an engine for the Linux platform and was modified by Apple to\\nsupport Mac and Windows.\\nThe rendering engine is single threaded. Almost everything, except network operations, happens in a single thread. In Firefox and\\nSafari this is the main thread of the browser. In Chrome it's the tab process main thread. Network operations can be performed\\nby several parallel threads. The number of parallel connections is limited (usually 6-13 connections per hostname).\", metadata={'source': 'data\\\\Web.pdf', 'file_path': 'data\\\\Web.pdf', 'page': 5, 'total_pages': 11, 'format': 'PDF 1.4', 'title': 'Markdown To PDF', 'author': '', 'subject': '', 'keywords': '', 'creator': 'wkhtmltopdf 0.12.3', 'producer': 'Qt 4.8.7', 'creationDate': 'D:20221122084249Z', 'modDate': '', 'trapped': ''}),\n",
       " Document(page_content='Text Transfer Protocol\\' * Resource \"/\": Retrieve main (index) page\\nWhen no protocol or valid domain name is given the browser proceeds to feed the text given in the address box to the browser\\'s\\ndefault web search engine.\\nCheck HSTS list (deprecated)\\n~The browser checks its \"preloaded HSTS (HTTP Strict Transport Security)\" list. This is a list of websites that have\\nrequested to be contacted via HTTPS only.~\\n~If the website is in the list, the browser sends its request via HTTPS instead of HTTP. Otherwise, the initial request is\\nsent via HTTP.~\\nNote: The website can still use the HSTS policy without being in the HSTS list. The first HTTP request to the website by a user will\\nreceive a response requesting that the user only send HTTPS requests. However, this single HTTP request could potentially leave\\nthe user vulnerable to a downgrade attack, which is why the HSTS list is included in modern web browsers.\\nModern browsers requests https first\\nDNS lookup\\nThe browser tries to figure out the IP address for the entered domain. The DNS lookup proceeds as follows:\\nBrowser cache: The browser caches DNS records for some time. Interestingly, the OS does not tell the browser the time-\\nto-live for each DNS record, and so the browser caches them for a fixed duration (varies between browsers, 2 – 30\\nminutes).\\nOS cache: If the browser cache does not contain the desired record, the browser makes a system call (gethostbyname in\\nWindows). The OS has its own cache.\\nRouter cache: The request continues on to your router, which typically has its own DNS cache.\\nISP DNS cache: The next place checked is the cache ISP’s DNS server. With a cache, naturally.\\nRecursive search: Your ISP’s DNS server begins a recursive search, from the root nameserver, through the .com top-level\\nnameserver, to Google’s nameserver. Normally, the DNS server will have names of the .com nameservers in cache, and so\\na hit to the root nameserver will not be necessary.\\nHere is a diagram of what a recursive DNS search looks like:\\nOne worrying thing about DNS is that the entire domain like wikipedia.org or facebook.com seems to map to a single IP address.\\nFortunately, there are ways of mitigating the bottleneck:\\nRound-robin DNS is a solution where the DNS lookup returns multiple IP addresses, rather than just one. For example,\\nfacebook.com actually maps to four IP addresses.\\nLoad-balancer is the piece of hardware that listens on a particular IP address and forwards the requests to other servers.\\nMajor sites will typically use expensive high-performance load balancers.\\nGeographic DNS improves scalability by mapping a domain name to different IP addresses, depending on the client’s\\ngeographic location. This is great for hosting static content so that different servers don’t have to update shared state.\\nAnycast is a routing technique where a single IP address maps to multiple physical servers. Unfortunately, anycast does\\nnot fit well with TCP and is rarely used in that scenario.\\nMost of the DNS servers themselves use anycast to achieve high availability and low latency of the DNS lookups. Users of an\\nanycast service (DNS is an excellent example) will always connect to the \\'closest\\' (from a routing protocol perspective) DNS\\nserver. This reduces latency, as well as providing a level of load-balancing (assuming that your consumers are evenly distributed\\naround your network).\\nOpening of a socket + TLS handshake\\nOnce the browser receives the IP address of the destination server, it takes that and the given port number from the URL\\n(the HTTP protocol defaults to port 80, and HTTPS to port 443), and makes a call to the system library function named\\nsocket and requests a TCP socket stream.\\nThe client computer sends a ClientHello message to the server with its TLS version, list of cipher algorithms and\\ncompression methods available.\\nThe server replies with a ServerHello message to the client with the TLS version, selected cipher, selected compression\\nmethods and the server\\'s public certificate signed by a CA (Certificate Authority). The certificate contains a public key\\nthat will be used by the client to encrypt the rest of the handshake until a symmetric key can be agreed upon.\\nThe client verifies the server digital certificate against its list of trusted CAs. If trust can be established based on the CA,', metadata={'source': 'data\\\\Web.pdf', 'file_path': 'data\\\\Web.pdf', 'page': 1, 'total_pages': 11, 'format': 'PDF 1.4', 'title': 'Markdown To PDF', 'author': '', 'subject': '', 'keywords': '', 'creator': 'wkhtmltopdf 0.12.3', 'producer': 'Qt 4.8.7', 'creationDate': 'D:20221122084249Z', 'modDate': '', 'trapped': ''})]"
      ]
     },
     "execution_count": 10,
     "metadata": {},
     "output_type": "execute_result"
    }
   ],
   "source": [
    "retriever = vectorstore.as_retriever()\n",
    "retriever.invoke(\"What are the steps in dns lookup?\")"
   ]
  },
  {
   "cell_type": "markdown",
   "metadata": {},
   "source": [
    "# Sending the context and question to the LLM"
   ]
  },
  {
   "cell_type": "code",
   "execution_count": 11,
   "metadata": {},
   "outputs": [],
   "source": [
    "chain = (\n",
    "    {\"context\" : itemgetter(\"question\") | retriever | format_docs, \"question\" : itemgetter(\"question\")}\n",
    "    | promt\n",
    "    | model \n",
    ")"
   ]
  },
  {
   "cell_type": "code",
   "execution_count": 12,
   "metadata": {},
   "outputs": [
    {
     "data": {
      "text/plain": [
       "\"According to the provided context, the steps involved in DNS (Domain Name System) lookup are:\\n\\n1. **Browser cache**: The browser checks its cache for the desired DNS record.\\n2. **OS cache**: If the browser cache doesn't contain the desired record, the browser makes a system call (gethostbyname in Windows) to check the OS's cache.\\n3. **Router cache**: The request continues on to your router, which typically has its own DNS cache.\\n4. **ISP DNS cache**: The next place checked is the cache of the ISP's DNS server.\\n5. **Recursive search**: If the ISP's DNS server doesn't have the desired record in its cache, it begins a recursive search from the root nameserver, through the .com top-level namespace, to the target domain's nameserver.\\n\\nThese steps are illustrated by the provided diagram, which shows the recursive search process.\""
      ]
     },
     "execution_count": 12,
     "metadata": {},
     "output_type": "execute_result"
    }
   ],
   "source": [
    "chain.invoke({\"question\" : \"What is the steps involved in dns lookup?\"})"
   ]
  },
  {
   "cell_type": "markdown",
   "metadata": {},
   "source": [
    "OMG IT WORKS AHAHHAHAHAHAHHA"
   ]
  },
  {
   "cell_type": "code",
   "execution_count": 13,
   "metadata": {},
   "outputs": [
    {
     "data": {
      "text/plain": [
       "\"Based on the context, the browser's high-level structure consists of:\\n\\n1. UI Backend: Used for drawing basic widgets like combo boxes and windows.\\n2. JavaScript Engine: Interpreter used to parse and execute JavaScript code.\\n\\nAdditionally, the text describes the browser's internal structures, including:\\n\\n3. DOM Tree: A tree of DOM element and attribute nodes that represents the HTML document.\\n4. Render Tree: A tree of visual elements in the order they will be displayed, which enables painting the contents in their correct order.\\n\\nThese structures enable the browser to parse and render HTML documents, execute JavaScript code, and display the resulting content on the screen.\""
      ]
     },
     "execution_count": 13,
     "metadata": {},
     "output_type": "execute_result"
    }
   ],
   "source": [
    "chain.invoke({\"question\" : \"What is the browser's high level structure?\"})"
   ]
  },
  {
   "cell_type": "markdown",
   "metadata": {},
   "source": []
  }
 ],
 "metadata": {
  "kernelspec": {
   "display_name": ".venv",
   "language": "python",
   "name": "python3"
  },
  "language_info": {
   "codemirror_mode": {
    "name": "ipython",
    "version": 3
   },
   "file_extension": ".py",
   "mimetype": "text/x-python",
   "name": "python",
   "nbconvert_exporter": "python",
   "pygments_lexer": "ipython3",
   "version": "3.12.4"
  }
 },
 "nbformat": 4,
 "nbformat_minor": 2
}
