{
 "cells": [
  {
   "cell_type": "code",
   "execution_count": 1,
   "metadata": {},
   "outputs": [],
   "source": [
    "from langchain_community.embeddings import OllamaEmbeddings\n",
    "from langchain_community.llms import Ollama\n",
    "from langchain_community.document_loaders import DirectoryLoader\n",
    "from langchain_community.document_loaders.pdf import PyMuPDFLoader\n",
    "from langchain.prompts import PromptTemplate\n",
    "from langchain_community.vectorstores import FAISS\n",
    "from langchain_community.vectorstores import DocArrayInMemorySearch\n",
    "from langchain_text_splitters import CharacterTextSplitter\n",
    "from langchain_text_splitters import TokenTextSplitter\n",
    "from operator import itemgetter"
   ]
  },
  {
   "cell_type": "code",
   "execution_count": 2,
   "metadata": {},
   "outputs": [],
   "source": [
    "Model = \"llama3\"; # Takes too much time to compute *sigh* we need better laptops\n",
    "llmmodel = Ollama(model=Model)\n",
    "\n",
    "template = \"\"\"\n",
    "Answer the question based on the page content in the context below. If you can't answer the question, reply with only \"Oof that's a tough one, i don't really know this\"\n",
    "\n",
    "Context : {context}\n",
    "\n",
    "Question : {question}\n",
    "\n",
    "\"\"\"\n",
    "\n",
    "promt = PromptTemplate.from_template(template)"
   ]
  },
  {
   "cell_type": "code",
   "execution_count": 3,
   "metadata": {},
   "outputs": [],
   "source": [
    "def format_docs(docs):\n",
    "    return \"\\n\\n\".join(doc.page_content for doc in docs)"
   ]
  },
  {
   "cell_type": "code",
   "execution_count": 4,
   "metadata": {},
   "outputs": [],
   "source": [
    "from langchain_community.document_loaders import TextLoader\n",
    "loader = DirectoryLoader(path=\"onePrinterBook\",glob=\"*.pdf\", loader_cls=PyMuPDFLoader)\n",
    "documents = loader.load()\n",
    "\n",
    "text_splitter = TokenTextSplitter(chunk_size=500, chunk_overlap=0)\n",
    "docs2 = text_splitter.split_documents(documents)"
   ]
  },
  {
   "cell_type": "code",
   "execution_count": 5,
   "metadata": {},
   "outputs": [],
   "source": [
    "# Using faiss\n",
    "db2 = FAISS.from_documents(docs2, OllamaEmbeddings(model = \"mxbai-embed-large\"))\n",
    "retriever2 = db2.as_retriever()\n",
    "# faiss_index.similarity_search(\"\")"
   ]
  },
  {
   "cell_type": "code",
   "execution_count": 6,
   "metadata": {},
   "outputs": [],
   "source": [
    "chain2 = (\n",
    "    {\"context\" : itemgetter(\"question\") | retriever2 | format_docs , \"question\" : itemgetter(\"question\")}\n",
    "    | promt\n",
    "    | llmmodel \n",
    ")"
   ]
  },
  {
   "cell_type": "code",
   "execution_count": 8,
   "metadata": {},
   "outputs": [
    {
     "name": "stdout",
     "output_type": "stream",
     "text": [
      "Based on the provided content, here's an overview of the printer parts:\n",
      "\n",
      "1. Paper-width guide\n",
      "2. Input tray extender\n",
      "3. Input tray\n",
      "4. Input tray shield\n",
      "5. Scanner\n",
      "6. Scan path\n",
      "7. Scan light\n",
      "8. Control panel\n",
      "9. Cartridge access door\n",
      "10. Cartridges\n",
      "11. Output tray\n",
      "12. Output tray extender (also referred to as the tray extender)\n",
      "13. Paper catch\n",
      "14. Power connection\n",
      "15. USB port\n",
      "\n",
      "These are the various components that make up the printer, which is likely an HP DeskJet 3700 model based on the provided information.\n"
     ]
    }
   ],
   "source": [
    "print(chain2.invoke({\"question\" : \"tell me about the printer parts\"}))"
   ]
  },
  {
   "cell_type": "code",
   "execution_count": 12,
   "metadata": {},
   "outputs": [
    {
     "name": "stdout",
     "output_type": "stream",
     "text": [
      "Based on the page content, you have the following paper options for everyday printing:\n",
      "\n",
      "* HP Everyday Photo Paper (mentioned in the first section)\n",
      "* HP Bright White Inkjet Paper\n",
      "* Color Inkjet Paper\n",
      "* HP Multipurpose and All-in-One Printing Paper\n",
      "* Office, Copy, and Copy & Print Paper\n",
      "\n",
      "These papers are designed for casual photo printing and deliver sharp text and high-contrast colors.\n"
     ]
    }
   ],
   "source": [
    "print(chain2.invoke({\"question\" : \"which paper options do i have for everyday printing\"}))"
   ]
  },
  {
   "cell_type": "code",
   "execution_count": 13,
   "metadata": {},
   "outputs": [
    {
     "name": "stdout",
     "output_type": "stream",
     "text": [
      "According to the page content, you can order HP supplies as follows:\n",
      "\n",
      "* To locate the correct cartridge number: Open the HP printer software (Windows) or use HP Utility (OS X).\n",
      "* To find the print cartridge reorder numbers:\n",
      "\t+ Windows: Click Shop, click Shop For Supplies Online, and then follow the onscreen instructions.\n",
      "\t+ OS X: Open HP Utility, click Supplies Info, and then click All Settings to return to the Information and Support pane.\n",
      "* Order original HP supplies for your printer at www.hp.com/buy/supplies.\n",
      "\n",
      "You can also contact HP support if you need help with ordering supplies or have any questions.\n"
     ]
    }
   ],
   "source": [
    "print(chain2.invoke({\"question\" : \"How can I order hpe supplies?\"}))"
   ]
  },
  {
   "cell_type": "code",
   "execution_count": 14,
   "metadata": {},
   "outputs": [
    {
     "name": "stdout",
     "output_type": "stream",
     "text": [
      "According to the page content, you can contact HP support by:\n",
      "\n",
      "* Chatting with an HP support agent online\n",
      "* Calling an HP support agent\n",
      "\n",
      "You will need to be prepared to provide the following information when contacting HP support:\n",
      "\n",
      "* Product name (located on the printer)\n",
      "* Product number (located inside the cartridge access door)\n",
      "* Serial number (located on the back or bottom of the printer)\n"
     ]
    }
   ],
   "source": [
    "print(chain2.invoke({\"question\" : \"How can I contact HPE support\"}))"
   ]
  },
  {
   "cell_type": "code",
   "execution_count": 15,
   "metadata": {},
   "outputs": [
    {
     "name": "stdout",
     "output_type": "stream",
     "text": [
      "According to the provided context, the HP support website is www.support.hp.com.\n"
     ]
    }
   ],
   "source": [
    "print(chain2.invoke({\"question\" : \"what is the hp support website\"}))"
   ]
  },
  {
   "cell_type": "code",
   "execution_count": null,
   "metadata": {},
   "outputs": [],
   "source": []
  }
 ],
 "metadata": {
  "kernelspec": {
   "display_name": ".venv",
   "language": "python",
   "name": "python3"
  },
  "language_info": {
   "codemirror_mode": {
    "name": "ipython",
    "version": 3
   },
   "file_extension": ".py",
   "mimetype": "text/x-python",
   "name": "python",
   "nbconvert_exporter": "python",
   "pygments_lexer": "ipython3",
   "version": "3.12.4"
  }
 },
 "nbformat": 4,
 "nbformat_minor": 2
}
