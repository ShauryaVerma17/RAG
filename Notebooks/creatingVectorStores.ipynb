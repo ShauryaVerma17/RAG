{
 "cells": [
  {
   "cell_type": "code",
   "execution_count": 1,
   "metadata": {},
   "outputs": [],
   "source": [
    "from langchain_community.embeddings import OllamaEmbeddings\n",
    "from langchain_community.llms import Ollama\n",
    "from langchain_community.document_loaders import DirectoryLoader\n",
    "from langchain_community.document_loaders.pdf import PyMuPDFLoader\n",
    "from langchain.prompts import PromptTemplate\n",
    "from langchain_community.vectorstores import FAISS\n",
    "from langchain_community.vectorstores import DocArrayInMemorySearch\n",
    "from langchain_text_splitters import CharacterTextSplitter\n",
    "from langchain_text_splitters import TokenTextSplitter\n",
    "from operator import itemgetter\n",
    "import os"
   ]
  },
  {
   "cell_type": "markdown",
   "metadata": {},
   "source": [
    "## How to load these indexes into code "
   ]
  },
  {
   "cell_type": "code",
   "execution_count": 2,
   "metadata": {},
   "outputs": [],
   "source": [
    "#db = FAISS.load_local(\"../VectorStores/NameOfFolder\", OllamaEmbeddings(model =  \"mxbai-embed-large\"), allow_dangerous_deserialization= True)"
   ]
  },
  {
   "cell_type": "markdown",
   "metadata": {},
   "source": [
    "## Pre-requisites"
   ]
  },
  {
   "cell_type": "code",
   "execution_count": 3,
   "metadata": {},
   "outputs": [],
   "source": [
    "Embedding_Model1 = \"mxbai-embed-large\"\n",
    "Embedding_Model2 = \"nomic-embed-text\""
   ]
  },
  {
   "cell_type": "markdown",
   "metadata": {},
   "source": [
    "## mx-bai-embed model (only a 500 context length which is not too good)"
   ]
  },
  {
   "cell_type": "markdown",
   "metadata": {},
   "source": [
    "### HowWebWorks PDF"
   ]
  },
  {
   "cell_type": "code",
   "execution_count": 4,
   "metadata": {},
   "outputs": [],
   "source": [
    "loader = DirectoryLoader(\"../Data/testDataPDF\",glob=\"*.pdf\",loader_cls=PyMuPDFLoader)\n",
    "documents = loader.load()\n",
    "text_splitter = CharacterTextSplitter(chunk_size=400, chunk_overlap=0)\n",
    "docs = text_splitter.split_documents(documents)\n",
    "db = FAISS.from_documents(docs, OllamaEmbeddings(model = Embedding_Model1))\n",
    "\n",
    "os.makedirs(\"../VectorStores/mxbai\", exist_ok = True)\n",
    "db.save_local(\"../VectorStores/mxbai/webPDF\")"
   ]
  },
  {
   "cell_type": "markdown",
   "metadata": {},
   "source": [
    "### HowWebWorks MD"
   ]
  },
  {
   "cell_type": "code",
   "execution_count": 5,
   "metadata": {},
   "outputs": [
    {
     "name": "stderr",
     "output_type": "stream",
     "text": [
      "Created a chunk of size 1161, which is longer than the specified 1000\n",
      "Created a chunk of size 2033, which is longer than the specified 1000\n",
      "Created a chunk of size 2603, which is longer than the specified 1000\n",
      "Created a chunk of size 1782, which is longer than the specified 1000\n",
      "Created a chunk of size 5099, which is longer than the specified 1000\n",
      "Created a chunk of size 2110, which is longer than the specified 1000\n",
      "Created a chunk of size 1398, which is longer than the specified 1000\n",
      "Created a chunk of size 3672, which is longer than the specified 1000\n",
      "Created a chunk of size 1463, which is longer than the specified 1000\n",
      "Created a chunk of size 1654, which is longer than the specified 1000\n",
      "Created a chunk of size 2628, which is longer than the specified 1000\n",
      "Created a chunk of size 1706, which is longer than the specified 1000\n",
      "Created a chunk of size 1773, which is longer than the specified 1000\n",
      "Created a chunk of size 2232, which is longer than the specified 1000\n",
      "Created a chunk of size 2492, which is longer than the specified 1000\n",
      "Created a chunk of size 2454, which is longer than the specified 1000\n"
     ]
    }
   ],
   "source": [
    "loader = DirectoryLoader(path=\"../Data/testDataMD\",glob=\"*.txt\")\n",
    "documents = loader.load()\n",
    "text_splitter = CharacterTextSplitter(separator=\"##\", chunk_size=400, chunk_overlap=0)\n",
    "docs = text_splitter.split_documents(documents)\n",
    "db = FAISS.from_documents(docs, OllamaEmbeddings(model = Embedding_Model1))\n",
    "\n",
    "os.makedirs(\"../VectorStores/mxbai\", exist_ok = True)\n",
    "db.save_local(\"../VectorStores/mxbai/webMD\")"
   ]
  },
  {
   "cell_type": "markdown",
   "metadata": {},
   "source": [
    "### Single Printer Book"
   ]
  },
  {
   "cell_type": "code",
   "execution_count": 6,
   "metadata": {},
   "outputs": [],
   "source": [
    "loader = DirectoryLoader(\"../Data/onePrinterBook\",glob=\"*.pdf\",loader_cls=PyMuPDFLoader)\n",
    "documents = loader.load()\n",
    "text_splitter = CharacterTextSplitter(chunk_size=400, chunk_overlap=0)\n",
    "docs = text_splitter.split_documents(documents)\n",
    "db = FAISS.from_documents(docs, OllamaEmbeddings(model = Embedding_Model1))\n",
    "\n",
    "os.makedirs(\"../VectorStores/mxbai\", exist_ok = True)\n",
    "db.save_local(\"../VectorStores/mxbai/SinglePrinter\")"
   ]
  },
  {
   "cell_type": "markdown",
   "metadata": {},
   "source": [
    "### All Printer Books"
   ]
  },
  {
   "cell_type": "code",
   "execution_count": 7,
   "metadata": {},
   "outputs": [],
   "source": [
    "loader = DirectoryLoader(path=\"../Data/multiplePrinterBooks\",glob=\"**/*.pdf\", loader_cls=PyMuPDFLoader)\n",
    "documents = loader.load()\n",
    "text_splitter = TokenTextSplitter(chunk_size=400, chunk_overlap=0)\n",
    "docs = text_splitter.split_documents(documents)\n",
    "db = FAISS.from_documents(docs, OllamaEmbeddings(model = Embedding_Model1))\n",
    "\n",
    "os.makedirs(\"../VectorStores/mxbai\", exist_ok = True)\n",
    "db.save_local(\"../VectorStores/mxbai/AllPrinters\")"
   ]
  },
  {
   "cell_type": "markdown",
   "metadata": {},
   "source": [
    "## nomic-embed model used for embedding"
   ]
  },
  {
   "cell_type": "markdown",
   "metadata": {},
   "source": [
    "### HowWebWorks PDF"
   ]
  },
  {
   "cell_type": "code",
   "execution_count": 4,
   "metadata": {},
   "outputs": [],
   "source": [
    "loader = DirectoryLoader(\"../Data/testDataPDF\",glob=\"*.pdf\",loader_cls=PyMuPDFLoader)\n",
    "documents = loader.load()\n",
    "text_splitter = CharacterTextSplitter(chunk_size=1000, chunk_overlap=200)\n",
    "docs = text_splitter.split_documents(documents)\n",
    "db = FAISS.from_documents(docs, OllamaEmbeddings(model = Embedding_Model2))\n",
    "\n",
    "os.makedirs(\"../VectorStores/nomic\", exist_ok = True)\n",
    "db.save_local(\"../VectorStores/nomic/webPDF\")"
   ]
  },
  {
   "cell_type": "markdown",
   "metadata": {},
   "source": [
    "### HowWebWorks MD"
   ]
  },
  {
   "cell_type": "code",
   "execution_count": 5,
   "metadata": {},
   "outputs": [
    {
     "name": "stderr",
     "output_type": "stream",
     "text": [
      "Created a chunk of size 1161, which is longer than the specified 1000\n",
      "Created a chunk of size 2033, which is longer than the specified 1000\n",
      "Created a chunk of size 2603, which is longer than the specified 1000\n",
      "Created a chunk of size 1782, which is longer than the specified 1000\n",
      "Created a chunk of size 5099, which is longer than the specified 1000\n",
      "Created a chunk of size 2110, which is longer than the specified 1000\n",
      "Created a chunk of size 1398, which is longer than the specified 1000\n",
      "Created a chunk of size 3672, which is longer than the specified 1000\n",
      "Created a chunk of size 1463, which is longer than the specified 1000\n",
      "Created a chunk of size 1654, which is longer than the specified 1000\n",
      "Created a chunk of size 2628, which is longer than the specified 1000\n",
      "Created a chunk of size 1706, which is longer than the specified 1000\n",
      "Created a chunk of size 1773, which is longer than the specified 1000\n",
      "Created a chunk of size 2232, which is longer than the specified 1000\n",
      "Created a chunk of size 2492, which is longer than the specified 1000\n",
      "Created a chunk of size 2454, which is longer than the specified 1000\n"
     ]
    }
   ],
   "source": [
    "loader = DirectoryLoader(path=\"../Data/testDataMD\",glob=\"*.txt\")\n",
    "documents = loader.load()\n",
    "text_splitter = CharacterTextSplitter(separator=\"##\", chunk_size=1000, chunk_overlap=0)\n",
    "docs = text_splitter.split_documents(documents)\n",
    "db = FAISS.from_documents(docs, OllamaEmbeddings(model = Embedding_Model2))\n",
    "\n",
    "os.makedirs(\"../VectorStores/nomic\", exist_ok = True)\n",
    "db.save_local(\"../VectorStores/nomic/webMD\")"
   ]
  },
  {
   "cell_type": "markdown",
   "metadata": {},
   "source": [
    "### Single Printer Book"
   ]
  },
  {
   "cell_type": "code",
   "execution_count": 6,
   "metadata": {},
   "outputs": [],
   "source": [
    "loader = DirectoryLoader(\"../Data/onePrinterBook\",glob=\"*.pdf\",loader_cls=PyMuPDFLoader)\n",
    "documents = loader.load()\n",
    "text_splitter = CharacterTextSplitter(chunk_size=1000, chunk_overlap=200)\n",
    "docs = text_splitter.split_documents(documents)\n",
    "db = FAISS.from_documents(docs, OllamaEmbeddings(model = Embedding_Model2))\n",
    "\n",
    "os.makedirs(\"../VectorStores/nomic\", exist_ok = True)\n",
    "db.save_local(\"../VectorStores/nomic/SinglePrinter\")"
   ]
  },
  {
   "cell_type": "markdown",
   "metadata": {},
   "source": [
    "### All Printer Books"
   ]
  },
  {
   "cell_type": "code",
   "execution_count": 4,
   "metadata": {},
   "outputs": [],
   "source": [
    "loader = DirectoryLoader(path=\"../Data/multiplePrinterBooks\",glob=\"**/*.pdf\", loader_cls=PyMuPDFLoader)\n",
    "documents = loader.load()\n",
    "text_splitter = TokenTextSplitter(chunk_size=1000, chunk_overlap=300)\n",
    "docs = text_splitter.split_documents(documents)\n",
    "db = FAISS.from_documents(docs, OllamaEmbeddings(model = Embedding_Model2))\n",
    "\n",
    "os.makedirs(\"../VectorStores/nomic\", exist_ok = True)\n",
    "db.save_local(\"../VectorStores/nomic/AllPrinters\")"
   ]
  },
  {
   "cell_type": "code",
   "execution_count": null,
   "metadata": {},
   "outputs": [],
   "source": []
  }
 ],
 "metadata": {
  "kernelspec": {
   "display_name": ".venv",
   "language": "python",
   "name": "python3"
  },
  "language_info": {
   "codemirror_mode": {
    "name": "ipython",
    "version": 3
   },
   "file_extension": ".py",
   "mimetype": "text/x-python",
   "name": "python",
   "nbconvert_exporter": "python",
   "pygments_lexer": "ipython3",
   "version": "3.12.4"
  }
 },
 "nbformat": 4,
 "nbformat_minor": 2
}
