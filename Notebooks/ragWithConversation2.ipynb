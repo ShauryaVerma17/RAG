{
 "cells": [
  {
   "cell_type": "markdown",
   "metadata": {},
   "source": [
    "## Libraries"
   ]
  },
  {
   "cell_type": "code",
   "execution_count": 32,
   "metadata": {},
   "outputs": [],
   "source": [
    "from langchain_community.embeddings import OllamaEmbeddings\n",
    "from langchain_community.llms import Ollama\n",
    "from langchain_community.vectorstores import FAISS\n",
    "import json\n",
    "from langchain.prompts import PromptTemplate"
   ]
  },
  {
   "cell_type": "code",
   "execution_count": 33,
   "metadata": {},
   "outputs": [],
   "source": [
    "Model = Ollama(model = \"gemma2\")"
   ]
  },
  {
   "cell_type": "code",
   "execution_count": 34,
   "metadata": {},
   "outputs": [],
   "source": [
    "vectors = FAISS.load_local(\"../VectorStores/nomic/AllPrinters\", OllamaEmbeddings(model =  \"nomic-embed-text\"), allow_dangerous_deserialization= True)\n",
    "retriever = vectors.as_retriever()"
   ]
  },
  {
   "cell_type": "code",
   "execution_count": 36,
   "metadata": {},
   "outputs": [],
   "source": [
    "def combineDocs(docs):\n",
    "    context = \"\\n\\n\".join(f'Document [Metadata :  Source : {doc.metadata.get(\"source\")} \\nContent : \\n{doc.page_content} ]' for doc in docs)\n",
    "    return context"
   ]
  },
  {
   "cell_type": "code",
   "execution_count": 5,
   "metadata": {},
   "outputs": [],
   "source": [
    "chatHistory = \"\\n\"\n",
    "\n",
    "latestPrompt = \"\"\n",
    "\n",
    "template = \"\"\"\n",
    "You are a helpful assistant. You are given some text, conversation history and a question. \n",
    "Answer the question based on the information given in the text (make use of the metadata to determine which text documents to use for the printer mentioned in the question) or based on the conversation if needed\n",
    "Provide the source of your answer whether it's from a document (name the document) or the previous conversation\n",
    "\n",
    "## Text ##\n",
    "{context}\n",
    "\n",
    "## Conversation ##\n",
    "{conversation}\n",
    "\\n\n",
    "Question : {question}\n",
    "Answer: \n",
    "\n",
    "\"\"\"\n",
    "\n",
    "prompt = PromptTemplate.from_template(template)\n",
    "\n",
    "def chat(question): \n",
    "    \n",
    "    global chatHistory\n",
    "    global latestPrompt\n",
    "    # Retrieve docs from vector DB\n",
    "    #docs = vectors.similarity_search(question, k = 4)\n",
    "    #contextString = combineDocs2(docs)\n",
    "    contextString = combineDocs(retriever.invoke(question))\n",
    "    \n",
    "    query = prompt.format(conversation = chatHistory, context = contextString, question = question)\n",
    "    latestPrompt = query\n",
    "    response = Model.invoke(query)\n",
    "    \n",
    "    chatHistory = chatHistory + \"\\nQuestion : \" + question + \"\\nAnswer : \" + response\n",
    "\n",
    "    return response\n"
   ]
  },
  {
   "cell_type": "code",
   "execution_count": null,
   "metadata": {},
   "outputs": [],
   "source": [
    "chat(\"what are the various parts of a printer in a Deskjet3700\")"
   ]
  },
  {
   "cell_type": "code",
   "execution_count": null,
   "metadata": {},
   "outputs": [],
   "source": [
    "chat(\"can you give me the previous answer as a paragraph\")"
   ]
  },
  {
   "cell_type": "code",
   "execution_count": null,
   "metadata": {},
   "outputs": [],
   "source": [
    "print(chatHistory)"
   ]
  },
  {
   "cell_type": "code",
   "execution_count": 6,
   "metadata": {},
   "outputs": [
    {
     "data": {
      "text/plain": [
       "'Here\\'s how to print a photo on photo paper using your HP Deskjet 2623 on Windows, based on the provided manual excerpts:\\n\\n**1. Prepare the Printer:**\\n\\n* **Swap Cartridges:** Remove the black print cartridge and replace it with the photo cartridge. The manual states that you should store the black cartridge in an airtight container when not in use.\\n* **Align Cartridges:**  If this is a new cartridge, align them according to your printer\\'s instructions. Use plain paper for alignment to save your photo paper.\\n\\n**2. Load Photo Paper:**\\n\\n* Load the photo paper into the input tray, glossy-side down.\\n\\n**3. Print Settings (Windows):**\\n\\n* **Open Print Dialog:** In your software, go to \"File\" and select \"Print\".\\n* **Select Printer:** Ensure your HP Deskjet 2623 is chosen as the printer.\\n* **Properties/Settings:** Click the button that opens the Properties dialog box (it might be labeled differently depending on your software).\\n* **Paper Type:** In the \"Setup\" tab, select \"HP Photo Paper\" or \"HP Premium Photo Paper\".\\n* **Quality:** Choose the highest quality setting available (usually \"Maximum DPI\").\\n* **Photo Fix:**  Click the \"Color Options\" disclosure triangle and choose either \"Off\" (no changes) or \"On\" (auto-focus and sharpness adjustment). \\n\\n**4. Print:**\\n\\n* Click \"OK\" to close the Properties dialog box.\\n* Click \"Print\" to start printing your photo.\\n\\n**5. After Printing:**\\n\\n* **Remove Promptly:** Take each printed sheet out of the printer right away.\\n* **Dry Properly:** Allow the prints to dry glossy-side up in a low-humidity environment. Drying time varies.\\n\\n\\nLet me know if you have any more questions about printing!'"
      ]
     },
     "execution_count": 6,
     "metadata": {},
     "output_type": "execute_result"
    }
   ],
   "source": [
    "chat(\"what are the steps to print a photo on photo paper (Windows) using deskjet 2623\")"
   ]
  },
  {
   "cell_type": "code",
   "execution_count": null,
   "metadata": {},
   "outputs": [],
   "source": [
    "print(retriever.invoke(\"what are the steps to print a photo on photo paper (Windows) using deskjet 2600 (aka deskjet 2623)\"))"
   ]
  },
  {
   "cell_type": "markdown",
   "metadata": {},
   "source": [
    "## Using Message Arrays"
   ]
  },
  {
   "cell_type": "code",
   "execution_count": 37,
   "metadata": {},
   "outputs": [],
   "source": [
    "import ollama"
   ]
  },
  {
   "cell_type": "code",
   "execution_count": 43,
   "metadata": {},
   "outputs": [],
   "source": [
    "history = [' ', ' ', ' ', ' ', ' ', ' '] \n",
    "def chat2(question) : \n",
    "    \n",
    "    global history\n",
    "\n",
    "    contextString = combineDocs(retriever.invoke(question))\n",
    "    systemMessage = \"\"\" \n",
    "    You are a helpful assistant. You are given conversation history and a question with some context from the user. \n",
    "    Answer the question based on the information given in that context or based on the conversation history if needed.\"\n",
    "    \n",
    "    \"\"\"\n",
    "    message=[\n",
    "                {\n",
    "                    'role': 'system',\n",
    "                    'content': systemMessage,\n",
    "                },\n",
    "                {\n",
    "                    'role': 'user',\n",
    "                    'content': history[-6],\n",
    "                },\n",
    "                {\n",
    "                    'role': 'assistant',\n",
    "                    'content': history[-5],\n",
    "                },\n",
    "                {\n",
    "                    'role': 'user',\n",
    "                    'content': history[-4],\n",
    "                },\n",
    "                {\n",
    "                    'role': 'assistant',\n",
    "                    'content': history[-3],\n",
    "                },\n",
    "                {\n",
    "                    'role': 'user',\n",
    "                    'content': history[-2],\n",
    "                },\n",
    "                {\n",
    "                    'role': 'assistant',\n",
    "                    'content': history[-1],\n",
    "                },\n",
    "                {\n",
    "                    'role': 'user',\n",
    "                    'content': \"Here is the context : \\n\" + contextString,\n",
    "                },{\n",
    "                    'role': 'user',\n",
    "                    'content': question,\n",
    "                },\n",
    "        ]\n",
    "    \n",
    "    response = ollama.chat(model = \"Gemma2\", messages = message)\n",
    "    answer = response['message']['content']\n",
    "    history.append(question)\n",
    "    history.append(answer)\n",
    "    \n",
    "    print(answer)\n",
    "    "
   ]
  },
  {
   "cell_type": "code",
   "execution_count": 44,
   "metadata": {},
   "outputs": [
    {
     "name": "stdout",
     "output_type": "stream",
     "text": [
      "Based on the provided document \"[Metadata :  Source : ..\\Data\\multiplePrinterBooks\\HP - Deskjet-3700-Printer.pdf \n",
      "Content :  \n",
      "HP DeskJet 3700 All-in-One series]\", here are the parts of a Deskjet 3700 printer:\n",
      "\n",
      "1. **Paper-width guide**\n",
      "2. **Input tray extender**\n",
      "3. **Input tray**\n",
      "4. **Input tray shield**\n",
      "5. **Scanner**\n",
      "6. **Scan path**\n",
      "7. **Scan light**\n",
      "8. **Control panel**\n",
      "9. **Cartridge access door**\n",
      "10. **Cartridges**\n",
      "11. **Output tray**\n",
      "12. **Output tray extender (also referred to as the tray extender)**\n",
      "13. **Paper catch**\n",
      "14. **Power connection**\n",
      "15. **USB port** \n",
      "\n",
      "\n",
      "Let me know if you'd like more details about any specific part!\n"
     ]
    }
   ],
   "source": [
    "chat2(\"what are the various parts of a printer in a Deskjet3700\")"
   ]
  },
  {
   "cell_type": "code",
   "execution_count": 45,
   "metadata": {},
   "outputs": [
    {
     "name": "stdout",
     "output_type": "stream",
     "text": [
      "Based on the provided document, the HP DeskJet 3700 printer consists of several parts:  The input tray system includes a paper-width guide, input tray extender, input tray, and input tray shield. The printer also features a scanner with a scan path and scan light.  Users interact with the device through the control panel. The cartridge access door houses the ink cartridges. Finally, the output tray, including an output tray extender, and a paper catch facilitate printing. Additionally, the printer has power and USB connection ports. \n",
      "\n",
      "\n",
      "\n"
     ]
    }
   ],
   "source": [
    "chat2(\"Can you give me the previous answer as a paragraph?\")"
   ]
  },
  {
   "cell_type": "code",
   "execution_count": 46,
   "metadata": {},
   "outputs": [
    {
     "name": "stdout",
     "output_type": "stream",
     "text": [
      "Here's how to load the multipurpose tray (Tray 1) on your HP Color LaserJet E877 series printer:\n",
      "\n",
      "**1. Access the Tray:**\n",
      "\n",
      "* Locate the multipurpose tray on the front of your printer. It's usually labeled \"Tray 1\" and may be slightly smaller than the main paper trays.\n",
      "\n",
      "**2. Open the Tray:**\n",
      "\n",
      "* Gently pull the tray out from the printer until it stops.\n",
      "\n",
      "**3. Adjust the Paper Guides:**\n",
      "\n",
      "* **Width Guides:** Slide the width guides inward to match the width of your paper. Make sure the edges of the paper are snug against the guides.\n",
      "* **Length Guide:**  Slide the length guide to the appropriate position for the size of paper you're loading.\n",
      "\n",
      "**4. Load Your Paper:**\n",
      "\n",
      "* Place your paper face down into the tray, making sure it's stacked evenly and not curled or bent. \n",
      "* Do not overload the tray. The maximum capacity is 100 sheets of 75 grams per square meter (20 lb) paper or 10 envelopes.\n",
      "\n",
      "**5. Close the Tray:**\n",
      "\n",
      "* Gently push the tray back into the printer until it clicks into place.\n",
      "\n",
      "**6. Select Paper Type in Print Driver:**\n",
      "\n",
      "* Before printing, make sure to select the correct paper type in your computer's print driver settings. This ensures your printer uses the appropriate settings for your paper.\n",
      "\n",
      "\n",
      "\n",
      "Let me know if you have any other questions!\n"
     ]
    }
   ],
   "source": [
    "chat2(\"how can I load the multipurpose tray in e877 printer series\")"
   ]
  },
  {
   "cell_type": "code",
   "execution_count": 47,
   "metadata": {},
   "outputs": [
    {
     "data": {
      "text/plain": [
       "[Document(metadata={'source': '..\\\\Data\\\\multiplePrinterBooks\\\\HP - Deskjet-3700-Printer.pdf', 'file_path': '..\\\\Data\\\\multiplePrinterBooks\\\\HP - Deskjet-3700-Printer.pdf', 'page': 16, 'total_pages': 118, 'format': 'PDF 1.6', 'title': 'HP DeskJet 3700 All-in-One series User Guide – ENWW', 'author': 'HP IWS Design Customer Education', 'subject': '', 'keywords': 'Edition 1, 9/2016', 'creator': 'AH XSL Formatter V6.2 MR6 for Windows (x64) : 6.2.8.19325 (2015/01/06 12:40JST)', 'producer': 'Antenna House PDF Output Library 6.2.640 (Windows (x64))', 'creationDate': \"D:20160524165601+08'00'\", 'modDate': \"D:20160525102417+08'00'\", 'trapped': ''}, page_content='4.\\nPull out the output tray and the output tray extender, and then lift the paper catch.\\nENWW\\nLoad media\\n13\\n'),\n",
       " Document(metadata={'source': '..\\\\Data\\\\multiplePrinterBooks\\\\hp-laserjet-Pro-m501-m506-m527-troubleshooting-manual.pdf', 'file_path': '..\\\\Data\\\\multiplePrinterBooks\\\\hp-laserjet-Pro-m501-m506-m527-troubleshooting-manual.pdf', 'page': 269, 'total_pages': 630, 'format': 'PDF 1.6', 'title': 'HP LaserJet Pro M501, HP LaserJet Enterprise M506, and LaserJet Enterprise MFP M527 Troubleshooting Manual - ENWW', 'author': 'HP LaserJet Content Design & Delivery', 'subject': 'Cheetah tools build R5.26.1 created on April 12, 2016. 04:14 PM', 'keywords': 'Edition 2 4/2016', 'creator': 'AH XSL Formatter V6.2 MR2 for Windows (x64) : 6.2.4.17534 (2014/06/19 09:55JST)', 'producer': 'Antenna House PDF Output Library 6.2.553 (Windows (x64))', 'creationDate': \"D:20160421082916-07'00'\", 'modDate': \"D:20160421100327-06'00'\", 'trapped': ''}, page_content='Manage Trays menu (M506/M527)\\nTo display: At the printer control panel, select the Administration menu, and then select the Manage Trays \\nmenu.\\nIn the following table, asterisks (*) indicate the factory default setting.\\nTable 2-52  Manage Trays menu (M506/M527)\\nFirst level\\nValues\\nDescription\\nUse Requested Tray\\nExclusively*\\nFirst\\nControls how the printer handles jobs that have \\nspecified a specific input tray. Two options are \\navailable: \\nExclusively: The printer never selects a different\\n \\ntray when the user has indicated that a specific\\n \\ntray should be used, even if that tray is empty.\\nFirst: The printer pulls from another tray if the \\nspecified tray is empty, even though the user \\nspecifically indicated a tray for the job.\\nManually Feed Prompt\\nAlways*\\nUnless loaded\\nIndicate whether a prompt should appear when \\nthe type or size for a job does not match the \\nspecified tray and the printer pulls from the \\nmultipurpose tray instead. Two options are \\navailable:\\nAlways: A prompt always displays before using \\nthe multipurpose tray.\\nUnless loaded: A message displays only if the \\nmultipurpose tray is empty.\\nSize/Type Prompt\\nDisplay*\\nDo not display\\nControls whether the tray configuration\\n \\nmessage displays whenever a tray is closed. \\nTwo options are available:\\nDisplay: Shows the tray configuration message \\nwhen a tray is closed. The user is able to \\nconfigure the tray settings directly from this \\nmessage.\\nDo not display: Prevents the tray configuration\\n \\nmessage from automatically appearing.\\nUse Another Tray\\nEnabled*\\nDisabled\\nUse to turn on or off the control-panel prompt \\nto select another tray when the specified tray is \\nempty. Two options are available:\\nEnabled: When this option is selected, the user \\nis prompted either to add paper to the selected \\ntray or to choose a different tray.\\nDisabled: When this option is selected, the user \\nis not given the option of selecting a different\\n \\ntray. The printer prompts the user to add paper \\nto the tray that was initially selected.\\n240 Chapter 2   Solve problems\\nENWW\\n'),\n",
       " Document(metadata={'source': '..\\\\Data\\\\multiplePrinterBooks\\\\hp-laserjet-Pro-m501-m506-m527-troubleshooting-manual.pdf', 'file_path': '..\\\\Data\\\\multiplePrinterBooks\\\\hp-laserjet-Pro-m501-m506-m527-troubleshooting-manual.pdf', 'page': 416, 'total_pages': 630, 'format': 'PDF 1.6', 'title': 'HP LaserJet Pro M501, HP LaserJet Enterprise M506, and LaserJet Enterprise MFP M527 Troubleshooting Manual - ENWW', 'author': 'HP LaserJet Content Design & Delivery', 'subject': 'Cheetah tools build R5.26.1 created on April 12, 2016. 04:14 PM', 'keywords': 'Edition 2 4/2016', 'creator': 'AH XSL Formatter V6.2 MR2 for Windows (x64) : 6.2.4.17534 (2014/06/19 09:55JST)', 'producer': 'Antenna House PDF Output Library 6.2.553 (Windows (x64))', 'creationDate': \"D:20160421082916-07'00'\", 'modDate': \"D:20160421100327-06'00'\", 'trapped': ''}, page_content='Tray 5\\nRecommended action\\nRemove enough paper so that the paper stack does not exceed the limit for the tray.\\nNOTE:\\nIf this message appears after lifter drive assembly was removed or replaced, make sure that the \\nconnector on the assembly is correctly connected and fully seated.\\nType mismatch Tray\\nDescription\\nThe specified tray contains a paper type that does not match the configured type.\\nRecommended action\\nThe specified tray will not be used until this condition is addressed. Printing can continue from other trays.\\n1.\\nLoad the correct paper in the specified tray.\\n2.\\nAt the control panel, verify the type configuration.\\nUnsupported drive installed To continue, touch “OK”\\nDescription\\nA non-supported hard drive has been installed. The drive is unusable by this printer.\\nRecommended action\\n1.\\nTurn the printer off.\\n2.\\nRemove the hard drive.\\n3.\\nTurn the printer on.\\nUnsupported supply in use OR Unsupported supply installed To continue, touch “OK”\\nDescription\\nA non-supported supply has been installed.\\nOR\\nThe print cartridge is for a different HP printer.\\n—\\nXX = 00\\nBlack print cartridge\\nRecommended action\\nInstall the correct supplies for this printer. See the parts chapter in the service manual for supply part \\nnumbers.\\nENWW\\nTools for troubleshooting 387\\n'),\n",
       " Document(metadata={'source': '..\\\\Data\\\\multiplePrinterBooks\\\\hp-e877-series-user-guide.pdf', 'file_path': '..\\\\Data\\\\multiplePrinterBooks\\\\hp-e877-series-user-guide.pdf', 'page': 29, 'total_pages': 241, 'format': 'PDF 1.6', 'title': 'HP Color LaserJet Managed MFP E877 Series User Guide', 'author': 'HP, Inc.', 'subject': '', 'keywords': '', 'creator': 'AH XSL Formatter V7.2 MR3 for Windows (x64) : 7.2.4.55390 (2022-01-31T09:48+09)', 'producer': 'Antenna House PDF Output Library 7.2.1732', 'creationDate': 'D:20221217194605Z', 'modDate': 'D:20230501150715Z', 'trapped': ''}, page_content=\"Paper trays\\n2\\nDiscover how to load and use the paper trays, including how to load special items such as envelopes \\nand labels.\\nThe following information is correct at the time of publication. For current information, see \\nhttp://www.hp.com/support/colorljE877mfp.\\nFor more information:\\nHP's all-inclusive help for the printer includes the following information:\\n●\\nInstall and configure\\n●\\nLearn and use\\n●\\nSolve problems\\n●\\nDownload software and firmware updates\\n●\\nJoin support forums\\n●\\nFind warranty and regulatory information\\nUse caution when loading the paper trays.\\nCAUTION:\\nDo not extend more than one paper tray at a time.\\nDo not use paper tray as a step.\\nAll trays must be closed while relocating/moving product.\\nKeep hands out of paper trays or drawers when closing.\\nIf the printer has a keyboard, close keyboard tray when not in use.\\nLoad paper to Tray 1 (multipurpose tray)\\nThe following information describes how to load paper in Tray 1.\\nCAUTION:\\nTo avoid jams, never add or remove paper from Tray 1 during printing.\\nLoad Tray 1 (multipurpose tray)\\nThis tray holds up to 100 sheets of 75 grams per square meter ( (20 lb)) paper, or 10 envelopes.\\nNOTE:\\nSelect the correct paper type in the print driver before printing.\\nPaper trays\\n19\\n\")]"
      ]
     },
     "execution_count": 47,
     "metadata": {},
     "output_type": "execute_result"
    }
   ],
   "source": [
    "retriever.invoke(\"how can I load the multipurpose tray in e877 printer series\")"
   ]
  },
  {
   "cell_type": "code",
   "execution_count": null,
   "metadata": {},
   "outputs": [],
   "source": []
  }
 ],
 "metadata": {
  "kernelspec": {
   "display_name": ".venv",
   "language": "python",
   "name": "python3"
  },
  "language_info": {
   "codemirror_mode": {
    "name": "ipython",
    "version": 3
   },
   "file_extension": ".py",
   "mimetype": "text/x-python",
   "name": "python",
   "nbconvert_exporter": "python",
   "pygments_lexer": "ipython3",
   "version": "3.12.4"
  }
 },
 "nbformat": 4,
 "nbformat_minor": 2
}
