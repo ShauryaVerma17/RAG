{
 "cells": [
  {
   "cell_type": "markdown",
   "metadata": {},
   "source": [
    "## Libraries"
   ]
  },
  {
   "cell_type": "code",
   "execution_count": 1,
   "metadata": {},
   "outputs": [],
   "source": [
    "from langchain_community.embeddings import OllamaEmbeddings\n",
    "from langchain_community.llms import Ollama\n",
    "from langchain_community.vectorstores import FAISS\n",
    "import json\n",
    "from langchain.prompts import PromptTemplate"
   ]
  },
  {
   "cell_type": "code",
   "execution_count": 2,
   "metadata": {},
   "outputs": [],
   "source": [
    "Model = Ollama(model = \"gemma2\")"
   ]
  },
  {
   "cell_type": "code",
   "execution_count": 3,
   "metadata": {},
   "outputs": [],
   "source": [
    "vectors = FAISS.load_local(\"../VectorStores/nomic/AllPrinters\", OllamaEmbeddings(model =  \"nomic-embed-text\"), allow_dangerous_deserialization= True)\n",
    "retriever = vectors.as_retriever()"
   ]
  },
  {
   "cell_type": "code",
   "execution_count": 20,
   "metadata": {},
   "outputs": [],
   "source": [
    "def combineDocs(docs):\n",
    "    context = \"\\n\\n\".join(f'Document [Metadata : {doc.metadata.get(\"source\")} \\nPage Content : \\n{doc.page_content} ]' for doc in docs)\n",
    "    return context"
   ]
  },
  {
   "cell_type": "code",
   "execution_count": 21,
   "metadata": {},
   "outputs": [],
   "source": [
    "chatHistory = \"\\n\"\n",
    "\n",
    "latestPrompt = \"\"\n",
    "\n",
    "template = \"\"\"\n",
    "You are a helpful assistant. You are given some text, conversation history and a question. \n",
    "Answer the question based on the information given in the text (make use of the metadata to determine which text documents are usable) or based on the conversation if needed\n",
    "Provide the source of your answer whether it's from a document (name the document) or the previous conversation\n",
    "\n",
    "## Text ##\n",
    "{context}\n",
    "\n",
    "## Conversation ##\n",
    "{conversation}\n",
    "\\n\n",
    "Question : {question}\n",
    "Answer: \n",
    "\n",
    "\"\"\"\n",
    "\n",
    "prompt = PromptTemplate.from_template(template)\n",
    "\n",
    "def chat(question): \n",
    "    \n",
    "    global chatHistory\n",
    "    global latestPrompt\n",
    "    # Retrieve docs from vector DB\n",
    "    #docs = vectors.similarity_search(question, k = 4)\n",
    "    #contextString = combineDocs2(docs)\n",
    "    contextString = combineDocs(retriever.invoke(question))\n",
    "    \n",
    "    query = prompt.format(conversation = chatHistory, context = contextString, question = question)\n",
    "    latestPrompt = query\n",
    "    response = Model.invoke(query)\n",
    "    \n",
    "    chatHistory = chatHistory + \"\\nQuestion : \" + question + \"\\nAnswer : \" + response\n",
    "\n",
    "    return response\n"
   ]
  },
  {
   "cell_type": "code",
   "execution_count": 22,
   "metadata": {},
   "outputs": [
    {
     "data": {
      "text/plain": [
       "'Here are the various parts of an HP DeskJet 3700 printer, according to the provided document:\\n\\n1. **Paper-width guide**\\n2. **Input tray extender**\\n3. **Input tray**\\n4. **Input tray shield**\\n5. **Scanner**\\n6. **Scan path**\\n7. **Scan light**\\n8. **Control panel**\\n9. **Cartridge access door**\\n10. **Cartridges**\\n11. **Output tray**\\n12. **Output tray extender (also referred to as the tray extender)**\\n13. **Paper catch**\\n14. **Power connection**\\n15. **USB port** \\n\\n\\nLet me know if you have any other questions about the HP DeskJet 3700! \\n'"
      ]
     },
     "execution_count": 22,
     "metadata": {},
     "output_type": "execute_result"
    }
   ],
   "source": [
    "chat(\"what are the various parts of a printer in a Deskjet3700\")"
   ]
  },
  {
   "cell_type": "code",
   "execution_count": 23,
   "metadata": {},
   "outputs": [
    {
     "data": {
      "text/plain": [
       "\"The HP DeskJet 3700 printer has several key parts.  You'll find guides for adjusting paper width and an input tray extender to accommodate different paper sizes. The input tray itself holds the paper, while the input tray shield protects it. A scanner with a scan path and scan light is used for document capture. On the front, you have a control panel for navigating settings and accessing functions.  The cartridge access door reveals the ink cartridges, essential for printing. Finally, the output tray and its extender hold the printed documents, while a paper catch prevents jams.  Power and USB connections allow you to connect the printer to your computer. \\n\\n\\n\""
      ]
     },
     "execution_count": 23,
     "metadata": {},
     "output_type": "execute_result"
    }
   ],
   "source": [
    "chat(\"can you give me the previous answer as a paragraph\")"
   ]
  },
  {
   "cell_type": "code",
   "execution_count": 24,
   "metadata": {},
   "outputs": [
    {
     "name": "stdout",
     "output_type": "stream",
     "text": [
      "\n",
      "\n",
      "Question : what are the various parts of a printer in a Deskjet3700\n",
      "Answer : Here are the various parts of an HP DeskJet 3700 printer, according to the provided document:\n",
      "\n",
      "1. **Paper-width guide**\n",
      "2. **Input tray extender**\n",
      "3. **Input tray**\n",
      "4. **Input tray shield**\n",
      "5. **Scanner**\n",
      "6. **Scan path**\n",
      "7. **Scan light**\n",
      "8. **Control panel**\n",
      "9. **Cartridge access door**\n",
      "10. **Cartridges**\n",
      "11. **Output tray**\n",
      "12. **Output tray extender (also referred to as the tray extender)**\n",
      "13. **Paper catch**\n",
      "14. **Power connection**\n",
      "15. **USB port** \n",
      "\n",
      "\n",
      "Let me know if you have any other questions about the HP DeskJet 3700! \n",
      "\n",
      "Question : can you give me the previous answer as a paragraph\n",
      "Answer : The HP DeskJet 3700 printer has several key parts.  You'll find guides for adjusting paper width and an input tray extender to accommodate different paper sizes. The input tray itself holds the paper, while the input tray shield protects it. A scanner with a scan path and scan light is used for document capture. On the front, you have a control panel for navigating settings and accessing functions.  The cartridge access door reveals the ink cartridges, essential for printing. Finally, the output tray and its extender hold the printed documents, while a paper catch prevents jams.  Power and USB connections allow you to connect the printer to your computer. \n",
      "\n",
      "\n",
      "\n"
     ]
    }
   ],
   "source": [
    "print(chatHistory)"
   ]
  },
  {
   "cell_type": "code",
   "execution_count": 25,
   "metadata": {},
   "outputs": [
    {
     "data": {
      "text/plain": [
       "'I can help with that! Here\\'s how to print a photo on photo paper using an HP DeskJet 2600 (2623) on Windows:\\n\\n**1. Load the Photo Paper:**\\n\\n* **Raise the input tray:** Find the lever at the back of the printer and pull it up to raise the input tray.\\n* **Extend the input tray:** If needed, extend the input tray by pulling out the extender.\\n* **Insert photo paper:**  Place a stack of photo paper into the input tray with the short edge aligned with the front of the tray and the print side facing up. \\n* **Adjust the paper guides:** Slide the paper-width guide to the right until it stops at the edge of the paper.\\n\\n**2. Connect Your Computer and Printer:**\\n\\n* Make sure your printer is turned on and connected to your computer via USB cable or Wi-Fi.\\n\\n**3. Open Your Photo:**\\n\\n* Locate the photo you want to print on your computer and open it using a program like Microsoft Photos, Adobe Photoshop, or your preferred image editor.\\n\\n**4. Print Settings:**\\n\\n* **Go to \"Print\":** Click the \"File\" menu and select \"Print\".\\n* **Select Your Printer:** In the printer selection list, choose your HP DeskJet 2600 (2623).\\n* **Paper Type:** From the paper type dropdown menu, select \"Photo Paper\" or a similar option.\\n* **Quality Settings:** Adjust the print quality settings to your preference (e.g., Best, High Quality).\\n\\n**5. Print Your Photo:**\\n\\n* Click the \"Print\" button to start printing.\\n\\n**Additional Tips:**\\n\\n* **Test Print:** Before printing multiple copies, consider doing a test print on a scrap piece of photo paper to ensure the settings are correct.\\n* **Photo Editing:** You can adjust brightness, contrast, and other photo settings in your image editor before printing for optimal results.\\n\\n\\n\\nLet me know if you have any other questions!'"
      ]
     },
     "execution_count": 25,
     "metadata": {},
     "output_type": "execute_result"
    }
   ],
   "source": [
    "chat(\"what are the steps to print a photo on photo paper (Windows) using deskjet 2600 (aka deskjet 2623)\")"
   ]
  },
  {
   "cell_type": "code",
   "execution_count": null,
   "metadata": {},
   "outputs": [],
   "source": []
  }
 ],
 "metadata": {
  "kernelspec": {
   "display_name": ".venv",
   "language": "python",
   "name": "python3"
  },
  "language_info": {
   "codemirror_mode": {
    "name": "ipython",
    "version": 3
   },
   "file_extension": ".py",
   "mimetype": "text/x-python",
   "name": "python",
   "nbconvert_exporter": "python",
   "pygments_lexer": "ipython3",
   "version": "3.12.4"
  }
 },
 "nbformat": 4,
 "nbformat_minor": 2
}
