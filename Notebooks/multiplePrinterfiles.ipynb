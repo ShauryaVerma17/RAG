{
 "cells": [
  {
   "cell_type": "code",
   "execution_count": 1,
   "metadata": {},
   "outputs": [],
   "source": [
    "from langchain_community.embeddings import OllamaEmbeddings\n",
    "from langchain_community.llms import Ollama\n",
    "from langchain_community.document_loaders import DirectoryLoader\n",
    "from langchain_community.document_loaders.pdf import PyMuPDFLoader\n",
    "from langchain.prompts import PromptTemplate\n",
    "from langchain_community.vectorstores import FAISS\n",
    "from langchain_community.vectorstores import DocArrayInMemorySearch\n",
    "from langchain_text_splitters import CharacterTextSplitter\n",
    "from langchain_text_splitters import TokenTextSplitter\n",
    "from operator import itemgetter"
   ]
  },
  {
   "cell_type": "code",
   "execution_count": 33,
   "metadata": {},
   "outputs": [],
   "source": [
    "Model = \"llama3\"; # Takes too much time to compute *sigh* we need better laptops\n",
    "llmmodel = Ollama(model=Model)\n",
    "\n",
    "template = \"\"\"\n",
    "Answer the question based on the page content in the context below. Make sure to check the source of the information in the metadata to ensure you pick the correct page_content. If you can't answer the question, reply with only \"Oof that's a tough one, i don't really know this\"\n",
    "\n",
    "Context : {context}\n",
    "\n",
    "Question : {question}\n",
    "\n",
    "\"\"\"\n",
    "\n",
    "promt = PromptTemplate.from_template(template)\n",
    "\n",
    "def format_docs(docs):\n",
    "    return \"\\n\\n\".join(doc.page_content for doc in docs)"
   ]
  },
  {
   "cell_type": "code",
   "execution_count": 2,
   "metadata": {},
   "outputs": [],
   "source": [
    "# Using faiss\n",
    "db2 = FAISS.load_local(\"../VectorStores/AllPrinters\", OllamaEmbeddings(model =  \"mxbai-embed-large\"), allow_dangerous_deserialization= True)\n",
    "retriever2 = db2.as_retriever()\n",
    "# faiss_index.similarity_search(\"\")"
   ]
  },
  {
   "cell_type": "code",
   "execution_count": 24,
   "metadata": {},
   "outputs": [],
   "source": [
    "chain2 = (\n",
    "    {\"context\" : itemgetter(\"question\") | retriever2 | format_docs , \"question\" : itemgetter(\"question\")}\n",
    "    | promt\n",
    "    | llmmodel \n",
    ")"
   ]
  },
  {
   "cell_type": "code",
   "execution_count": 34,
   "metadata": {},
   "outputs": [],
   "source": [
    "chain = (\n",
    "    {\"context\" : itemgetter(\"question\") | retriever2 , \"question\" : itemgetter(\"question\")}\n",
    "    | promt\n",
    "    | llmmodel \n",
    ")"
   ]
  },
  {
   "cell_type": "code",
   "execution_count": 26,
   "metadata": {},
   "outputs": [],
   "source": [
    "inquiry = \"how can I load paper in hpe877 series\""
   ]
  },
  {
   "cell_type": "code",
   "execution_count": 27,
   "metadata": {},
   "outputs": [
    {
     "name": "stdout",
     "output_type": "stream",
     "text": [
      "According to the provided PDF documents, specifically page 29 of the \"HP Color LaserJet Managed MFP E877 Series User Guide\", you can load paper in Tray 1 (multipurpose tray) by:\n",
      "\n",
      "* Loading up to 100 sheets of 75 grams per square meter (20 lb) paper\n",
      "* Or loading up to 10 envelopes\n",
      "\n",
      "Please note that it is recommended to select the correct paper type in the print driver before printing, and never add or remove paper from Tray 1 during printing.\n"
     ]
    }
   ],
   "source": [
    "print(chain.invoke({\"question\" : inquiry}))"
   ]
  },
  {
   "cell_type": "code",
   "execution_count": 28,
   "metadata": {},
   "outputs": [
    {
     "name": "stdout",
     "output_type": "stream",
     "text": [
      "Based on the page content, you can load paper in the HP E877 series by following these steps:\n",
      "\n",
      "To load full-size paper:\n",
      "1. Raise the input tray and input tray extender.\n",
      "2. Insert a stack of paper into the input tray with the short edge down and the print side up, and slide the stack of paper down until it stops.\n",
      "3. Slide the paper-width guide to the right until it stops at the edge of the paper.\n",
      "\n",
      "To load small-size paper (such as photo paper):\n",
      "1. Raise the input tray and input tray extender.\n",
      "2. Insert a stack of photo paper into the far-right side of the input tray with the short edge down and the print side up, and slide the stack of paper down until it stops.\n",
      "3. Slide the paper-width guide to the right until it stops at the edge of the paper.\n",
      "\n",
      "Remember to always refer to the specific instructions provided for your printer model (HP E877 series) and follow any safety precautions or guidelines outlined in the document.\n"
     ]
    }
   ],
   "source": [
    "print(chain2.invoke({\"question\" : inquiry}))"
   ]
  },
  {
   "cell_type": "code",
   "execution_count": 29,
   "metadata": {},
   "outputs": [
    {
     "data": {
      "text/plain": [
       "[Document(metadata={'source': 'multipleBooks\\\\hp-e877-series-user-guide.pdf', 'file_path': 'multipleBooks\\\\hp-e877-series-user-guide.pdf', 'page': 29, 'total_pages': 241, 'format': 'PDF 1.6', 'title': 'HP Color LaserJet Managed MFP E877 Series User Guide', 'author': 'HP, Inc.', 'subject': '', 'keywords': '', 'creator': 'AH XSL Formatter V7.2 MR3 for Windows (x64) : 7.2.4.55390 (2022-01-31T09:48+09)', 'producer': 'Antenna House PDF Output Library 7.2.1732', 'creationDate': 'D:20221217194605Z', 'modDate': 'D:20230501150715Z', 'trapped': ''}, page_content=\"Paper trays\\n2\\nDiscover how to load and use the paper trays, including how to load special items such as envelopes \\nand labels.\\nThe following information is correct at the time of publication. For current information, see \\nhttp://www.hp.com/support/colorljE877mfp.\\nFor more information:\\nHP's all-inclusive help for the printer includes the following information:\\n●\\nInstall and configure\\n●\\nLearn and use\\n●\\nSolve problems\\n●\\nDownload software and firmware updates\\n●\\nJoin support forums\\n●\\nFind warranty and regulatory information\\nUse caution when loading the paper trays.\\nCAUTION:\\nDo not extend more than one paper tray at a time.\\nDo not use paper tray as a step.\\nAll trays must be closed while relocating/moving product.\\nKeep hands out of paper trays or drawers when closing.\\nIf the printer has a keyboard, close keyboard tray when not in use.\\nLoad paper to Tray 1 (multipurpose tray)\\nThe following information describes how to load paper in Tray 1.\\nCAUTION:\\nTo avoid jams, never add or remove paper from Tray 1 during printing.\\nLoad Tray 1 (multipurpose tray)\\nThis tray holds up to 100 sheets of 75 grams per square meter ( (20 lb)) paper, or 10 envelopes.\\nNOTE:\\nSelect the correct paper type in the print driver before printing.\\nPaper trays\\n19\\n\"),\n",
       " Document(metadata={'source': 'multipleBooks\\\\HP - Deskjet-3700-Printer.pdf', 'file_path': 'multipleBooks\\\\HP - Deskjet-3700-Printer.pdf', 'page': 13, 'total_pages': 118, 'format': 'PDF 1.6', 'title': 'HP DeskJet 3700 All-in-One series User Guide – ENWW', 'author': 'HP IWS Design Customer Education', 'subject': '', 'keywords': 'Edition 1, 9/2016', 'creator': 'AH XSL Formatter V6.2 MR6 for Windows (x64) : 6.2.8.19325 (2015/01/06 12:40JST)', 'producer': 'Antenna House PDF Output Library 6.2.640 (Windows (x64))', 'creationDate': \"D:20160524165601+08'00'\", 'modDate': \"D:20160525102417+08'00'\", 'trapped': ''}, page_content='Load media\\nSelect a paper size to continue.\\nTo load full-size paper\\n1.\\nRaise the input tray and input tray extender.\\n2.\\nInsert a stack of paper into the input tray with the short edge down and the print side up, and slide the \\nstack of paper down until it stops.\\n3.\\nSlide the paper-width guide to the right until it stops at the edge of the paper.\\n10\\nChapter 2   Get started\\nENWW\\n'),\n",
       " Document(metadata={'source': 'multipleBooks\\\\HP - Deskjet-3700-Printer.pdf', 'file_path': 'multipleBooks\\\\HP - Deskjet-3700-Printer.pdf', 'page': 14, 'total_pages': 118, 'format': 'PDF 1.6', 'title': 'HP DeskJet 3700 All-in-One series User Guide – ENWW', 'author': 'HP IWS Design Customer Education', 'subject': '', 'keywords': 'Edition 1, 9/2016', 'creator': 'AH XSL Formatter V6.2 MR6 for Windows (x64) : 6.2.8.19325 (2015/01/06 12:40JST)', 'producer': 'Antenna House PDF Output Library 6.2.640 (Windows (x64))', 'creationDate': \"D:20160524165601+08'00'\", 'modDate': \"D:20160525102417+08'00'\", 'trapped': ''}, page_content='4.\\nPull out the output tray and the output tray extender, and then lift the paper catch.\\nTo load small-size paper\\n1.\\nRaise the input tray and input tray extender.\\n2.\\nInsert a stack of photo paper into the far-right side of the input tray with the short edge down and the \\nprint side up, and slide the stack of paper down until it stops.\\n3.\\nSlide the paper-width guide to the right until it stops at the edge of the paper.\\nENWW\\nLoad media\\n11\\n'),\n",
       " Document(metadata={'source': 'multipleBooks\\\\HP Deskjet 2632 Ink All-in-One User Manual en.pdf', 'file_path': 'multipleBooks\\\\HP Deskjet 2632 Ink All-in-One User Manual en.pdf', 'page': 7, 'total_pages': 128, 'format': 'PDF 1.6', 'title': 'HP DeskJet 2600 All-in-One series User Guide – [ENWW]', 'author': 'HP IWS Design Customer Education', 'subject': '', 'keywords': 'Edition 3, 9/2017', 'creator': 'AH XSL Formatter V6.2 MR6 for Windows (x64) : 6.2.8.19325 (2015/01/06 12:40JST)', 'producer': 'Antenna House PDF Output Library 6.2.640 (Windows (x64))', 'creationDate': \"D:20170908104916+08'00'\", 'modDate': \"D:20170908173522+08'00'\", 'trapped': ''}, page_content='2\\nChapter 1   HP DeskJet 2600 series Help\\nENWW\\n')]"
      ]
     },
     "execution_count": 29,
     "metadata": {},
     "output_type": "execute_result"
    }
   ],
   "source": [
    "retriever2.invoke(inquiry)"
   ]
  },
  {
   "cell_type": "code",
   "execution_count": 36,
   "metadata": {},
   "outputs": [
    {
     "name": "stdout",
     "output_type": "stream",
     "text": [
      "According to the provided PDF document, you can complete alignment on your HP OfficeJet 6900 by following these steps:\n",
      "\n",
      "1. Run the cleaning test using one of the methods specified for your printer.\n",
      "2. If the 'Alignment Unsuccessful' message appears and cannot be resolved, choose the 'Skip' button to continue printing without alignment. However, note that print quality might be affected.\n",
      "\n",
      "If you still encounter issues with alignment, you can try:\n",
      "\n",
      "1. Turning off and then on the printer.\n",
      "2. Waiting until the printer is idle and silent before proceeding.\n",
      "3. Disconnecting the power cord from the back of the printer, waiting for 30 seconds, and then reconnecting it.\n",
      "\n",
      "If these steps do not resolve the issue, you may need to proceed with further troubleshooting or seek assistance from HP support resources.\n"
     ]
    }
   ],
   "source": [
    "print(chain.invoke({\"question\" : \"how can I complete allignment in HP officejet 6900?\"}))"
   ]
  },
  {
   "cell_type": "code",
   "execution_count": null,
   "metadata": {},
   "outputs": [],
   "source": []
  }
 ],
 "metadata": {
  "kernelspec": {
   "display_name": ".venv",
   "language": "python",
   "name": "python3"
  },
  "language_info": {
   "codemirror_mode": {
    "name": "ipython",
    "version": 3
   },
   "file_extension": ".py",
   "mimetype": "text/x-python",
   "name": "python",
   "nbconvert_exporter": "python",
   "pygments_lexer": "ipython3",
   "version": "3.12.4"
  }
 },
 "nbformat": 4,
 "nbformat_minor": 2
}
