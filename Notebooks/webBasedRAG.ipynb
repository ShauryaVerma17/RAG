{
 "cells": [
  {
   "cell_type": "code",
   "execution_count": null,
   "metadata": {},
   "outputs": [],
   "source": [
    "from langchain_community.embeddings import OllamaEmbeddings\n",
    "#from langchain_community.llms import Ollama\n",
    "from langchain_community.vectorstores import FAISS\n",
    "import json\n",
    "from langchain.prompts import PromptTemplate\n",
    "from langchain.document_loaders import WebBaseLoader\n",
    "from langchain_text_splitters import CharacterTextSplitter\n",
    "import Ollama"
   ]
  },
  {
   "cell_type": "code",
   "execution_count": null,
   "metadata": {},
   "outputs": [],
   "source": [
    "Embedding_Model = \"nomic-embed-text\""
   ]
  },
  {
   "cell_type": "code",
   "execution_count": null,
   "metadata": {},
   "outputs": [],
   "source": [
    "docLoader = WebBaseLoader(\"url\")\n",
    "document = docLoader.load()"
   ]
  },
  {
   "cell_type": "code",
   "execution_count": null,
   "metadata": {},
   "outputs": [],
   "source": [
    "text_splitter = CharacterTextSplitter(chunk_size=500, chunk_overlap=100)\n",
    "docs = text_splitter.split_documents(document)"
   ]
  },
  {
   "cell_type": "code",
   "execution_count": null,
   "metadata": {},
   "outputs": [],
   "source": [
    "db = FAISS.from_documents(docs, OllamaEmbeddings(model = Embedding_Model))\n",
    "retriever = db.as_retriever() "
   ]
  },
  {
   "cell_type": "code",
   "execution_count": null,
   "metadata": {},
   "outputs": [],
   "source": [
    "def combineDocs(docs):\n",
    "    context = \"\\n\\n\".join(f'Document Content : \\n{doc.page_content} ]' for doc in docs)\n",
    "    return context"
   ]
  },
  {
   "cell_type": "code",
   "execution_count": null,
   "metadata": {},
   "outputs": [],
   "source": [
    "history = [' ', ' ', ' ', ' ', ' ', ' '] \n",
    "def chat(question) : \n",
    "    \n",
    "    global history\n",
    "\n",
    "    contextString = combineDocs(retriever.invoke(question))\n",
    "    systemMessage = \"\"\" \n",
    "    You are a helpful assistant. You are given conversation history and a question with some context from the user. \n",
    "    Answer the question based on the information given in that context or based on the conversation history if needed.\"\n",
    "    \n",
    "    \"\"\"\n",
    "    message=[\n",
    "                {\n",
    "                    'role': 'system',\n",
    "                    'content': systemMessage,\n",
    "                },\n",
    "                {\n",
    "                    'role': 'user',\n",
    "                    'content': history[-6],\n",
    "                },\n",
    "                {\n",
    "                    'role': 'assistant',\n",
    "                    'content': history[-5],\n",
    "                },\n",
    "                {\n",
    "                    'role': 'user',\n",
    "                    'content': history[-4],\n",
    "                },\n",
    "                {\n",
    "                    'role': 'assistant',\n",
    "                    'content': history[-3],\n",
    "                },\n",
    "                {\n",
    "                    'role': 'user',\n",
    "                    'content': history[-2],\n",
    "                },\n",
    "                {\n",
    "                    'role': 'assistant',\n",
    "                    'content': history[-1],\n",
    "                },\n",
    "                {\n",
    "                    'role': 'user',\n",
    "                    'content': \"Here is the context : \\n\" + contextString,\n",
    "                },{\n",
    "                    'role': 'user',\n",
    "                    'content': question,\n",
    "                },\n",
    "        ]\n",
    "    \n",
    "    response = ollama.chat(model = \"Gemma2\", messages = message)\n",
    "    answer = response['message']['content']\n",
    "    history.append(question)\n",
    "    history.append(answer)\n",
    "    \n",
    "    print(answer)\n",
    "    "
   ]
  },
  {
   "cell_type": "code",
   "execution_count": null,
   "metadata": {},
   "outputs": [],
   "source": []
  }
 ],
 "metadata": {
  "kernelspec": {
   "display_name": ".venv",
   "language": "python",
   "name": "python3"
  },
  "language_info": {
   "codemirror_mode": {
    "name": "ipython",
    "version": 3
   },
   "file_extension": ".py",
   "mimetype": "text/x-python",
   "name": "python",
   "nbconvert_exporter": "python",
   "pygments_lexer": "ipython3",
   "version": "3.12.4"
  }
 },
 "nbformat": 4,
 "nbformat_minor": 2
}
