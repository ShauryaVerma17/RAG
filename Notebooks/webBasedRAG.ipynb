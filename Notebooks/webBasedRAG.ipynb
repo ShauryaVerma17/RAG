{
 "cells": [
  {
   "cell_type": "code",
   "execution_count": 30,
   "metadata": {},
   "outputs": [],
   "source": [
    "from langchain_community.embeddings import OllamaEmbeddings\n",
    "#from langchain_community.llms import Ollama\n",
    "from langchain_community.vectorstores import FAISS\n",
    "import json\n",
    "from langchain.prompts import PromptTemplate\n",
    "from langchain.document_loaders import WebBaseLoader\n",
    "from langchain_text_splitters import CharacterTextSplitter\n",
    "import ollama\n",
    "from bs4 import BeautifulSoup\n",
    "import requests\n",
    "from langchain.docstore.document import Document"
   ]
  },
  {
   "cell_type": "code",
   "execution_count": 5,
   "metadata": {},
   "outputs": [],
   "source": [
    "Embedding_Model = \"nomic-embed-text\""
   ]
  },
  {
   "cell_type": "code",
   "execution_count": 13,
   "metadata": {},
   "outputs": [],
   "source": [
    "docLoader = WebBaseLoader(\"https://en.wikipedia.org/wiki/Angling\")\n",
    "document = docLoader.load()\n",
    "text_splitter = CharacterTextSplitter(chunk_size=3000, chunk_overlap=500)\n",
    "docs = text_splitter.split_documents(document)\n",
    "db = FAISS.from_documents(docs, OllamaEmbeddings(model = Embedding_Model))\n",
    "retriever = db.as_retriever() "
   ]
  },
  {
   "cell_type": "code",
   "execution_count": null,
   "metadata": {},
   "outputs": [],
   "source": [
    "url = 'https://en.wikipedia.org/wiki/1896_Summer_Olympics'\n",
    "\n",
    "page = requests.get(url)\n",
    "\n",
    "soup = BeautifulSoup(page.text, 'html')"
   ]
  },
  {
   "cell_type": "code",
   "execution_count": 17,
   "metadata": {},
   "outputs": [],
   "source": [
    "def combineDocs(docs):\n",
    "    context = \"\\n\\n\".join(f'Document Content : \\n{doc.page_content} ]' for doc in docs)\n",
    "    return context"
   ]
  },
  {
   "cell_type": "code",
   "execution_count": 18,
   "metadata": {},
   "outputs": [],
   "source": [
    "history = [' ', ' ', ' ', ' ', ' ', ' '] \n",
    "def chat(question) : \n",
    "    \n",
    "    global history\n",
    "\n",
    "    contextString = combineDocs(retriever.invoke(question))\n",
    "    systemMessage = \"\"\" \n",
    "    You are a helpful assistant. You are given conversation history and a question with some context from the user. \n",
    "    Answer the question based on the information given in that context or based on the conversation history if needed.\"\n",
    "    \n",
    "    \"\"\"\n",
    "    message=[\n",
    "                {\n",
    "                    'role': 'system',\n",
    "                    'content': systemMessage,\n",
    "                },\n",
    "                {\n",
    "                    'role': 'user',\n",
    "                    'content': history[-6],\n",
    "                },\n",
    "                {\n",
    "                    'role': 'assistant',\n",
    "                    'content': history[-5],\n",
    "                },\n",
    "                {\n",
    "                    'role': 'user',\n",
    "                    'content': history[-4],\n",
    "                },\n",
    "                {\n",
    "                    'role': 'assistant',\n",
    "                    'content': history[-3],\n",
    "                },\n",
    "                {\n",
    "                    'role': 'user',\n",
    "                    'content': history[-2],\n",
    "                },\n",
    "                {\n",
    "                    'role': 'assistant',\n",
    "                    'content': history[-1],\n",
    "                },\n",
    "                {\n",
    "                    'role': 'user',\n",
    "                    'content': \"Here is the context : \\n\" + contextString,\n",
    "                },{\n",
    "                    'role': 'user',\n",
    "                    'content': question,\n",
    "                },\n",
    "        ]\n",
    "    \n",
    "    response = ollama.chat(model = \"Gemma2\", messages = message)\n",
    "    answer = response['message']['content']\n",
    "    history.append(question)\n",
    "    history.append(answer)\n",
    "    \n",
    "    print(answer)\n",
    "    "
   ]
  },
  {
   "cell_type": "code",
   "execution_count": 19,
   "metadata": {},
   "outputs": [
    {
     "name": "stdout",
     "output_type": "stream",
     "text": [
      "A fishing rod is a long pole used to catch fish. It typically consists of a flexible shaft made of materials like fiberglass, graphite, or bamboo, with a line attached to one end and a reel at the other. Anglers cast the line into the water, wait for a fish to bite, and then reel it in using the rod and reel. \n",
      "\n",
      "There are many different types of fishing rods designed for specific types of fish and fishing techniques. Some popular types include:\n",
      "\n",
      "* **Spinning rods:** Versatile and easy to use, suitable for a variety of freshwater fish.\n",
      "* **Casting rods:** Powerful rods designed for larger fish and heavier lures.\n",
      "* **Fly rods:** Used for fly fishing, requiring specialized casting techniques and flies. \n",
      "\n",
      "\n",
      "Let me know if you have any other questions about fishing rods or fishing in general! \n",
      "\n"
     ]
    }
   ],
   "source": [
    "chat(\"Tell me about a fishing rod\")"
   ]
  },
  {
   "cell_type": "code",
   "execution_count": 20,
   "metadata": {},
   "outputs": [
    {
     "name": "stdout",
     "output_type": "stream",
     "text": [
      "Please provide me with the conversation history so I can give you an accurate answer about a bite indicator.  \n",
      "\n",
      "I need context to understand what kind of \"bite indicator\" you're asking about. For example, is it related to:\n",
      "\n",
      "* **Dog training?** \n",
      "* **Medical devices?**\n",
      "* **Food packaging?**\n",
      "* **Something else entirely?**\n",
      "\n",
      "\n",
      "Let me know, and I'll do my best to help! 😊 \n",
      "\n"
     ]
    }
   ],
   "source": [
    "chat(\"what is a bite indicator?\")"
   ]
  },
  {
   "cell_type": "code",
   "execution_count": 2,
   "metadata": {},
   "outputs": [],
   "source": [
    "url = 'https://en.wikipedia.org/wiki/1896_Summer_Olympics'\n",
    "\n",
    "page = requests.get(url)\n",
    "\n",
    "soup = BeautifulSoup(page.text, 'html')"
   ]
  },
  {
   "cell_type": "code",
   "execution_count": 28,
   "metadata": {},
   "outputs": [],
   "source": [
    "lol = soup.findAll(\"div\", class_ = 'mw-body-content')[0].text"
   ]
  },
  {
   "cell_type": "code",
   "execution_count": 36,
   "metadata": {},
   "outputs": [],
   "source": []
  },
  {
   "cell_type": "code",
   "execution_count": 37,
   "metadata": {},
   "outputs": [
    {
     "ename": "AttributeError",
     "evalue": "'tuple' object has no attribute 'page_content'",
     "output_type": "error",
     "traceback": [
      "\u001b[1;31m---------------------------------------------------------------------------\u001b[0m",
      "\u001b[1;31mAttributeError\u001b[0m                            Traceback (most recent call last)",
      "Cell \u001b[1;32mIn[37], line 2\u001b[0m\n\u001b[0;32m      1\u001b[0m text_splitter \u001b[38;5;241m=\u001b[39m CharacterTextSplitter(chunk_size\u001b[38;5;241m=\u001b[39m\u001b[38;5;241m3000\u001b[39m, chunk_overlap\u001b[38;5;241m=\u001b[39m\u001b[38;5;241m500\u001b[39m)\n\u001b[1;32m----> 2\u001b[0m docs \u001b[38;5;241m=\u001b[39m \u001b[43mtext_splitter\u001b[49m\u001b[38;5;241;43m.\u001b[39;49m\u001b[43msplit_documents\u001b[49m\u001b[43m(\u001b[49m\u001b[43mdoc\u001b[49m\u001b[43m)\u001b[49m\n",
      "File \u001b[1;32mc:\\Users\\esvee\\Documents\\VSCodeProjects\\RAG\\RAG\\.venv\\Lib\\site-packages\\langchain_text_splitters\\base.py:94\u001b[0m, in \u001b[0;36mTextSplitter.split_documents\u001b[1;34m(self, documents)\u001b[0m\n\u001b[0;32m     92\u001b[0m texts, metadatas \u001b[38;5;241m=\u001b[39m [], []\n\u001b[0;32m     93\u001b[0m \u001b[38;5;28;01mfor\u001b[39;00m doc \u001b[38;5;129;01min\u001b[39;00m documents:\n\u001b[1;32m---> 94\u001b[0m     texts\u001b[38;5;241m.\u001b[39mappend(\u001b[43mdoc\u001b[49m\u001b[38;5;241;43m.\u001b[39;49m\u001b[43mpage_content\u001b[49m)\n\u001b[0;32m     95\u001b[0m     metadatas\u001b[38;5;241m.\u001b[39mappend(doc\u001b[38;5;241m.\u001b[39mmetadata)\n\u001b[0;32m     96\u001b[0m \u001b[38;5;28;01mreturn\u001b[39;00m \u001b[38;5;28mself\u001b[39m\u001b[38;5;241m.\u001b[39mcreate_documents(texts, metadatas\u001b[38;5;241m=\u001b[39mmetadatas)\n",
      "\u001b[1;31mAttributeError\u001b[0m: 'tuple' object has no attribute 'page_content'"
     ]
    }
   ],
   "source": []
  },
  {
   "cell_type": "code",
   "execution_count": null,
   "metadata": {},
   "outputs": [],
   "source": []
  }
 ],
 "metadata": {
  "kernelspec": {
   "display_name": ".venv",
   "language": "python",
   "name": "python3"
  },
  "language_info": {
   "codemirror_mode": {
    "name": "ipython",
    "version": 3
   },
   "file_extension": ".py",
   "mimetype": "text/x-python",
   "name": "python",
   "nbconvert_exporter": "python",
   "pygments_lexer": "ipython3",
   "version": "3.12.4"
  }
 },
 "nbformat": 4,
 "nbformat_minor": 2
}
