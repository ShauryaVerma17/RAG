{
 "cells": [
  {
   "cell_type": "markdown",
   "metadata": {},
   "source": [
    "## Trying to use FAISS to see if it makes a difference in performance"
   ]
  },
  {
   "cell_type": "code",
   "execution_count": 1,
   "metadata": {},
   "outputs": [],
   "source": [
    "from langchain_community.embeddings import OllamaEmbeddings\n",
    "from langchain_community.llms import Ollama\n",
    "from langchain_community.document_loaders import DirectoryLoader\n",
    "from langchain_community.document_loaders.pdf import PyMuPDFLoader\n",
    "from langchain.prompts import PromptTemplate\n",
    "from langchain_community.vectorstores import FAISS\n",
    "from langchain_community.vectorstores import DocArrayInMemorySearch\n",
    "from langchain_text_splitters import CharacterTextSplitter\n",
    "#from langchain_text_splitters import TokenTextSplitter\n",
    "from operator import itemgetter"
   ]
  },
  {
   "cell_type": "code",
   "execution_count": 2,
   "metadata": {},
   "outputs": [],
   "source": [
    "Model = \"llama3\"; # Takes too much time to compute *sigh* we need better laptops\n",
    "llmmodel = Ollama(model=Model)\n",
    "\n",
    "template = \"\"\"\n",
    "Answer the question based on the context below. If you can't \n",
    "answer the question, reply \"Oof that's a tough one, i don't really know this\"\n",
    "\n",
    "Context : {context}\n",
    "\n",
    "Question : {question}\n",
    "\n",
    "\"\"\"\n",
    "\n",
    "promt = PromptTemplate.from_template(template)"
   ]
  },
  {
   "cell_type": "code",
   "execution_count": 3,
   "metadata": {},
   "outputs": [],
   "source": [
    "def format_docs(docs):\n",
    "    return \"\\n\\n\".join(doc.page_content for doc in docs)"
   ]
  },
  {
   "cell_type": "code",
   "execution_count": 7,
   "metadata": {},
   "outputs": [],
   "source": [
    "# Using faiss\n",
    "db1 = FAISS.load_local(\"../VectorStores/webPDF\",OllamaEmbeddings(model = Model),allow_dangerous_deserialization= True)\n",
    "retriever1 = db1.as_retriever()"
   ]
  },
  {
   "cell_type": "code",
   "execution_count": 6,
   "metadata": {},
   "outputs": [],
   "source": [
    "chain1 = (\n",
    "    {\"context\" : itemgetter(\"question\") | retriever1 | format_docs , \"question\" : itemgetter(\"question\")}\n",
    "    | promt\n",
    "    | llmmodel \n",
    ")"
   ]
  },
  {
   "cell_type": "code",
   "execution_count": 7,
   "metadata": {},
   "outputs": [
    {
     "data": {
      "text/plain": [
       "\"Based on the context, the browser's high-level structure can be summarized as follows:\\n\\n1. **UI Backend**: This layer is responsible for drawing basic widgets like combo boxes and windows using operating system user interface methods.\\n2. **JavaScript Engine**: This interpreter parses and executes JavaScript code.\\n3. **DOM Tree** (Document Object Model): This tree represents the HTML document and its elements, serving as an interface to the outside world (e.g., JavaScript).\\n4. **Render Tree**: This tree is a visual representation of the document, constructed while building the DOM tree, used for painting the contents in their correct order.\\n\\nThese layers work together to enable the rendering of web pages and interactive web applications.\""
      ]
     },
     "execution_count": 7,
     "metadata": {},
     "output_type": "execute_result"
    }
   ],
   "source": [
    "chain1.invoke({\"question\" : \"What is the browser's high level structure?\"})"
   ]
  },
  {
   "cell_type": "code",
   "execution_count": 8,
   "metadata": {},
   "outputs": [
    {
     "data": {
      "text/plain": [
       "[Document(page_content='Layers are specified by the z-index CSS property. It represents the third dimension of the box: its position along the \"z axis\".\\nThe boxes are divided into stacks (called stacking contexts). In each stack the back elements will be painted first and the\\nforward elements on top, closer to the user. In case of overlap the foremost element will hide the former element. The stacks are\\nordered according to the z-index property. Boxes with \"z-index\" property form a local stack.\\nTrivia\\nThe birth of the web\\nTim Berners-Lee, a British scientist at CERN, invented the World Wide Web (WWW) in 1989. The web was originally conceived and\\ndeveloped to meet the demand for automatic information-sharing between scientists in universities and institutes around the\\nworld.\\nThe first website at CERN - and in the world - was dedicated to the World Wide Web project itself and was hosted on Berners-\\nLee\\'s NeXT computer. The website described the basic features of the web; how to access other people\\'s documents and how to\\nset up your own server. The NeXT machine - the original web server - is still at CERN. As part of the project to restore the first\\nwebsite, in 2013 CERN reinstated the world\\'s first website to its original address.\\nOn 30 April 1993 CERN put the World Wide Web software in the public domain. CERN made the next release available with an\\nopen license, as a more sure way to maximize its dissemination. Through these actions, making the software required to run a\\nweb server freely available, along with a basic browser and a library of code, the web was allowed to flourish.\\nMore reading:\\nWhat really happens when you navigate to a URL\\nHow Browsers Work: Behind the scenes of modern web browsers\\nWhat exactly happens when you browse a website in your browser?\\nWhat happens when\\nSo how does the browser actually render a website\\nConstructing the Object Model\\nHow the Web Works: A Primer for Newcomers to Web Development (or anyone, really)', metadata={'source': 'data\\\\Web.pdf', 'file_path': 'data\\\\Web.pdf', 'page': 10, 'total_pages': 11, 'format': 'PDF 1.4', 'title': 'Markdown To PDF', 'author': '', 'subject': '', 'keywords': '', 'creator': 'wkhtmltopdf 0.12.3', 'producer': 'Qt 4.8.7', 'creationDate': 'D:20221122084249Z', 'modDate': '', 'trapped': ''}),\n",
       " Document(page_content='on the redirect instead of immediately responding with the web page that the user wants to see. One reason has to do with\\nsearch engine rankings. See, if there are two URLs for the same page, say http://www.vasanth.com/ and http://vasanth.com/,\\nsearch engine may consider them to be two different sites, each with fewer incoming links and thus a lower ranking. Search\\nengines understand permanent redirects (301), and will combine the incoming links from both sources into a single ranking.\\nAlso, multiple URLs for the same content are not cache-friendly. When a piece of content has multiple names, it will potentially\\nappear multiple times in caches.\\nNote: HTTP response starts with the returned status code from the server. Following is a very brief summary of what a status\\ncode denotes: * 1xx indicates an informational message only * 2xx indicates success of some kind * 3xx redirects the client to\\nanother URL * 4xx indicates an error on the client\\'s part * 5xx indicates an error on the server\\'s part\\nHTTP Server Request Handle\\nThe HTTPD (HTTP Daemon) server is the one handling the requests/responses on the server side. The most common HTTPD\\nservers are Apache or nginx for Linux and IIS for Windows.\\nThe HTTPD (HTTP Daemon) receives the request.\\nThe server breaks down the request to the following parameters:\\nHTTP Request Method (either GET, POST, HEAD, PUT and DELETE). In the case of a URL entered directly into the\\naddress bar, this will be GET.\\nDomain, in this case - google.com.\\nRequested path/page, in this case - / (as no specific path/page was requested, / is the default path).\\nThe server verifies that there is a Virtual Host configured on the server that corresponds with google.com.\\nThe server verifies that google.com can accept GET requests.\\nThe server verifies that the client is allowed to use this method (by IP, authentication, etc.).\\nIf the server has a rewrite module installed (like mod_rewrite for Apache or URL Rewrite for IIS), it tries to match the\\nrequest against one of the configured rules. If a matching rule is found, the server uses that rule to rewrite the request.\\nThe server goes to pull the content that corresponds with the request, in our case it will fall back to the index file, as \"/\" is\\nthe main file (some cases can override this, but this is the most common method).\\nThe server parses the file according to the request handler. A request handler is a program (in ASP.NET, PHP, Ruby, …)\\nthat reads the request and generates the HTML for the response. If Google is running on PHP, the server uses PHP to\\ninterpret the index file, and streams the output to the client.\\nNote: One interesting difficulty that every dynamic website faces is how to store data. Smaller sites will often have a single SQL\\ndatabase to store their data, but sites that store a large amount of data and/or have many visitors have to find a way to split the\\ndatabase across multiple machines. Solutions include sharding (splitting up a table across multiple databases based on the\\nprimary key), replication, and usage of simplified databases with weakened consistency semantics.\\nServer Response\\nHere is the response that the server generated and sent back:', metadata={'source': 'data\\\\Web.pdf', 'file_path': 'data\\\\Web.pdf', 'page': 3, 'total_pages': 11, 'format': 'PDF 1.4', 'title': 'Markdown To PDF', 'author': '', 'subject': '', 'keywords': '', 'creator': 'wkhtmltopdf 0.12.3', 'producer': 'Qt 4.8.7', 'creationDate': 'D:20221122084249Z', 'modDate': '', 'trapped': ''}),\n",
       " Document(page_content='HTTP/1.1 200 OK\\nCache-Control: private, no-store, no-cache, must-revalidate, post-check=0,\\n    pre-check=0\\nExpires: Sat, 01 Jan 2000 00:00:00 GMT\\nP3P: CP=\"DSP LAW\"\\nPragma: no-cache\\nContent-Encoding: gzip\\nContent-Type: text/html; charset=utf-8\\nX-Cnection: close\\nTransfer-Encoding: chunked\\nDate: Fri, 12 Feb 2010 09:05:55 GMT\\n2b3\\n\\x01\\x01\\x01\\x01\\x01\\x01\\x01\\x01T\\x01n\\x01@\\x01\\x01\\x01\\x01[...]\\nThe entire response is 36 kB, the bulk of them in the byte blob at the end that I trimmed.\\nThe Content-Encoding header tells the browser that the response body is compressed using the gzip algorithm. After\\ndecompressing the blob, you’ll see the HTML you’d expect:\\n<!DOCTYPE html PUBLIC \"-//W3C//DTD XHTML 1.0 Strict//EN\"\\n      \"http://www.w3.org/TR/xhtml1/DTD/xhtml1-strict.dtd\">\\n<html xmlns=\"http://www.w3.org/1999/xhtml\" xml:lang=\"en\"\\n      lang=\"en\" id=\"google\" class=\" no_js\">\\n<head>\\n<meta http-equiv=\"Content-type\" content=\"text/html; charset=utf-8\" />\\n<meta http-equiv=\"Content-language\" content=\"en\" />\\n...\\nNotice the header that sets Content-Type to text/html. The header instructs the browser to render the response content as\\nHTML, instead of say downloading it as a file. The browser will use the header to decide how to interpret the response, but will\\nconsider other factors as well, such as the extension of the URL.\\nBehind the scenes of the Browser\\nOnce the server supplies the resources (HTML, CSS, JS, images, etc.) to the browser it undergoes the below process: * Parsing -\\nHTML, CSS, JS * Rendering - Construct DOM Tree → Render Tree → Layout of Render Tree → Painting the render tree\\nThe browser\\'s high level structure\\n1. User Interface: Includes the address bar, back/forward button, bookmarking menu, etc. Every part of the browser display\\nexcept the window where you see the requested page.\\n2. Browser Engine: Marshals actions between the UI and the rendering engine.\\n3. Rendering Engine: Responsible for displaying requested content. For eg. the rendering engine parses HTML and CSS, and\\ndisplays the parsed content on the screen.\\n4. Networking: For network calls such as HTTP requests, using different implementations for different platforms (behind a\\nplatform-independent interface).\\n5. UI Backend: Used for drawing basic widgets like combo boxes and windows. This backend exposes a generic interface\\nthat is not platform specific. Underneath it uses operating system user interface methods.\\n6. JavaScript Engine: Interpreter used to parse and execute JavaScript code.', metadata={'source': 'data\\\\Web.pdf', 'file_path': 'data\\\\Web.pdf', 'page': 4, 'total_pages': 11, 'format': 'PDF 1.4', 'title': 'Markdown To PDF', 'author': '', 'subject': '', 'keywords': '', 'creator': 'wkhtmltopdf 0.12.3', 'producer': 'Qt 4.8.7', 'creationDate': 'D:20221122084249Z', 'modDate': '', 'trapped': ''}),\n",
       " Document(page_content=\"7. Data Storage: This is a persistence layer. The browser may need to save data locally, such as cookies. Browsers also\\nsupport storage mechanisms such as localStorage, IndexedDB and FileSystem.\\nLet’s start, with the simplest possible case: a plain HTML page with some text and a single image. What does the browser need\\nto do to process this simple page?\\n1. Conversion: the browser reads the raw bytes of the HTML off the disk or network and translates them to individual\\ncharacters based on specified encoding of the file (e.g. UTF-8).\\n2. Tokenizing: the browser converts strings of characters into distinct tokens specified by the W3C HTML5 standard - e.g. “”,\\n“” and other strings within the “angle brackets”. Each token has a special meaning and a set of rules.\\n3. Lexing: the emitted tokens are converted into “objects” which define their properties and rules.\\n4. DOM construction: Finally, because the HTML markup defines relationships between different tags (some tags are\\ncontained within tags) the created objects are linked in a tree data structure that also captures the parent-child\\nrelationships defined in the original markup: HTML object is a parent of the body object, the body is a parent of the\\nparagraph object, and so on.\\nThe final output of this entire process is the Document Object Model, or the “DOM” of our simple page, which the browser uses\\nfor all further processing of the page.\\nEvery time the browser has to process HTML markup it has to step through all of the steps above: convert bytes to characters,\\nidentify tokens, convert tokens to nodes, and build the DOM tree. This entire process can take some time, especially if we have a\\nlarge amount of HTML to process.\\nIf you open up Chrome DevTools and record a timeline while the page is loaded, you can see the actual time taken to perform this\\nstep — in the example above, it took us ~5ms to convert a chunk of HTML bytes into a DOM tree. Of course, if the page was\\nlarger, as most pages are, this process might take significantly longer. You will see in our future sections on creating smooth\\nanimations that this can easily become your bottleneck if the browser has to process large amounts of HTML.\\nRendering Engine\\nA rendering engine is a software component that takes marked up content (such as HTML, XML, image files, etc.) and formatting\\ninformation (such as CSS, XSL, etc.) and displays the formatted content on the screen.\\nBrowser\\nEngine\\nChrome\\nBlink (a fork of WebKit)\\nFirefox\\nGecko\\nSafari\\nWebkit\\nOpera\\nBlink (Presto if < v15)\\nInternet Explorer\\nTrident\\nEdge\\nBlink (EdgeHTML if <\\nv79)\\nWebKit is an open source rendering engine which started as an engine for the Linux platform and was modified by Apple to\\nsupport Mac and Windows.\\nThe rendering engine is single threaded. Almost everything, except network operations, happens in a single thread. In Firefox and\\nSafari this is the main thread of the browser. In Chrome it's the tab process main thread. Network operations can be performed\\nby several parallel threads. The number of parallel connections is limited (usually 6-13 connections per hostname).\", metadata={'source': 'data\\\\Web.pdf', 'file_path': 'data\\\\Web.pdf', 'page': 5, 'total_pages': 11, 'format': 'PDF 1.4', 'title': 'Markdown To PDF', 'author': '', 'subject': '', 'keywords': '', 'creator': 'wkhtmltopdf 0.12.3', 'producer': 'Qt 4.8.7', 'creationDate': 'D:20221122084249Z', 'modDate': '', 'trapped': ''})]"
      ]
     },
     "execution_count": 8,
     "metadata": {},
     "output_type": "execute_result"
    }
   ],
   "source": [
    "retriever1.invoke(\"browser high level structure\")"
   ]
  },
  {
   "cell_type": "markdown",
   "metadata": {},
   "source": [
    "No difference seen in the answer, probable it's the splitting and embedding functions that make a larger difference"
   ]
  },
  {
   "cell_type": "markdown",
   "metadata": {},
   "source": [
    "## Using a md file instead of PDF so it is easier to split the chunks"
   ]
  },
  {
   "cell_type": "code",
   "execution_count": 8,
   "metadata": {},
   "outputs": [],
   "source": [
    "# Using faiss\n",
    "db2 = FAISS.load_local(\"../VectorStores/webMD\",OllamaEmbeddings(model = Model),allow_dangerous_deserialization= True)\n",
    "retriever2 = db2.as_retriever()\n",
    "# faiss_index.similarity_search(\"\")"
   ]
  },
  {
   "cell_type": "code",
   "execution_count": null,
   "metadata": {},
   "outputs": [],
   "source": [
    "chain2 = (\n",
    "    {\"context\" : itemgetter(\"question\") | retriever2 | format_docs , \"question\" : itemgetter(\"question\")}\n",
    "    | promt\n",
    "    | llmmodel \n",
    ")"
   ]
  },
  {
   "cell_type": "code",
   "execution_count": null,
   "metadata": {},
   "outputs": [
    {
     "data": {
      "text/plain": [
       "\"According to the context, the browser's high-level structure consists of:\\n\\n1. **User Interface:** Includes the address bar, back/forward button, bookmarking menu, etc.\\n2. **Browser Engine:** Marshals actions between the UI and the rendering engine.\\n3. **Rendering Engine:** Responsible for displaying requested content (e.g., parsing HTML and CSS, and displaying the parsed content on the screen).\\n4. **Networking:** For network calls such as HTTP requests, using different implementations for different platforms (behind a platform-independent interface).\\n5. **UI Backend:** Used for drawing basic widgets like combo boxes and windows.\\n6. **JavaScript Engine:** Interpreter used to parse and execute JavaScript code.\\n7. **Data Storage:** This is a persistence layer, responsible for storing data locally, such as cookies, and supporting storage mechanisms like localStorage, IndexedDB, and FileSystem.\\n\\nThese components work together to process the browser's functionality.\""
      ]
     },
     "execution_count": 30,
     "metadata": {},
     "output_type": "execute_result"
    }
   ],
   "source": [
    "print(chain2.invoke({\"question\" : \"What is the browser's high level structure?\"}))"
   ]
  },
  {
   "cell_type": "markdown",
   "metadata": {},
   "source": [
    "This splitting gives much better answers"
   ]
  },
  {
   "cell_type": "markdown",
   "metadata": {},
   "source": [
    "## Using a different model specifically built as an embedding model for embedding the chunks"
   ]
  },
  {
   "cell_type": "markdown",
   "metadata": {},
   "source": [
    "Embedding model : mxbai-embed-large <br> LLM model : llama3 8B"
   ]
  },
  {
   "cell_type": "code",
   "execution_count": 9,
   "metadata": {},
   "outputs": [],
   "source": [
    "# Using faiss\n",
    "db3 = FAISS.load_local(\"../VectorStores/webMD\", OllamaEmbeddings(model =  \"mxbai-embed-large\"), allow_dangerous_deserialization= True)\n",
    "retriever3 = db3.as_retriever()\n",
    "# faiss_index.similarity_search(\"\")"
   ]
  },
  {
   "cell_type": "code",
   "execution_count": null,
   "metadata": {},
   "outputs": [],
   "source": [
    "chain3 = (\n",
    "    {\"context\" : itemgetter(\"question\") | retriever3 | format_docs , \"question\" : itemgetter(\"question\")}\n",
    "    | promt\n",
    "    | llmmodel \n",
    ")"
   ]
  },
  {
   "cell_type": "code",
   "execution_count": null,
   "metadata": {},
   "outputs": [
    {
     "data": {
      "text/plain": [
       "'According to the context, the browser\\'s high-level structure is described in the section \"#The browser\\'s high level structure\" which is not provided in the given text. Therefore, I can\\'t answer this question accurately.\\n\\nOof that\\'s a tough one, i don\\'t really know this.'"
      ]
     },
     "execution_count": 8,
     "metadata": {},
     "output_type": "execute_result"
    }
   ],
   "source": [
    "print(chain3.invoke({\"question\" : \"What is the browser's high level structure?\"}))"
   ]
  }
 ],
 "metadata": {
  "kernelspec": {
   "display_name": ".venv",
   "language": "python",
   "name": "python3"
  },
  "language_info": {
   "codemirror_mode": {
    "name": "ipython",
    "version": 3
   },
   "file_extension": ".py",
   "mimetype": "text/x-python",
   "name": "python",
   "nbconvert_exporter": "python",
   "pygments_lexer": "ipython3",
   "version": "3.12.4"
  }
 },
 "nbformat": 4,
 "nbformat_minor": 2
}
