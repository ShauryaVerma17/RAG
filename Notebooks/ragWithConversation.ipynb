{
 "cells": [
  {
   "cell_type": "markdown",
   "metadata": {},
   "source": [
    "### Required Libraries"
   ]
  },
  {
   "cell_type": "code",
   "execution_count": 1,
   "metadata": {},
   "outputs": [],
   "source": [
    "from langchain_community.embeddings import OllamaEmbeddings\n",
    "from langchain_community.llms import Ollama\n",
    "from langchain.prompts import PromptTemplate\n",
    "from operator import itemgetter\n",
    "from langchain.chains import ConversationChain\n",
    "from langchain.memory import ConversationBufferMemory\n",
    "from langchain_community.document_loaders import DirectoryLoader\n",
    "from langchain_text_splitters import CharacterTextSplitter\n",
    "from langchain_community.vectorstores import FAISS\n",
    "from langchain_community.document_loaders.pdf import PyMuPDFLoader\n",
    "from langchain_text_splitters import TokenTextSplitter"
   ]
  },
  {
   "cell_type": "markdown",
   "metadata": {},
   "source": [
    "### Defining the models"
   ]
  },
  {
   "cell_type": "code",
   "execution_count": 6,
   "metadata": {},
   "outputs": [],
   "source": [
    "Model = \"llama3\"; \n",
    "Embedding_Model = \"mxbai-embed-large\"\n",
    "model = Ollama(model=Model)"
   ]
  },
  {
   "cell_type": "markdown",
   "metadata": {},
   "source": [
    "### Loading the vectorstore"
   ]
  },
  {
   "cell_type": "code",
   "execution_count": 2,
   "metadata": {},
   "outputs": [],
   "source": [
    "vectors = FAISS.load_local(\"../VectorStores/SinglePrinter\", OllamaEmbeddings(model =  \"mxbai-embed-large\"), allow_dangerous_deserialization= True)\n",
    "retriever = vectors.as_retriever()"
   ]
  },
  {
   "cell_type": "markdown",
   "metadata": {},
   "source": [
    "### Defining the RAG Model"
   ]
  },
  {
   "cell_type": "code",
   "execution_count": 9,
   "metadata": {},
   "outputs": [],
   "source": [
    "# A function to combine retrieved documents into a string \n",
    "\n",
    "def combineDocs(docs):\n",
    "    context = \"\\n\\n\".join(f'Document [ Metadata : \\n{doc.metadata} \\nPage Content : \\n{doc.page_content} ]' for doc in docs)\n",
    "    return context\n",
    "\n",
    "def combineDocs2(docs):\n",
    "    context = \"\\n\\n\".join(f'{doc.page_content}'  for doc in docs)\n",
    "    return context"
   ]
  },
  {
   "cell_type": "markdown",
   "metadata": {},
   "source": [
    "#### Method 1 (Complicated internet answer)"
   ]
  },
  {
   "cell_type": "code",
   "execution_count": 10,
   "metadata": {},
   "outputs": [],
   "source": [
    "def create_model(vectorDB):\n",
    "    \n",
    "    # This is where the conversation will be stored\n",
    "    memory = ConversationBufferMemory()\n",
    "\n",
    "    # Creating a conversation model for ConvChain\n",
    "\n",
    "    def rag_retrieval(question, memory):\n",
    "\n",
    "        # Retrieve docs from vector DB\n",
    "        docs = vectorDB.similarity_search(question, k = 4)\n",
    "        context = combineDocs2(docs)\n",
    "\n",
    "        conversation = memory.load_memory_variables({}).get('history', '')\n",
    "\n",
    "        # Add context to the prompt\n",
    "        prompt = f'Answer the question based on the context below and the previous conversations. If you cannot\\nanswer the question, reply \"Oof that\\'s a tough one, i don\\'t really know this\"\\n\\nPrevious Conversation : \\n{conversation}\\n\\nContext : \\n{context}\\n\\nQuestion from user: {question}'\n",
    "\n",
    "        response = model.invoke(prompt)\n",
    "\n",
    "        memory.add_user_message(question)\n",
    "        memory.add_bot_message(response)\n",
    "\n",
    "        return response\n",
    "    \n",
    "    chain = ConversationChain(memory = memory, conversation_model = rag_retrieval)\n",
    "\n",
    "    return chain"
   ]
  },
  {
   "cell_type": "markdown",
   "metadata": {},
   "source": [
    "#### Method 2 (Self)"
   ]
  },
  {
   "cell_type": "code",
   "execution_count": 15,
   "metadata": {},
   "outputs": [],
   "source": [
    "chatHistory = \"\\n\"\n",
    "\n",
    "latestPrompt = \"\"\n",
    "\n",
    "template = \"\"\"\n",
    "You are a helpful assistant. You are given some text and a question. \n",
    "Answer the question based on the information given in the text\n",
    "\n",
    "## Text ##\n",
    "{context}\n",
    "\n",
    "## Conversation ##\n",
    "{conversation}\n",
    "\\n\n",
    "Question : {question}\n",
    "Answer: \n",
    "\n",
    "\"\"\"\n",
    "\n",
    "prompt = PromptTemplate.from_template(template)\n",
    "\n",
    "def chat(question): \n",
    "    \n",
    "    global chatHistory\n",
    "    global latestPrompt\n",
    "    # Retrieve docs from vector DB\n",
    "    #docs = vectors.similarity_search(question, k = 4)\n",
    "    #contextString = combineDocs2(docs)\n",
    "    contextString = retriever.invoke(question)\n",
    "    \n",
    "    query = prompt.format(conversation = chatHistory, context = contextString, question = question)\n",
    "    latestPrompt = query\n",
    "    response = model.invoke(query)\n",
    "    \n",
    "    chatHistory = chatHistory + \"\\nQuestion : \" + question + \"\\nAnswer : \" + response\n",
    "\n",
    "    return response\n"
   ]
  },
  {
   "cell_type": "code",
   "execution_count": 16,
   "metadata": {},
   "outputs": [
    {
     "data": {
      "text/plain": [
       "'According to the text, the various parts of the HP DeskJet 3700 All-in-One series printer are:\\n\\n1. Paper-width guide\\n2. Input tray extender\\n3. Input tray\\n4. Input tray shield\\n5. Scanner\\n6. Scan path\\n7. Scan light\\n8. Control panel\\n9. Cartridge access door\\n10. Cartridges\\n11. Output tray\\n12. Output tray extender (also referred to as the tray extender)\\n13. Paper catch\\n14. Power connection\\n15. USB port\\n\\nThese parts are listed on page 7 of the user guide.'"
      ]
     },
     "execution_count": 16,
     "metadata": {},
     "output_type": "execute_result"
    }
   ],
   "source": [
    "chat(\"what are the various parts of the printer?\")"
   ]
  },
  {
   "cell_type": "code",
   "execution_count": 17,
   "metadata": {},
   "outputs": [
    {
     "name": "stdout",
     "output_type": "stream",
     "text": [
      "\n",
      "\n",
      "Question : what are the various parts of the printer?\n",
      "Answer : According to the text, the various parts of the HP DeskJet 3700 All-in-One series printer are:\n",
      "\n",
      "1. Paper-width guide\n",
      "2. Input tray extender\n",
      "3. Input tray\n",
      "4. Input tray shield\n",
      "5. Scanner\n",
      "6. Scan path\n",
      "7. Scan light\n",
      "8. Control panel\n",
      "9. Cartridge access door\n",
      "10. Cartridges\n",
      "11. Output tray\n",
      "12. Output tray extender (also referred to as the tray extender)\n",
      "13. Paper catch\n",
      "14. Power connection\n",
      "15. USB port\n",
      "\n",
      "These parts are listed on page 7 of the user guide.\n"
     ]
    }
   ],
   "source": [
    "print(chatHistory)"
   ]
  },
  {
   "cell_type": "code",
   "execution_count": 18,
   "metadata": {},
   "outputs": [
    {
     "data": {
      "text/plain": [
       "'According to the provided text, which appears to be a user guide for the HP DeskJet 3700 All-in-One series printer, the various parts of this printer include the paper-width guide, input tray extender, input tray, input tray shield, scanner, scan path, scan light, control panel, cartridge access door, cartridges, output tray, and output tray extender (also referred to as the tray extender). Additionally, there is a paper catch and power connection.'"
      ]
     },
     "execution_count": 18,
     "metadata": {},
     "output_type": "execute_result"
    }
   ],
   "source": [
    "chat(\"Can you give the previous answer in a paragraph format?\")"
   ]
  },
  {
   "cell_type": "code",
   "execution_count": 19,
   "metadata": {},
   "outputs": [
    {
     "data": {
      "text/plain": [
       "'According to the provided text, you can use plain papers with the ColorLok logo for printing and copying of everyday documents. These papers are independently tested to meet high standards of reliability and print quality, producing documents with crisp, vivid color, bolder blacks, and shorter dry-time than ordinary plain papers.'"
      ]
     },
     "execution_count": 19,
     "metadata": {},
     "output_type": "execute_result"
    }
   ],
   "source": [
    "chat(\"which paper options do i have for everyday printing?\")"
   ]
  },
  {
   "cell_type": "code",
   "execution_count": 20,
   "metadata": {},
   "outputs": [
    {
     "name": "stdout",
     "output_type": "stream",
     "text": [
      "\n",
      "\n",
      "Question : what are the various parts of the printer?\n",
      "Answer : According to the text, the various parts of the HP DeskJet 3700 All-in-One series printer are:\n",
      "\n",
      "1. Paper-width guide\n",
      "2. Input tray extender\n",
      "3. Input tray\n",
      "4. Input tray shield\n",
      "5. Scanner\n",
      "6. Scan path\n",
      "7. Scan light\n",
      "8. Control panel\n",
      "9. Cartridge access door\n",
      "10. Cartridges\n",
      "11. Output tray\n",
      "12. Output tray extender (also referred to as the tray extender)\n",
      "13. Paper catch\n",
      "14. Power connection\n",
      "15. USB port\n",
      "\n",
      "These parts are listed on page 7 of the user guide.\n",
      "Question : Can you give the previous answer in a paragraph format?\n",
      "Answer : According to the provided text, which appears to be a user guide for the HP DeskJet 3700 All-in-One series printer, the various parts of this printer include the paper-width guide, input tray extender, input tray, input tray shield, scanner, scan path, scan light, control panel, cartridge access door, cartridges, output tray, and output tray extender (also referred to as the tray extender). Additionally, there is a paper catch and power connection.\n",
      "Question : which paper options do i have for everyday printing?\n",
      "Answer : According to the provided text, you can use plain papers with the ColorLok logo for printing and copying of everyday documents. These papers are independently tested to meet high standards of reliability and print quality, producing documents with crisp, vivid color, bolder blacks, and shorter dry-time than ordinary plain papers.\n"
     ]
    }
   ],
   "source": [
    "print(chatHistory)"
   ]
  },
  {
   "cell_type": "code",
   "execution_count": 21,
   "metadata": {},
   "outputs": [
    {
     "name": "stdout",
     "output_type": "stream",
     "text": [
      "Based on the provided text, which appears to be a user guide for the HP DeskJet 3700 All-in-One series printer, you can order HPE (HP) supplies by visiting their website at www.hp.com/go/anticounterfeit. This is mentioned in the text as \"If you believe the purchased original HP cartridges, go to: www.hp.com/go/anticounterfeit\".\n"
     ]
    }
   ],
   "source": [
    "print(chat(\"How can I order hpe supplies?\"))"
   ]
  },
  {
   "cell_type": "code",
   "execution_count": 22,
   "metadata": {},
   "outputs": [
    {
     "name": "stdout",
     "output_type": "stream",
     "text": [
      "\n",
      "You are a helpful assistant. You are given some text and a question. \n",
      "Answer the question based on the information given in the text\n",
      "\n",
      "## Text ##\n",
      "[Document(metadata={'source': 'onePrinterBook\\\\HP - Deskjet-3700-Printer.pdf', 'file_path': 'onePrinterBook\\\\HP - Deskjet-3700-Printer.pdf', 'page': 52, 'total_pages': 118, 'format': 'PDF 1.6', 'title': 'HP DeskJet 3700 All-in-One series User Guide – ENWW', 'author': 'HP IWS Design Customer Education', 'subject': '', 'keywords': 'Edition 1, 9/2016', 'creator': 'AH XSL Formatter V6.2 MR6 for Windows (x64) : 6.2.8.19325 (2015/01/06 12:40JST)', 'producer': 'Antenna House PDF Output Library 6.2.640 (Windows (x64))', 'creationDate': \"D:20160524165601+08'00'\", 'modDate': \"D:20160525102417+08'00'\", 'trapped': ''}, page_content='Order ink supplies\\nBefore ordering cartridges, locate the correct cartridge number.\\nTo locate the cartridge number on the printer\\n●\\nThe cartridge number is located inside the cartridge access door.\\nTo locate the cartridge number from the printer software (Windows)\\n1.\\nOpen the HP printer software. For more information, see Open the HP printer software (Windows) \\non page 18.\\n2.\\nIn the printer software, click Shop, click Shop For Supplies Online, and then follow the onscreen \\ninstructions.\\nTo find the print cartridge reorder numbers (OS X)\\n1.\\nOpen HP Utility.\\nNOTE:\\n HP Utility is located in the HP folder in the Applications folder. \\n2.\\nClick Supplies Info.\\nThe print cartridge ordering numbers appear.\\n3.\\nClick All Settings to return to the Information and Support pane.\\nTo order original HP supplies for the HP DeskJet 3700 series, go to www.hp.com/buy/supplies . If prompted, \\nchoose your country/region, and then follow the prompts to find the right cartridges for your printer.\\nNOTE:\\nOrdering cartridges online is not supported in all countries/regions. If it is not available in your \\ncountry/region, you may still view supplies information and print a list for reference when shopping at a local \\nHP reseller.\\nENWW\\nOrder ink supplies\\n49\\n'), Document(metadata={'source': 'onePrinterBook\\\\HP - Deskjet-3700-Printer.pdf', 'file_path': 'onePrinterBook\\\\HP - Deskjet-3700-Printer.pdf', 'page': 97, 'total_pages': 118, 'format': 'PDF 1.6', 'title': 'HP DeskJet 3700 All-in-One series User Guide – ENWW', 'author': 'HP IWS Design Customer Education', 'subject': '', 'keywords': 'Edition 1, 9/2016', 'creator': 'AH XSL Formatter V6.2 MR6 for Windows (x64) : 6.2.8.19325 (2015/01/06 12:40JST)', 'producer': 'Antenna House PDF Output Library 6.2.640 (Windows (x64))', 'creationDate': \"D:20160524165601+08'00'\", 'modDate': \"D:20160525102417+08'00'\", 'trapped': ''}, page_content='HP support\\nFor the latest product updates and support information, visit the product support website at \\nwww.support.hp.com. HP online support provides a variety of options for help with your printer:\\nDrivers & downloads: Download software drivers and updates, as well as product manuals and documentation \\nthat came in the box with your printer.\\nHP support forums: Visit HP Support Forums for answers to common questions and issues. You can view \\nquestions posted by other HP customers, or sign in and post your own questions and comments.\\nTroubleshooting: Use HP online tools to detect your printer and find recommended solutions.\\nContact HP\\nIf you need help from an HP technical support representative to solve a problem, visit the Contact Support \\nwebsite. The following contact options are available at no cost for in-warranty customers (HP agent-assisted \\nsupport for out-of warranty customers may require a fee):\\nChat with an HP support agent online.\\nCall an HP support agent.\\nWhen contacting HP support, be prepared to provide the following information:\\n●\\nProduct name (Located on the printer, such as HP DeskJet 3700)\\n●\\nProduct number (located inside the cartridge access door)\\n●\\nSerial number (located on the back or bottom of the printer)\\nRegister printer\\nBy taking just a few quick minutes to register, you can enjoy quicker service, more efficient support, and \\nproduct support alerts. If you did not register your printer while installing the software, you can register now \\nat http://www.register.hp.com.\\n94\\nChapter 8   Solve a problem\\nENWW\\n'), Document(metadata={'source': 'onePrinterBook\\\\HP - Deskjet-3700-Printer.pdf', 'file_path': 'onePrinterBook\\\\HP - Deskjet-3700-Printer.pdf', 'page': 104, 'total_pages': 118, 'format': 'PDF 1.6', 'title': 'HP DeskJet 3700 All-in-One series User Guide – ENWW', 'author': 'HP IWS Design Customer Education', 'subject': '', 'keywords': 'Edition 1, 9/2016', 'creator': 'AH XSL Formatter V6.2 MR6 for Windows (x64) : 6.2.8.19325 (2015/01/06 12:40JST)', 'producer': 'Antenna House PDF Output Library 6.2.640 (Windows (x64))', 'creationDate': \"D:20160524165601+08'00'\", 'modDate': \"D:20160525102417+08'00'\", 'trapped': ''}, page_content='Regulatory notices\\nThe HP DeskJet 3700 series meets product requirements from regulatory agencies in your country/region.\\nThis section contains the following topics:\\n●\\nRegulatory model identification number\\n●\\nFCC statement\\n●\\nPower cord instructions\\n●\\nNotice to users in Korea\\n●\\nNoise emission statement for Germany\\n●\\nEuropean Union Regulatory Notice\\n●\\nVisual display workplaces statement for Germany\\n●\\nDeclaration of conformity\\n●\\nRegulatory wireless statements\\nRegulatory model identification number\\nFor regulatory identification purposes, your product is assigned a Regulatory Model Number. The Regulatory \\nModel Number for your product is SDGOB-1621. This regulatory number should not be confused with the \\nmarketing name (HP DeskJet 3700 All-in-One Printer series, HP DeskJet Ink Advantage 3700 All-in-One \\nPrinter series, etc.) or product numbers (J9V86A, J9V87A, etc.).\\nENWW\\nRegulatory notices 101\\n'), Document(metadata={'source': 'onePrinterBook\\\\HP - Deskjet-3700-Printer.pdf', 'file_path': 'onePrinterBook\\\\HP - Deskjet-3700-Printer.pdf', 'page': 34, 'total_pages': 118, 'format': 'PDF 1.6', 'title': 'HP DeskJet 3700 All-in-One series User Guide – ENWW', 'author': 'HP IWS Design Customer Education', 'subject': '', 'keywords': 'Edition 1, 9/2016', 'creator': 'AH XSL Formatter V6.2 MR6 for Windows (x64) : 6.2.8.19325 (2015/01/06 12:40JST)', 'producer': 'Antenna House PDF Output Library 6.2.640 (Windows (x64))', 'creationDate': \"D:20160524165601+08'00'\", 'modDate': \"D:20160525102417+08'00'\", 'trapped': ''}, page_content='●\\nOriginal HP cartridges are designed and tested with HP printers and papers to help you easily produce \\ngreat results, time after time.\\nNOTE:\\nHP cannot guarantee the quality or reliability of non-HP supplies. Product service or repairs \\nrequired as a result of using a non-HP supply will not be covered under warranty.\\nIf you believe the purchased original HP cartridges, go to:\\nwww.hp.com/go/anticounterfeit\\n●\\nYou can print your document on both sides of the paper manually.\\nENWW\\nTips for print success\\n31\\n')]\n",
      "\n",
      "## Conversation ##\n",
      "\n",
      "\n",
      "Question : what are the various parts of the printer?\n",
      "Answer : According to the text, the various parts of the HP DeskJet 3700 All-in-One series printer are:\n",
      "\n",
      "1. Paper-width guide\n",
      "2. Input tray extender\n",
      "3. Input tray\n",
      "4. Input tray shield\n",
      "5. Scanner\n",
      "6. Scan path\n",
      "7. Scan light\n",
      "8. Control panel\n",
      "9. Cartridge access door\n",
      "10. Cartridges\n",
      "11. Output tray\n",
      "12. Output tray extender (also referred to as the tray extender)\n",
      "13. Paper catch\n",
      "14. Power connection\n",
      "15. USB port\n",
      "\n",
      "These parts are listed on page 7 of the user guide.\n",
      "Question : Can you give the previous answer in a paragraph format?\n",
      "Answer : According to the provided text, which appears to be a user guide for the HP DeskJet 3700 All-in-One series printer, the various parts of this printer include the paper-width guide, input tray extender, input tray, input tray shield, scanner, scan path, scan light, control panel, cartridge access door, cartridges, output tray, and output tray extender (also referred to as the tray extender). Additionally, there is a paper catch and power connection.\n",
      "Question : which paper options do i have for everyday printing?\n",
      "Answer : According to the provided text, you can use plain papers with the ColorLok logo for printing and copying of everyday documents. These papers are independently tested to meet high standards of reliability and print quality, producing documents with crisp, vivid color, bolder blacks, and shorter dry-time than ordinary plain papers.\n",
      "\n",
      "\n",
      "Question : How can I order hpe supplies?\n",
      "Answer: \n",
      "\n",
      "\n"
     ]
    }
   ],
   "source": [
    "print(latestPrompt)"
   ]
  },
  {
   "cell_type": "code",
   "execution_count": 23,
   "metadata": {},
   "outputs": [
    {
     "name": "stdout",
     "output_type": "stream",
     "text": [
      "According to the provided text, to load full-size paper on the HP DeskJet 3700 All-in-One series printer, follow these steps:\n",
      "\n",
      "1. Raise the input tray and input tray extender.\n",
      "2. Insert a stack of paper into the input tray with the short edge down and the print side up, and slide the stack of paper down until it stops.\n",
      "3. Slide the paper-width guide to the right until it stops at the edge of the paper.\n",
      "\n",
      "Please note that this information is based on page 13 of the user guide.\n"
     ]
    }
   ],
   "source": [
    "print(chat(\"How can I load full size paper\"))"
   ]
  },
  {
   "cell_type": "code",
   "execution_count": 24,
   "metadata": {},
   "outputs": [
    {
     "name": "stdout",
     "output_type": "stream",
     "text": [
      "Here is the answer in paragraph form:\n",
      "\n",
      "To load full-size paper on your HP DeskJet 3700 All-in-One series printer, start by raising the input tray and input tray extender. Next, insert a stack of paper into the input tray with the short edge down and the print side up, and slide the stack of paper down until it stops. Finally, slide the paper-width guide to the right until it stops at the edge of the paper. Follow these steps to successfully load full-size paper on your printer.\n"
     ]
    }
   ],
   "source": [
    "print(chat(\"Can you give me the previous answer in paragraph form?\"))"
   ]
  },
  {
   "cell_type": "code",
   "execution_count": 25,
   "metadata": {},
   "outputs": [
    {
     "name": "stdout",
     "output_type": "stream",
     "text": [
      "\n",
      "\n",
      "Question : what are the various parts of the printer?\n",
      "Answer : According to the text, the various parts of the HP DeskJet 3700 All-in-One series printer are:\n",
      "\n",
      "1. Paper-width guide\n",
      "2. Input tray extender\n",
      "3. Input tray\n",
      "4. Input tray shield\n",
      "5. Scanner\n",
      "6. Scan path\n",
      "7. Scan light\n",
      "8. Control panel\n",
      "9. Cartridge access door\n",
      "10. Cartridges\n",
      "11. Output tray\n",
      "12. Output tray extender (also referred to as the tray extender)\n",
      "13. Paper catch\n",
      "14. Power connection\n",
      "15. USB port\n",
      "\n",
      "These parts are listed on page 7 of the user guide.\n",
      "Question : Can you give the previous answer in a paragraph format?\n",
      "Answer : According to the provided text, which appears to be a user guide for the HP DeskJet 3700 All-in-One series printer, the various parts of this printer include the paper-width guide, input tray extender, input tray, input tray shield, scanner, scan path, scan light, control panel, cartridge access door, cartridges, output tray, and output tray extender (also referred to as the tray extender). Additionally, there is a paper catch and power connection.\n",
      "Question : which paper options do i have for everyday printing?\n",
      "Answer : According to the provided text, you can use plain papers with the ColorLok logo for printing and copying of everyday documents. These papers are independently tested to meet high standards of reliability and print quality, producing documents with crisp, vivid color, bolder blacks, and shorter dry-time than ordinary plain papers.\n",
      "Question : How can I order hpe supplies?\n",
      "Answer : Based on the provided text, which appears to be a user guide for the HP DeskJet 3700 All-in-One series printer, you can order HPE (HP) supplies by visiting their website at www.hp.com/go/anticounterfeit. This is mentioned in the text as \"If you believe the purchased original HP cartridges, go to: www.hp.com/go/anticounterfeit\".\n",
      "Question : How can I load full size paper\n",
      "Answer : According to the provided text, to load full-size paper on the HP DeskJet 3700 All-in-One series printer, follow these steps:\n",
      "\n",
      "1. Raise the input tray and input tray extender.\n",
      "2. Insert a stack of paper into the input tray with the short edge down and the print side up, and slide the stack of paper down until it stops.\n",
      "3. Slide the paper-width guide to the right until it stops at the edge of the paper.\n",
      "\n",
      "Please note that this information is based on page 13 of the user guide.\n",
      "Question : Can you give me the previous answer in paragraph form?\n",
      "Answer : Here is the answer in paragraph form:\n",
      "\n",
      "To load full-size paper on your HP DeskJet 3700 All-in-One series printer, start by raising the input tray and input tray extender. Next, insert a stack of paper into the input tray with the short edge down and the print side up, and slide the stack of paper down until it stops. Finally, slide the paper-width guide to the right until it stops at the edge of the paper. Follow these steps to successfully load full-size paper on your printer.\n"
     ]
    }
   ],
   "source": [
    "print(chatHistory)"
   ]
  },
  {
   "cell_type": "code",
   "execution_count": null,
   "metadata": {},
   "outputs": [],
   "source": []
  }
 ],
 "metadata": {
  "kernelspec": {
   "display_name": ".venv",
   "language": "python",
   "name": "python3"
  },
  "language_info": {
   "codemirror_mode": {
    "name": "ipython",
    "version": 3
   },
   "file_extension": ".py",
   "mimetype": "text/x-python",
   "name": "python",
   "nbconvert_exporter": "python",
   "pygments_lexer": "ipython3",
   "version": "3.12.4"
  }
 },
 "nbformat": 4,
 "nbformat_minor": 2
}
