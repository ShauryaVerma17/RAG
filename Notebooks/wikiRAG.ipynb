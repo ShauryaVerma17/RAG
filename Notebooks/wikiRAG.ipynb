{
 "cells": [
  {
   "cell_type": "code",
   "execution_count": 13,
   "metadata": {},
   "outputs": [],
   "source": [
    "from langchain_community.embeddings import OllamaEmbeddings\n",
    "from langchain_community.llms import Ollama\n",
    "from langchain_community.vectorstores import FAISS\n",
    "from langchain_text_splitters import TokenTextSplitter\n",
    "import ollama\n",
    "from bs4 import BeautifulSoup\n",
    "import requests\n",
    "from langchain.docstore.document import Document\n",
    "from urllib.parse import urlparse, unquote\n",
    "from langchain.prompts import PromptTemplate"
   ]
  },
  {
   "cell_type": "code",
   "execution_count": 14,
   "metadata": {},
   "outputs": [],
   "source": [
    "Embedding_Model = \"nomic-embed-text\"\n",
    "Model = Ollama(model=\"llama3.1\")"
   ]
  },
  {
   "cell_type": "markdown",
   "metadata": {},
   "source": [
    "### Getting Data from Wikipedia"
   ]
  },
  {
   "cell_type": "code",
   "execution_count": 3,
   "metadata": {},
   "outputs": [],
   "source": [
    "page_url = \"https://en.wikipedia.org/wiki/Swallowtail_butterfly\""
   ]
  },
  {
   "cell_type": "code",
   "execution_count": 4,
   "metadata": {},
   "outputs": [],
   "source": [
    "def getData(url):\n",
    "\n",
    "    # Getting the title of the wiki page from the url\n",
    "    path = urlparse(url).path\n",
    "    title = unquote(path.split('/')[-1])\n",
    "\n",
    "    # Calling the wikipedia api \n",
    "    endpoint = \"https://en.wikipedia.org/w/api.php\"\n",
    "    params = {\n",
    "        \"action\" : \"query\",\n",
    "        \"format\" : \"json\",\n",
    "        \"titles\" : title,\n",
    "        \"prop\" : \"extracts\",\n",
    "        \"explaintext\" : True\n",
    "    }\n",
    "\n",
    "    # Making the API call (Doesn't work on office laptop, ssl cert issue)\n",
    "    #response = requests.get(endpoint, params = params, verify = False)        # For work laptop but this is security issue\n",
    "    response = requests.get(endpoint, params=params)\n",
    "    response.raise_for_status()\n",
    "    data = response.json()\n",
    "\n",
    "    pages = data[\"query\"][\"pages\"]\n",
    "    page = next(iter(pages.values()))\n",
    "    if \"extract\" in page:\n",
    "        return page[\"extract\"]\n",
    "    else :\n",
    "        return None"
   ]
  },
  {
   "cell_type": "code",
   "execution_count": 5,
   "metadata": {},
   "outputs": [],
   "source": [
    "content = getData(page_url)"
   ]
  },
  {
   "cell_type": "markdown",
   "metadata": {},
   "source": [
    "### RAG Time :)"
   ]
  },
  {
   "cell_type": "code",
   "execution_count": 10,
   "metadata": {},
   "outputs": [],
   "source": [
    "# Getting data from the wikipedia document \n",
    "\n",
    "data = getData(\"https://en.wikipedia.org/wiki/Swallowtail_butterfly\")\n",
    "text_splitter = TokenTextSplitter(chunk_size=500,chunk_overlap=100)\n",
    "documents = text_splitter.split_text(data)\n",
    "docs = [Document(page_content=document, metadata={\"source\": \"local\"}) for document in documents]"
   ]
  },
  {
   "cell_type": "code",
   "execution_count": 11,
   "metadata": {},
   "outputs": [],
   "source": [
    "# Creating the vector store\n",
    "\n",
    "db = FAISS.from_documents(docs, OllamaEmbeddings(model = Embedding_Model))\n",
    "retriever = db.as_retriever() "
   ]
  },
  {
   "cell_type": "code",
   "execution_count": 12,
   "metadata": {},
   "outputs": [],
   "source": [
    "# Utility for formatting fetched context \n",
    "\n",
    "def combineDocs(docs):\n",
    "    context = \"\\n\\n\".join(f'Document Content : \\n{doc.page_content} ]' for doc in docs)\n",
    "    return context"
   ]
  },
  {
   "cell_type": "code",
   "execution_count": 19,
   "metadata": {},
   "outputs": [],
   "source": [
    "chatHistory = \"\\n\"\n",
    "\n",
    "latestPrompt = \"\"\n",
    "\n",
    "template = \"\"\"\n",
    "You are a helpful assistant. You are given some text, conversation history and a question. \n",
    "Answer the question based on the information given in the text or based on the conversation if needed\n",
    "\n",
    "## Text ##\n",
    "{context}\n",
    "\n",
    "## Conversation ##\n",
    "{conversation}\n",
    "\\n\n",
    "Question : {question}\n",
    "Answer: \n",
    "\n",
    "\"\"\"\n",
    "\n",
    "prompt = PromptTemplate.from_template(template)\n",
    "\n",
    "def chat(question): \n",
    "    \n",
    "    global chatHistory\n",
    "    global latestPrompt\n",
    "    # Retrieve docs from vector DB\n",
    "    #docs = vectors.similarity_search(question, k = 4)\n",
    "    #contextString = combineDocs2(docs)\n",
    "    contextString = combineDocs(retriever.invoke(question))\n",
    "    \n",
    "    query = prompt.format(conversation = chatHistory, context = contextString, question = question)\n",
    "    latestPrompt = query\n",
    "    response = Model.invoke(query)\n",
    "    \n",
    "    chatHistory = chatHistory + \"\\nQuestion : \" + question + \"\\nAnswer : \" + response\n",
    "\n",
    "    return response\n"
   ]
  },
  {
   "cell_type": "code",
   "execution_count": 20,
   "metadata": {},
   "outputs": [],
   "source": [
    "def rag(question):\n",
    "    answer = chat(question)\n",
    "    print(answer)"
   ]
  },
  {
   "cell_type": "code",
   "execution_count": 21,
   "metadata": {},
   "outputs": [
    {
     "name": "stdout",
     "output_type": "stream",
     "text": [
      "The Parnassiinae is a subfamily of essentially Holarctic butterflies, with the vast majority of species found in mountain habitats. Most Parnassius species can be found in high-altitude regions and have two small reddish spots on their hindwings.\n",
      "\n",
      "There are three tribes recognized within the Parnassiinae: Parnassiini, Zerynthiini, and Luehdorfiini. The tribe Parnassiini contains two genera, Hypermnestra and Parnassius (the Apollos), with most species found in central Asia and capable of living at high altitudes.\n",
      "\n",
      "The tribe Luehdorfiini includes the genera Archon of Asia minor and the genus Luehdorfia of China and Japan. These two tribes have evolved to change their food plants, while the third tribe, Zerynthiini, has retained the archetypical papilionid food plant, Aristolochia.\n",
      "\n",
      "The Parnassiinae are known for their unique adaptations to high-altitude environments and their diversity in terms of species and habitats.\n"
     ]
    }
   ],
   "source": [
    "rag(\"Can you tell me about Parnassiinae\")"
   ]
  },
  {
   "cell_type": "code",
   "execution_count": 22,
   "metadata": {},
   "outputs": [
    {
     "name": "stdout",
     "output_type": "stream",
     "text": [
      "Here is the rewritten content based on your questions:\n",
      "\n",
      "**Taxonomy**\n",
      "\n",
      "The genera of extant swallowtails are usually classified into three subfamilies, Baroniinae, Parnassiinae, and Papilioninae. The Parnassiinae is a subfamily of essentially Holarctic butterflies, with the vast majority of species found in mountain habitats.\n",
      "\n",
      "* Subfamily: Baroniene.\n",
      "\t+ Family Aristolochiaceae (some sources mention 4th family: Rutaceae)\n",
      "**Food**\n",
      "\n",
      "The caterpillars of various swallowtail butterfly species feed on a wide range of different plants. Most depend on only one of the following five families:\n",
      "\t1. Aristolochiaceae\n",
      "\t2. Annonaceae\n",
      "\t3. Lauraceae\n",
      "\t4. Umbelliferae (Apiaceae)\n",
      "\t5. Rutaceae\n",
      "\n",
      "By eating some of these toxic plants, the caterpillars sequester aristolochic acid which renders both the caterpillars and the butterflies of some of these species as toxic, thus protecting them from predators.\n",
      "\n",
      "**Life Cycle**\n",
      "\n",
      "The detailed descriptions of morphological characteristics of the Papilionidae are as follows:\n",
      "\n",
      "* Egg: \"Dome-shaped, smooth or obscurely facetted, not as high as wide, somewhat leathery, opaque.\"\n",
      "* Larva: Stout, stout body with a well-developed head and thorax.\n",
      "\n",
      "Let me know if you would like to add any further details!\n"
     ]
    }
   ],
   "source": [
    "rag(\"what do swallowtail butterfly species feed on\")"
   ]
  },
  {
   "cell_type": "code",
   "execution_count": null,
   "metadata": {},
   "outputs": [],
   "source": []
  }
 ],
 "metadata": {
  "kernelspec": {
   "display_name": ".venv",
   "language": "python",
   "name": "python3"
  },
  "language_info": {
   "codemirror_mode": {
    "name": "ipython",
    "version": 3
   },
   "file_extension": ".py",
   "mimetype": "text/x-python",
   "name": "python",
   "nbconvert_exporter": "python",
   "pygments_lexer": "ipython3",
   "version": "3.12.4"
  }
 },
 "nbformat": 4,
 "nbformat_minor": 2
}
