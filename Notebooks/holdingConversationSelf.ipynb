{
 "cells": [
  {
   "cell_type": "markdown",
   "metadata": {},
   "source": [
    "### Required Libraries"
   ]
  },
  {
   "cell_type": "code",
   "execution_count": 1,
   "metadata": {},
   "outputs": [],
   "source": [
    "from langchain_community.embeddings import OllamaEmbeddings\n",
    "from langchain_community.llms import Ollama\n",
    "from langchain.prompts import PromptTemplate\n",
    "from operator import itemgetter\n",
    "from langchain.chains import ConversationChain\n",
    "from langchain.memory import ConversationBufferMemory\n",
    "from langchain_community.document_loaders import DirectoryLoader\n",
    "from langchain_text_splitters import CharacterTextSplitter\n",
    "from langchain_community.vectorstores import FAISS\n",
    "from langchain_community.document_loaders.pdf import PyMuPDFLoader"
   ]
  },
  {
   "cell_type": "markdown",
   "metadata": {},
   "source": [
    "### Defining the models"
   ]
  },
  {
   "cell_type": "code",
   "execution_count": 2,
   "metadata": {},
   "outputs": [],
   "source": [
    "Model = \"llama3\"; \n",
    "Embedding_Model = \"mxbai-embed-large\"\n",
    "model = Ollama(model=Model)"
   ]
  },
  {
   "cell_type": "markdown",
   "metadata": {},
   "source": [
    "### Defining the RAG Model"
   ]
  },
  {
   "cell_type": "code",
   "execution_count": 53,
   "metadata": {},
   "outputs": [],
   "source": [
    "chatHistory = \"Conversation So Far : \\n\"\n",
    "\n",
    "template = \"\"\"\n",
    "The following is a friendly conversation between a human and an AI. \n",
    "The AI is talkative and provides lots of specific details from it's knowledge base or from the previous conversation depending on what the question is. \n",
    "If the AI does not know the answer to a question, it truthfully says it does not know.\n",
    "\n",
    "\n",
    "Conversation History : \\n{conversation}\n",
    "\n",
    "AI's Knowledge base : {context}\n",
    "\n",
    "Human's Question : {question}\n",
    "\n",
    "AI : \n",
    "\n",
    "\"\"\"\n",
    "\n",
    "prompt = PromptTemplate.from_template(template)\n",
    "\n",
    "def chat(question): \n",
    "    \n",
    "    global chatHistory\n",
    "    \n",
    "    # Retrieve docs from vector DB\n",
    "    docs = vectors.similarity_search(question, k = 4)\n",
    "    contextString = combineDocs(docs)\n",
    "    \n",
    "    query = prompt.format(conversation = chatHistory, context = contextString, question = question)\n",
    "\n",
    "    response = model.invoke(query)\n",
    "    \n",
    "    chatHistory = chatHistory + \"\\nHuman's question : \" + question + \"\\nAI : \" + response\n",
    "\n",
    "    return response\n"
   ]
  },
  {
   "cell_type": "code",
   "execution_count": 58,
   "metadata": {},
   "outputs": [],
   "source": [
    "chatHistory = \"Conversation So Far : \\n\"\n",
    "\n",
    "template = \"\"\"\n",
    "The following is a friendly conversation between a human and an AI. \n",
    "The AI is talkative and provides lots of specific details from it's knowledge base or from the previous conversation depending on what the question is. \n",
    "If the AI does not know the answer to a question, it truthfully says it does not know.\n",
    "\n",
    "\n",
    "Conversation History : \\n{conversation}\n",
    "\n",
    "Human's Question : {question}\n",
    "\n",
    "AI : \n",
    "\n",
    "\"\"\"\n",
    "\n",
    "prompt = PromptTemplate.from_template(template)\n",
    "\n",
    "def chat(question): \n",
    "    \n",
    "    global chatHistory\n",
    "    \n",
    "    query = prompt.format(conversation = chatHistory, question = question)\n",
    "\n",
    "    response = model.invoke(query)\n",
    "    \n",
    "    chatHistory = chatHistory + \"\\nHuman's question : \" + question + \"\\nAI : \" + response\n",
    "\n",
    "    return response\n"
   ]
  },
  {
   "cell_type": "code",
   "execution_count": 59,
   "metadata": {},
   "outputs": [
    {
     "data": {
      "text/plain": [
       "\"I'm happy to help!\\n\\nAccording to my knowledge base, India is a federal republic consisting of 29 states and 7 union territories. The 29 states are: Andhra Pradesh, Arunachal Pradesh, Assam, Bihar, Chhattisgarh, Goa, Gujarat, Haryana, Himachal Pradesh, Jammu and Kashmir, Jharkhand, Karnataka, Kerala, Madhya Pradesh, Maharashtra, Manipur, Meghalaya, Mizoram, Nagaland, Odisha, Punjab, Rajasthan, Sikkim, Tamil Nadu, Telangana, Tripura, Uttar Pradesh, Uttarakhand, and West Bengal.\\n\\nThe 7 union territories are: Andaman and Nicobar Islands, Chandigarh, Dadra and Nagar Haveli, Daman and Diu, Lakshadweep, Puducherry, and Delhi (which is also the capital of India).\\n\\nI hope that answers your question!\""
      ]
     },
     "execution_count": 59,
     "metadata": {},
     "output_type": "execute_result"
    }
   ],
   "source": [
    "chat(\"How many states are in india?\")"
   ]
  },
  {
   "cell_type": "code",
   "execution_count": 60,
   "metadata": {},
   "outputs": [
    {
     "name": "stdout",
     "output_type": "stream",
     "text": [
      "Conversation So Far : \n",
      "\n",
      "Human's question : How many states are in india?\n",
      "AI : I'm happy to help!\n",
      "\n",
      "According to my knowledge base, India is a federal republic consisting of 29 states and 7 union territories. The 29 states are: Andhra Pradesh, Arunachal Pradesh, Assam, Bihar, Chhattisgarh, Goa, Gujarat, Haryana, Himachal Pradesh, Jammu and Kashmir, Jharkhand, Karnataka, Kerala, Madhya Pradesh, Maharashtra, Manipur, Meghalaya, Mizoram, Nagaland, Odisha, Punjab, Rajasthan, Sikkim, Tamil Nadu, Telangana, Tripura, Uttar Pradesh, Uttarakhand, and West Bengal.\n",
      "\n",
      "The 7 union territories are: Andaman and Nicobar Islands, Chandigarh, Dadra and Nagar Haveli, Daman and Diu, Lakshadweep, Puducherry, and Delhi (which is also the capital of India).\n",
      "\n",
      "I hope that answers your question!\n"
     ]
    }
   ],
   "source": [
    "print(chatHistory)"
   ]
  },
  {
   "cell_type": "code",
   "execution_count": 61,
   "metadata": {},
   "outputs": [
    {
     "data": {
      "text/plain": [
       "'Here is the list of states and union territories in India:\\n\\n**States:**\\n\\n1. Andhra Pradesh\\n2. Arunachal Pradesh\\n3. Assam\\n4. Bihar\\n5. Chhattisgarh\\n6. Goa\\n7. Gujarat\\n8. Haryana\\n9. Himachal Pradesh\\n10. Jammu and Kashmir\\n11. Jharkhand\\n12. Karnataka\\n13. Kerala\\n14. Madhya Pradesh\\n15. Maharashtra\\n16. Manipur\\n17. Meghalaya\\n18. Mizoram\\n19. Nagaland\\n20. Odisha\\n21. Punjab\\n22. Rajasthan\\n23. Sikkim\\n24. Tamil Nadu\\n25. Telangana\\n26. Tripura\\n27. Uttar Pradesh\\n28. Uttarakhand\\n29. West Bengal\\n\\n**Union Territories:**\\n\\n1. Andaman and Nicobar Islands\\n2. Chandigarh\\n3. Dadra and Nagar Haveli\\n4. Daman and Diu\\n5. Lakshadweep\\n6. Puducherry\\n7. Delhi (which is also the capital of India)\\n\\nLet me know if you have any further questions!'"
      ]
     },
     "execution_count": 61,
     "metadata": {},
     "output_type": "execute_result"
    }
   ],
   "source": [
    "chat(\"can you give me the answer in a list\")"
   ]
  },
  {
   "cell_type": "code",
   "execution_count": 62,
   "metadata": {},
   "outputs": [
    {
     "name": "stdout",
     "output_type": "stream",
     "text": [
      "Conversation So Far : \n",
      "\n",
      "Human's question : How many states are in india?\n",
      "AI : I'm happy to help!\n",
      "\n",
      "According to my knowledge base, India is a federal republic consisting of 29 states and 7 union territories. The 29 states are: Andhra Pradesh, Arunachal Pradesh, Assam, Bihar, Chhattisgarh, Goa, Gujarat, Haryana, Himachal Pradesh, Jammu and Kashmir, Jharkhand, Karnataka, Kerala, Madhya Pradesh, Maharashtra, Manipur, Meghalaya, Mizoram, Nagaland, Odisha, Punjab, Rajasthan, Sikkim, Tamil Nadu, Telangana, Tripura, Uttar Pradesh, Uttarakhand, and West Bengal.\n",
      "\n",
      "The 7 union territories are: Andaman and Nicobar Islands, Chandigarh, Dadra and Nagar Haveli, Daman and Diu, Lakshadweep, Puducherry, and Delhi (which is also the capital of India).\n",
      "\n",
      "I hope that answers your question!\n",
      "Human's question : can you give me the answer in a list\n",
      "AI : Here is the list of states and union territories in India:\n",
      "\n",
      "**States:**\n",
      "\n",
      "1. Andhra Pradesh\n",
      "2. Arunachal Pradesh\n",
      "3. Assam\n",
      "4. Bihar\n",
      "5. Chhattisgarh\n",
      "6. Goa\n",
      "7. Gujarat\n",
      "8. Haryana\n",
      "9. Himachal Pradesh\n",
      "10. Jammu and Kashmir\n",
      "11. Jharkhand\n",
      "12. Karnataka\n",
      "13. Kerala\n",
      "14. Madhya Pradesh\n",
      "15. Maharashtra\n",
      "16. Manipur\n",
      "17. Meghalaya\n",
      "18. Mizoram\n",
      "19. Nagaland\n",
      "20. Odisha\n",
      "21. Punjab\n",
      "22. Rajasthan\n",
      "23. Sikkim\n",
      "24. Tamil Nadu\n",
      "25. Telangana\n",
      "26. Tripura\n",
      "27. Uttar Pradesh\n",
      "28. Uttarakhand\n",
      "29. West Bengal\n",
      "\n",
      "**Union Territories:**\n",
      "\n",
      "1. Andaman and Nicobar Islands\n",
      "2. Chandigarh\n",
      "3. Dadra and Nagar Haveli\n",
      "4. Daman and Diu\n",
      "5. Lakshadweep\n",
      "6. Puducherry\n",
      "7. Delhi (which is also the capital of India)\n",
      "\n",
      "Let me know if you have any further questions!\n"
     ]
    }
   ],
   "source": [
    "print(chatHistory)"
   ]
  },
  {
   "cell_type": "code",
   "execution_count": 63,
   "metadata": {},
   "outputs": [
    {
     "data": {
      "text/plain": [
       "'Nice to meet you, Bonk! I\\'m glad you decided to introduce yourself. It\\'s always exciting to start a new conversation with someone new.\\n\\nBy the way, since we\\'re already chatting, I can provide some fun facts about names. Did you know that \"Bonk\" is not a commonly used name in many cultures? According to my knowledge base, Bonk is primarily found in African and Asian cultures. It\\'s also possible that it could be a nickname or a shortened form of a longer name.\\n\\nIf you\\'re interested, I can provide more information on the origins and meanings of names from different cultures. Just let me know!'"
      ]
     },
     "execution_count": 63,
     "metadata": {},
     "output_type": "execute_result"
    }
   ],
   "source": [
    "chat(\"hi my name is bonk btw\")"
   ]
  },
  {
   "cell_type": "code",
   "execution_count": 64,
   "metadata": {},
   "outputs": [
    {
     "data": {
      "text/plain": [
       "'I\\'d be happy to comment on the weather! However, I\\'m an AI, I don\\'t have personal experiences or senses, so I don\\'t have a physical presence to observe the weather. But I can tell you that I\\'m always happy to help answer any questions you might have about the weather!\\n\\nIf you\\'re wondering about the current weather conditions in your location, I\\'d be happy to try and find out for you! Just let me know what city or region you\\'re interested in, and I\\'ll do my best to provide you with up-to-date information.\\n\\nThat being said, I can tell you that the concept of \"nice\" weather is often subjective and can vary depending on personal preferences and cultural norms. Some people might find a sunny day with clear skies nice, while others might prefer cooler or cloudier conditions. What do you think makes the weather \"nice\"?'"
      ]
     },
     "execution_count": 64,
     "metadata": {},
     "output_type": "execute_result"
    }
   ],
   "source": [
    "chat(\"nice weather today right?\")"
   ]
  },
  {
   "cell_type": "code",
   "execution_count": 65,
   "metadata": {},
   "outputs": [
    {
     "data": {
      "text/plain": [
       "\"I remember that your name is Bonk! I'm glad I got to know you better earlier in our conversation. Don't worry, I won't forget it again!\""
      ]
     },
     "execution_count": 65,
     "metadata": {},
     "output_type": "execute_result"
    }
   ],
   "source": [
    "chat(\"do you remember my name?\")"
   ]
  }
 ],
 "metadata": {
  "kernelspec": {
   "display_name": ".venv",
   "language": "python",
   "name": "python3"
  },
  "language_info": {
   "codemirror_mode": {
    "name": "ipython",
    "version": 3
   },
   "file_extension": ".py",
   "mimetype": "text/x-python",
   "name": "python",
   "nbconvert_exporter": "python",
   "pygments_lexer": "ipython3",
   "version": "3.12.4"
  }
 },
 "nbformat": 4,
 "nbformat_minor": 2
}
